{
  "nbformat": 4,
  "nbformat_minor": 0,
  "metadata": {
    "colab": {
      "name": "1140p Sun Apr 19 Unit 2 u2s2m4 DS_Sprint_Challenge_6.ipynb",
      "provenance": [],
      "collapsed_sections": [],
      "include_colab_link": true
    },
    "kernelspec": {
      "display_name": "Python 3",
      "language": "python",
      "name": "python3"
    },
    "language_info": {
      "codemirror_mode": {
        "name": "ipython",
        "version": 3
      },
      "file_extension": ".py",
      "mimetype": "text/x-python",
      "name": "python",
      "nbconvert_exporter": "python",
      "pygments_lexer": "ipython3",
      "version": "3.7.3"
    }
  },
  "cells": [
    {
      "cell_type": "markdown",
      "metadata": {
        "id": "view-in-github",
        "colab_type": "text"
      },
      "source": [
        "<a href=\"https://colab.research.google.com/github/LambdaTheda/DS-Unit-2-Kaggle-Challenge/blob/master/1140p_Sun_Apr_19_Unit_2_u2s2m4_DS_Sprint_Challenge_6.ipynb\" target=\"_parent\"><img src=\"https://colab.research.google.com/assets/colab-badge.svg\" alt=\"Open In Colab\"/></a>"
      ]
    },
    {
      "cell_type": "markdown",
      "metadata": {
        "colab_type": "text",
        "id": "M3XH_XLsy_Bn"
      },
      "source": [
        "_Lambda School Data Science, Unit 2_\n",
        " \n",
        "# Sprint Challenge: Predict Steph Curry's shots 🏀\n",
        "\n",
        "For your Sprint Challenge, you'll use a dataset with all Steph Curry's NBA field goal attempts. (Regular season and playoff games, from October 28, 2009, through June 5, 2019.) \n",
        "\n",
        "You'll predict whether each shot was made, using information about the shot and the game. This is hard to predict! Try to get above 60% accuracy. The dataset was collected with the [nba_api](https://github.com/swar/nba_api) Python library."
      ]
    },
    {
      "cell_type": "code",
      "metadata": {
        "colab_type": "code",
        "id": "Nw3CL7TE7tNq",
        "colab": {}
      },
      "source": [
        "%%capture\n",
        "import sys\n",
        "\n",
        "if 'google.colab' in sys.modules:\n",
        "    # Install packages in Colab\n",
        "    !pip install category_encoders==2.*\n",
        "    !pip install pandas-profiling==2.*"
      ],
      "execution_count": 0,
      "outputs": []
    },
    {
      "cell_type": "code",
      "metadata": {
        "colab_type": "code",
        "id": "-Nm24pCHy_Bo",
        "outputId": "f2509ea2-f992-476d-b7ac-506c4b4bca81",
        "colab": {
          "base_uri": "https://localhost:8080/",
          "height": 308
        }
      },
      "source": [
        "# Read data\n",
        "import pandas as pd\n",
        "url = 'https://drive.google.com/uc?export=download&id=1fL7KPyxgGYfQDsuJoBWHIWwCAf-HTFpX'\n",
        "df = pd.read_csv(url)\n",
        "\n",
        "# Check data shape\n",
        "assert df.shape == (13958, 20)\n",
        "\n",
        "#Explore data\n",
        "df.shape # assertion above checks\n",
        "\n",
        "df.describe()"
      ],
      "execution_count": 0,
      "outputs": [
        {
          "output_type": "execute_result",
          "data": {
            "text/html": [
              "<div>\n",
              "<style scoped>\n",
              "    .dataframe tbody tr th:only-of-type {\n",
              "        vertical-align: middle;\n",
              "    }\n",
              "\n",
              "    .dataframe tbody tr th {\n",
              "        vertical-align: top;\n",
              "    }\n",
              "\n",
              "    .dataframe thead th {\n",
              "        text-align: right;\n",
              "    }\n",
              "</style>\n",
              "<table border=\"1\" class=\"dataframe\">\n",
              "  <thead>\n",
              "    <tr style=\"text-align: right;\">\n",
              "      <th></th>\n",
              "      <th>game_id</th>\n",
              "      <th>game_event_id</th>\n",
              "      <th>period</th>\n",
              "      <th>minutes_remaining</th>\n",
              "      <th>seconds_remaining</th>\n",
              "      <th>shot_distance</th>\n",
              "      <th>loc_x</th>\n",
              "      <th>loc_y</th>\n",
              "      <th>shot_made_flag</th>\n",
              "      <th>scoremargin_before_shot</th>\n",
              "    </tr>\n",
              "  </thead>\n",
              "  <tbody>\n",
              "    <tr>\n",
              "      <th>count</th>\n",
              "      <td>1.395800e+04</td>\n",
              "      <td>13958.000000</td>\n",
              "      <td>13958.000000</td>\n",
              "      <td>13958.000000</td>\n",
              "      <td>13958.000000</td>\n",
              "      <td>13958.000000</td>\n",
              "      <td>13958.000000</td>\n",
              "      <td>13958.000000</td>\n",
              "      <td>13958.000000</td>\n",
              "      <td>13958.000000</td>\n",
              "    </tr>\n",
              "    <tr>\n",
              "      <th>mean</th>\n",
              "      <td>2.442837e+07</td>\n",
              "      <td>270.438458</td>\n",
              "      <td>2.412380</td>\n",
              "      <td>4.727540</td>\n",
              "      <td>28.506376</td>\n",
              "      <td>17.600373</td>\n",
              "      <td>-0.554162</td>\n",
              "      <td>131.257988</td>\n",
              "      <td>0.472919</td>\n",
              "      <td>1.615561</td>\n",
              "    </tr>\n",
              "    <tr>\n",
              "      <th>std</th>\n",
              "      <td>7.226620e+06</td>\n",
              "      <td>169.927170</td>\n",
              "      <td>1.125828</td>\n",
              "      <td>3.331646</td>\n",
              "      <td>17.597701</td>\n",
              "      <td>10.295807</td>\n",
              "      <td>124.721869</td>\n",
              "      <td>102.666562</td>\n",
              "      <td>0.499284</td>\n",
              "      <td>10.127139</td>\n",
              "    </tr>\n",
              "    <tr>\n",
              "      <th>min</th>\n",
              "      <td>2.090002e+07</td>\n",
              "      <td>2.000000</td>\n",
              "      <td>1.000000</td>\n",
              "      <td>0.000000</td>\n",
              "      <td>0.000000</td>\n",
              "      <td>0.000000</td>\n",
              "      <td>-250.000000</td>\n",
              "      <td>-41.000000</td>\n",
              "      <td>0.000000</td>\n",
              "      <td>-39.000000</td>\n",
              "    </tr>\n",
              "    <tr>\n",
              "      <th>25%</th>\n",
              "      <td>2.120091e+07</td>\n",
              "      <td>109.000000</td>\n",
              "      <td>1.000000</td>\n",
              "      <td>2.000000</td>\n",
              "      <td>13.000000</td>\n",
              "      <td>8.000000</td>\n",
              "      <td>-96.000000</td>\n",
              "      <td>23.000000</td>\n",
              "      <td>0.000000</td>\n",
              "      <td>-4.000000</td>\n",
              "    </tr>\n",
              "    <tr>\n",
              "      <th>50%</th>\n",
              "      <td>2.150026e+07</td>\n",
              "      <td>275.500000</td>\n",
              "      <td>2.000000</td>\n",
              "      <td>4.000000</td>\n",
              "      <td>29.000000</td>\n",
              "      <td>22.000000</td>\n",
              "      <td>1.000000</td>\n",
              "      <td>141.000000</td>\n",
              "      <td>0.000000</td>\n",
              "      <td>1.000000</td>\n",
              "    </tr>\n",
              "    <tr>\n",
              "      <th>75%</th>\n",
              "      <td>2.170096e+07</td>\n",
              "      <td>398.000000</td>\n",
              "      <td>3.000000</td>\n",
              "      <td>7.000000</td>\n",
              "      <td>44.000000</td>\n",
              "      <td>25.000000</td>\n",
              "      <td>95.000000</td>\n",
              "      <td>219.000000</td>\n",
              "      <td>1.000000</td>\n",
              "      <td>8.000000</td>\n",
              "    </tr>\n",
              "    <tr>\n",
              "      <th>max</th>\n",
              "      <td>4.180040e+07</td>\n",
              "      <td>752.000000</td>\n",
              "      <td>6.000000</td>\n",
              "      <td>11.000000</td>\n",
              "      <td>59.000000</td>\n",
              "      <td>83.000000</td>\n",
              "      <td>247.000000</td>\n",
              "      <td>811.000000</td>\n",
              "      <td>1.000000</td>\n",
              "      <td>43.000000</td>\n",
              "    </tr>\n",
              "  </tbody>\n",
              "</table>\n",
              "</div>"
            ],
            "text/plain": [
              "            game_id  game_event_id  ...  shot_made_flag  scoremargin_before_shot\n",
              "count  1.395800e+04   13958.000000  ...    13958.000000             13958.000000\n",
              "mean   2.442837e+07     270.438458  ...        0.472919                 1.615561\n",
              "std    7.226620e+06     169.927170  ...        0.499284                10.127139\n",
              "min    2.090002e+07       2.000000  ...        0.000000               -39.000000\n",
              "25%    2.120091e+07     109.000000  ...        0.000000                -4.000000\n",
              "50%    2.150026e+07     275.500000  ...        0.000000                 1.000000\n",
              "75%    2.170096e+07     398.000000  ...        1.000000                 8.000000\n",
              "max    4.180040e+07     752.000000  ...        1.000000                43.000000\n",
              "\n",
              "[8 rows x 10 columns]"
            ]
          },
          "metadata": {
            "tags": []
          },
          "execution_count": 111
        }
      ]
    },
    {
      "cell_type": "code",
      "metadata": {
        "id": "pB14TplJ4uLt",
        "colab_type": "code",
        "outputId": "e8ac8e6a-b4d4-4ec7-a25c-04ff61af137f",
        "colab": {
          "base_uri": "https://localhost:8080/",
          "height": 305
        }
      },
      "source": [
        "df.head()"
      ],
      "execution_count": 0,
      "outputs": [
        {
          "output_type": "execute_result",
          "data": {
            "text/html": [
              "<div>\n",
              "<style scoped>\n",
              "    .dataframe tbody tr th:only-of-type {\n",
              "        vertical-align: middle;\n",
              "    }\n",
              "\n",
              "    .dataframe tbody tr th {\n",
              "        vertical-align: top;\n",
              "    }\n",
              "\n",
              "    .dataframe thead th {\n",
              "        text-align: right;\n",
              "    }\n",
              "</style>\n",
              "<table border=\"1\" class=\"dataframe\">\n",
              "  <thead>\n",
              "    <tr style=\"text-align: right;\">\n",
              "      <th></th>\n",
              "      <th>game_id</th>\n",
              "      <th>game_event_id</th>\n",
              "      <th>player_name</th>\n",
              "      <th>period</th>\n",
              "      <th>minutes_remaining</th>\n",
              "      <th>seconds_remaining</th>\n",
              "      <th>action_type</th>\n",
              "      <th>shot_type</th>\n",
              "      <th>shot_zone_basic</th>\n",
              "      <th>shot_zone_area</th>\n",
              "      <th>shot_zone_range</th>\n",
              "      <th>shot_distance</th>\n",
              "      <th>loc_x</th>\n",
              "      <th>loc_y</th>\n",
              "      <th>shot_made_flag</th>\n",
              "      <th>game_date</th>\n",
              "      <th>htm</th>\n",
              "      <th>vtm</th>\n",
              "      <th>season_type</th>\n",
              "      <th>scoremargin_before_shot</th>\n",
              "    </tr>\n",
              "  </thead>\n",
              "  <tbody>\n",
              "    <tr>\n",
              "      <th>0</th>\n",
              "      <td>20900015</td>\n",
              "      <td>4</td>\n",
              "      <td>Stephen Curry</td>\n",
              "      <td>1</td>\n",
              "      <td>11</td>\n",
              "      <td>25</td>\n",
              "      <td>Jump Shot</td>\n",
              "      <td>3PT Field Goal</td>\n",
              "      <td>Above the Break 3</td>\n",
              "      <td>Right Side Center(RC)</td>\n",
              "      <td>24+ ft.</td>\n",
              "      <td>26</td>\n",
              "      <td>99</td>\n",
              "      <td>249</td>\n",
              "      <td>0</td>\n",
              "      <td>2009-10-28</td>\n",
              "      <td>GSW</td>\n",
              "      <td>HOU</td>\n",
              "      <td>Regular Season</td>\n",
              "      <td>2.0</td>\n",
              "    </tr>\n",
              "    <tr>\n",
              "      <th>1</th>\n",
              "      <td>20900015</td>\n",
              "      <td>17</td>\n",
              "      <td>Stephen Curry</td>\n",
              "      <td>1</td>\n",
              "      <td>9</td>\n",
              "      <td>31</td>\n",
              "      <td>Step Back Jump shot</td>\n",
              "      <td>2PT Field Goal</td>\n",
              "      <td>Mid-Range</td>\n",
              "      <td>Left Side Center(LC)</td>\n",
              "      <td>16-24 ft.</td>\n",
              "      <td>18</td>\n",
              "      <td>-122</td>\n",
              "      <td>145</td>\n",
              "      <td>1</td>\n",
              "      <td>2009-10-28</td>\n",
              "      <td>GSW</td>\n",
              "      <td>HOU</td>\n",
              "      <td>Regular Season</td>\n",
              "      <td>0.0</td>\n",
              "    </tr>\n",
              "    <tr>\n",
              "      <th>2</th>\n",
              "      <td>20900015</td>\n",
              "      <td>53</td>\n",
              "      <td>Stephen Curry</td>\n",
              "      <td>1</td>\n",
              "      <td>6</td>\n",
              "      <td>2</td>\n",
              "      <td>Jump Shot</td>\n",
              "      <td>2PT Field Goal</td>\n",
              "      <td>In The Paint (Non-RA)</td>\n",
              "      <td>Center(C)</td>\n",
              "      <td>8-16 ft.</td>\n",
              "      <td>14</td>\n",
              "      <td>-60</td>\n",
              "      <td>129</td>\n",
              "      <td>0</td>\n",
              "      <td>2009-10-28</td>\n",
              "      <td>GSW</td>\n",
              "      <td>HOU</td>\n",
              "      <td>Regular Season</td>\n",
              "      <td>-4.0</td>\n",
              "    </tr>\n",
              "    <tr>\n",
              "      <th>3</th>\n",
              "      <td>20900015</td>\n",
              "      <td>141</td>\n",
              "      <td>Stephen Curry</td>\n",
              "      <td>2</td>\n",
              "      <td>9</td>\n",
              "      <td>49</td>\n",
              "      <td>Jump Shot</td>\n",
              "      <td>2PT Field Goal</td>\n",
              "      <td>Mid-Range</td>\n",
              "      <td>Left Side(L)</td>\n",
              "      <td>16-24 ft.</td>\n",
              "      <td>19</td>\n",
              "      <td>-172</td>\n",
              "      <td>82</td>\n",
              "      <td>0</td>\n",
              "      <td>2009-10-28</td>\n",
              "      <td>GSW</td>\n",
              "      <td>HOU</td>\n",
              "      <td>Regular Season</td>\n",
              "      <td>-4.0</td>\n",
              "    </tr>\n",
              "    <tr>\n",
              "      <th>4</th>\n",
              "      <td>20900015</td>\n",
              "      <td>249</td>\n",
              "      <td>Stephen Curry</td>\n",
              "      <td>2</td>\n",
              "      <td>2</td>\n",
              "      <td>19</td>\n",
              "      <td>Jump Shot</td>\n",
              "      <td>2PT Field Goal</td>\n",
              "      <td>Mid-Range</td>\n",
              "      <td>Left Side Center(LC)</td>\n",
              "      <td>16-24 ft.</td>\n",
              "      <td>16</td>\n",
              "      <td>-68</td>\n",
              "      <td>148</td>\n",
              "      <td>0</td>\n",
              "      <td>2009-10-28</td>\n",
              "      <td>GSW</td>\n",
              "      <td>HOU</td>\n",
              "      <td>Regular Season</td>\n",
              "      <td>0.0</td>\n",
              "    </tr>\n",
              "  </tbody>\n",
              "</table>\n",
              "</div>"
            ],
            "text/plain": [
              "    game_id  game_event_id  ...     season_type  scoremargin_before_shot\n",
              "0  20900015              4  ...  Regular Season                      2.0\n",
              "1  20900015             17  ...  Regular Season                      0.0\n",
              "2  20900015             53  ...  Regular Season                     -4.0\n",
              "3  20900015            141  ...  Regular Season                     -4.0\n",
              "4  20900015            249  ...  Regular Season                      0.0\n",
              "\n",
              "[5 rows x 20 columns]"
            ]
          },
          "metadata": {
            "tags": []
          },
          "execution_count": 112
        }
      ]
    },
    {
      "cell_type": "code",
      "metadata": {
        "id": "BMHPB1Pf4GSj",
        "colab_type": "code",
        "outputId": "9b6b4a1e-4c74-4201-d8cd-11a1d0e69ec2",
        "colab": {
          "base_uri": "https://localhost:8080/",
          "height": 35
        }
      },
      "source": [
        "# Number of unique Visiting Teams \n",
        "df['vtm'].nunique() # returns 32"
      ],
      "execution_count": 0,
      "outputs": [
        {
          "output_type": "execute_result",
          "data": {
            "text/plain": [
              "32"
            ]
          },
          "metadata": {
            "tags": []
          },
          "execution_count": 113
        }
      ]
    },
    {
      "cell_type": "code",
      "metadata": {
        "id": "6XhsbqTxYfHn",
        "colab_type": "code",
        "outputId": "e91f221b-feee-498b-c4a9-668454c30434",
        "colab": {
          "base_uri": "https://localhost:8080/",
          "height": 86
        }
      },
      "source": [
        "# List of 32 Visiting Teams \n",
        "df['vtm'].unique()"
      ],
      "execution_count": 0,
      "outputs": [
        {
          "output_type": "execute_result",
          "data": {
            "text/plain": [
              "array(['HOU', 'GSW', 'MEM', 'LAC', 'MIN', 'POR', 'LAL', 'IND', 'ORL',\n",
              "       'SAS', 'WAS', 'PHX', 'BOS', 'SAC', 'CLE', 'MIA', 'MIL', 'CHI',\n",
              "       'DEN', 'NJN', 'NOH', 'CHA', 'OKC', 'DAL', 'UTA', 'ATL', 'PHI',\n",
              "       'DET', 'TOR', 'NYK', 'BKN', 'NOP'], dtype=object)"
            ]
          },
          "metadata": {
            "tags": []
          },
          "execution_count": 114
        }
      ]
    },
    {
      "cell_type": "markdown",
      "metadata": {
        "colab_type": "text",
        "id": "B8BvDKLFy_Bq"
      },
      "source": [
        "To demonstrate mastery on your Sprint Challenge, do all the required, numbered instructions in this notebook.\n",
        "\n",
        "To earn a score of \"3\", also do all the stretch goals.\n",
        "\n",
        "You are permitted and encouraged to do as much data exploration as you want.\n",
        "\n",
        "**1. Begin with baselines for classification.** Your target to predict is `shot_made_flag`. What is your baseline accuracy, if you guessed the majority class for every prediction?\n",
        "\n",
        "**2. Hold out your test set.** Use the 2018-19 season to test. NBA seasons begin in October and end in June. You'll know you've split the data correctly when your test set has 1,709 observations.\n",
        "\n",
        "**3. Engineer new feature.** Engineer at least **1** new feature, from this list, or your own idea.\n",
        "- **Homecourt Advantage**: Is the home team (`htm`) the Golden State Warriors (`GSW`) ?\n",
        "- **Opponent**: Who is the other team playing the Golden State Warriors?\n",
        "- **Seconds remaining in the period**: Combine minutes remaining with seconds remaining, to get the total number of seconds remaining in the period.\n",
        "- **Seconds remaining in the game**: Combine period, and seconds remaining in the period, to get the total number of seconds remaining in the game. A basketball game has 4 periods, each 12 minutes long.\n",
        "- **Made previous shot**: Was Steph Curry's previous shot successful?\n",
        "\n",
        "**4. Decide how to validate** your model. Choose one of the following options. Any of these options are good. You are not graded on which you choose.\n",
        "- **Train/validate/test split: train on the 2009-10 season through 2016-17 season, validate with the 2017-18 season.** You'll know you've split the data correctly when your train set has 11,081 observations, and your validation set has 1,168 observations.\n",
        "- **Train/validate/test split: random 80/20%** train/validate split.\n",
        "- **Cross-validation** with independent test set. You may use any scikit-learn cross-validation method.\n",
        "\n",
        "**5.** Use a scikit-learn **pipeline** to **encode categoricals** and fit a **Decision Tree** or **Random Forest** model.\n",
        "\n",
        "**6.** Get your model's **validation accuracy.** (Multiple times if you try multiple iterations.) \n",
        "\n",
        "**7.** Get your model's **test accuracy.** (One time, at the end.)\n",
        "\n",
        "\n",
        "**8.** Given a **confusion matrix** for a hypothetical binary classification model, **calculate accuracy, precision, and recall.**\n",
        "\n",
        "### Stretch Goals\n",
        "- Engineer 4+ new features total, either from the list above, or your own ideas.\n",
        "- Make 2+ visualizations to explore relationships between features and target.\n",
        "- Optimize 3+ hyperparameters by trying 10+ \"candidates\" (possible combinations of hyperparameters). You can use `RandomizedSearchCV` or do it manually.\n",
        "- Get and plot your model's feature importances.\n",
        "\n"
      ]
    },
    {
      "cell_type": "markdown",
      "metadata": {
        "colab_type": "text",
        "id": "t6Jt3qjQ-zig"
      },
      "source": [
        "## 1. Begin with baselines for classification. \n",
        "\n",
        ">Your target to predict is `shot_made_flag`. What would your baseline accuracy be, if you guessed the majority class for every prediction?"
      ]
    },
    {
      "cell_type": "code",
      "metadata": {
        "colab_type": "code",
        "id": "I0BDeNFG_Kee",
        "outputId": "affec6a6-1410-4a87-9709-6ce40239775f",
        "colab": {
          "base_uri": "https://localhost:8080/",
          "height": 104
        }
      },
      "source": [
        "# 1. Begin with baselines for classification. Your target to predict is shot_made_flag. \n",
        "#    What is your baseline accuracy, if you guessed the majority class for every prediction?\n",
        "\n",
        "import category_encoders as ce\n",
        "from sklearn.impute import SimpleImputer\n",
        "from sklearn.metrics import accuracy_score\n",
        "from sklearn.model_selection import train_test_split\n",
        "from sklearn.pipeline import make_pipeline\n",
        "from sklearn.ensemble import RandomForestClassifier\n",
        "target = 'shot_made_flag'\n",
        "''' get test in assignment 2\n",
        "train, test = train_test_split(df, test_size=.2,  \n",
        "                              stratify=df[target], random_state=42)\n",
        "train, val = train_test_split(train, test_size=len(test),  \n",
        "                              stratify=train[target], random_state=42)\n",
        "'''\n",
        "train, val = train_test_split(df, test_size=.2,  \n",
        "                              stratify=df[target], random_state=42)\n",
        "\n",
        "# Arrange data into X features matrix and y target vector \n",
        "columnsToDrop = [target, 'game_id', 'game_event_id', 'player_name']\n",
        "X_train = train.drop(columns=columnsToDrop)\n",
        "y_train = train[target]\n",
        "X_val = val.drop(columns=columnsToDrop)\n",
        "y_val = val[target]\n",
        "#X_test = test.drop(columns=columnsToDrop)\n",
        "\n",
        "\n",
        "# Make pipeline!\n",
        "pipeline = make_pipeline(\n",
        "    ce.OrdinalEncoder(), \n",
        "    SimpleImputer(strategy='mean'), \n",
        "    RandomForestClassifier(n_estimators=100, random_state=42, n_jobs=-1)\n",
        ")\n",
        "\n",
        "# Fit on train, score on val\n",
        "pipeline.fit(X_train, y_train)\n",
        "y_pred = pipeline.predict(X_val)\n",
        "print('Validation Accuracy:', accuracy_score(y_val, y_pred))\n",
        "\n",
        "print('Majority class accuracy: 47.2919%')\n",
        "print(df[target].value_counts(normalize=True)) # 47% of time Curry gets shot in"
      ],
      "execution_count": 0,
      "outputs": [
        {
          "output_type": "stream",
          "text": [
            "Validation Accuracy: 0.6429083094555874\n",
            "Majority class accuracy: 47.2919%\n",
            "0    0.527081\n",
            "1    0.472919\n",
            "Name: shot_made_flag, dtype: float64\n"
          ],
          "name": "stdout"
        }
      ]
    },
    {
      "cell_type": "markdown",
      "metadata": {
        "colab_type": "text",
        "id": "Dz2QHBiVy_Br"
      },
      "source": [
        "## 2. Hold out your test set.\n",
        "\n",
        ">Use the 2018-19 season to test. NBA seasons begin in October and end in June. You'll know you've split the data correctly when your test set has 1,709 observations."
      ]
    },
    {
      "cell_type": "code",
      "metadata": {
        "colab_type": "code",
        "id": "OPod6lBG_wTT",
        "outputId": "0cd9b746-4adc-4192-d09e-cad58f84c880",
        "colab": {
          "base_uri": "https://localhost:8080/",
          "height": 35
        }
      },
      "source": [
        "test = df[df['game_date'] >= '2018-10-01']\n",
        "test = test.drop(columns=columnsToDrop)\n",
        "test.shape"
      ],
      "execution_count": 0,
      "outputs": [
        {
          "output_type": "execute_result",
          "data": {
            "text/plain": [
              "(1709, 16)"
            ]
          },
          "metadata": {
            "tags": []
          },
          "execution_count": 116
        }
      ]
    },
    {
      "cell_type": "markdown",
      "metadata": {
        "colab_type": "text",
        "id": "P9Nihzk6y_CF"
      },
      "source": [
        "## 3. Engineer new feature.\n",
        "\n",
        ">Engineer at least **1** new feature, from this list, or your own idea.\n",
        ">\n",
        ">- **Homecourt Advantage**: Is the home team (`htm`) the Golden State Warriors (`GSW`) ?\n",
        ">- **Opponent**: Who is the other team playing the Golden State Warriors?\n",
        ">- **Seconds remaining in the period**: Combine minutes remaining with seconds remaining, to get the total number of seconds remaining in the period.\n",
        ">- **Seconds remaining in the game**: Combine period, and seconds remaining in the period, to get the total number of seconds remaining in the game. A basketball game has 4 periods, each 12 minutes long.\n",
        ">- **Made previous shot**: Was Steph Curry's previous shot successful?\n",
        "\n",
        "    "
      ]
    },
    {
      "cell_type": "code",
      "metadata": {
        "colab_type": "code",
        "id": "A0pxdFtWy_Bz",
        "colab": {}
      },
      "source": [
        "# adding Homecourt Advantage feature\n",
        "def isHomeTeam(row):\n",
        "  if(row['htm'] == 'GSW'):\n",
        "    return 1\n",
        "  return 0\n",
        "\n",
        "df['homecourt_advantage'] = df.apply (lambda row: isHomeTeam(row), axis=1)"
      ],
      "execution_count": 0,
      "outputs": []
    },
    {
      "cell_type": "markdown",
      "metadata": {
        "colab_type": "text",
        "id": "eLs7pt7NFJLF"
      },
      "source": [
        "## **4. Decide how to validate** your model. \n",
        "\n",
        ">Choose one of the following options. Any of these options are good. You are not graded on which you choose.\n",
        ">\n",
        ">- **Train/validate/test split: train on the 2009-10 season through 2016-17 season, validate with the 2017-18 season.** You'll know you've split the data correctly when your train set has 11,081 observations, and your validation set has 1,168 observations.\n",
        ">- **Train/validate/test split: random 80/20%** train/validate split.\n",
        ">- **Cross-validation** with independent test set. You may use any scikit-learn cross-validation method."
      ]
    },
    {
      "cell_type": "code",
      "metadata": {
        "colab_type": "code",
        "id": "LJ58CceDISXR",
        "colab": {}
      },
      "source": [
        "#split\n",
        "train = df[df['game_date'] >= '2009-10-01']\n",
        "train = train[train['game_date'] < '2017-08-01']\n",
        "\n",
        "val = df[df['game_date'] >= '2017-10-01']\n",
        "val = val[val['game_date'] < '2018-08-01']\n",
        "\n",
        "test = df[df['game_date'] >= '2018-10-01']\n",
        "\n",
        "#choose which columns not to look at\n",
        "columnsToDrop = [target, 'game_id', 'game_event_id', 'player_name']\n",
        "\n",
        "#split into X and y\n",
        "X_train = train.drop(columns=columnsToDrop)\n",
        "y_train = train[target]\n",
        "\n",
        "X_val = val.drop(columns=columnsToDrop) #Cross-validation with independent test set- doesn't overlap w/training set\n",
        "y_val = val[target]\n",
        "\n",
        "X_test = test.drop(columns=columnsToDrop)\n",
        "y_test = test[target]"
      ],
      "execution_count": 0,
      "outputs": []
    },
    {
      "cell_type": "markdown",
      "metadata": {
        "colab_type": "text",
        "id": "oQ2lWlu7JPRt"
      },
      "source": [
        "## 5. Use a scikit-learn pipeline to encode categoricals and fit a Decision Tree or Random Forest model."
      ]
    },
    {
      "cell_type": "code",
      "metadata": {
        "colab_type": "code",
        "id": "X2S8mUuJy_CB",
        "colab": {}
      },
      "source": [
        "pipeline = make_pipeline(\n",
        "    ce.OrdinalEncoder(), \n",
        "    SimpleImputer(strategy='mean'), \n",
        "    RandomForestClassifier(n_estimators=100, random_state=42, n_jobs=-1)\n",
        ")\n",
        "#fit\n",
        "pipeline.fit(X_train, y_train)\n",
        "y_pred = pipeline.predict(X_val)"
      ],
      "execution_count": 0,
      "outputs": []
    },
    {
      "cell_type": "markdown",
      "metadata": {
        "colab_type": "text",
        "id": "8kJXxFpty_CH"
      },
      "source": [
        "## 6.Get your model's validation accuracy\n",
        "\n",
        "> (Multiple times if you try multiple iterations.)"
      ]
    },
    {
      "cell_type": "code",
      "metadata": {
        "colab_type": "code",
        "id": "7560JKvxy_CJ",
        "outputId": "4b65af51-1557-422b-d378-8bc4648fbce5",
        "colab": {
          "base_uri": "https://localhost:8080/",
          "height": 35
        }
      },
      "source": [
        "print('Validation Accuracy:', accuracy_score(y_val, y_pred))"
      ],
      "execution_count": 0,
      "outputs": [
        {
          "output_type": "stream",
          "text": [
            "Validation Accuracy: 0.5907534246575342\n"
          ],
          "name": "stdout"
        }
      ]
    },
    {
      "cell_type": "markdown",
      "metadata": {
        "colab_type": "text",
        "id": "YvyYY9tfy_CL"
      },
      "source": [
        "## 7. Get your model's test accuracy\n",
        "\n",
        "> (One time, at the end.)"
      ]
    },
    {
      "cell_type": "code",
      "metadata": {
        "colab_type": "code",
        "id": "wjV2dfl6y_CL",
        "outputId": "b8a3085e-fb4a-4800-ae12-bb571e6b76d0",
        "colab": {
          "base_uri": "https://localhost:8080/",
          "height": 35
        }
      },
      "source": [
        "test_pred = pipeline.predict(X_test)\n",
        "print('Test Accuracy:', accuracy_score(y_test, test_pred))"
      ],
      "execution_count": 0,
      "outputs": [
        {
          "output_type": "stream",
          "text": [
            "Test Accuracy: 0.6225863077823288\n"
          ],
          "name": "stdout"
        }
      ]
    },
    {
      "cell_type": "markdown",
      "metadata": {
        "id": "xGL5stLvJCn1",
        "colab_type": "text"
      },
      "source": [
        "## 8. Given a confusion matrix, calculate accuracy, precision, and recall.\n",
        "\n",
        "Imagine this is the confusion matrix for a binary classification model. Use the confusion matrix to calculate the model's accuracy, precision, and recall.\n",
        "\n",
        "<table>\n",
        "  <tr>\n",
        "    <td colspan=\"2\" rowspan=\"2\"></td>\n",
        "    <td colspan=\"2\">Predicted</td>\n",
        "  </tr>\n",
        "  <tr>\n",
        "    <td>Negative</td>\n",
        "    <td>Positive</td>\n",
        "  </tr>\n",
        "  <tr>\n",
        "    <td rowspan=\"2\">Actual</td>\n",
        "    <td>Negative</td>\n",
        "    <td style=\"border: solid\">85</td>\n",
        "    <td style=\"border: solid\">58</td>\n",
        "  </tr>\n",
        "  <tr>\n",
        "    <td>Positive</td>\n",
        "    <td style=\"border: solid\">8</td>\n",
        "    <td style=\"border: solid\"> 36</td>\n",
        "  </tr>\n",
        "</table>"
      ]
    },
    {
      "cell_type": "markdown",
      "metadata": {
        "id": "nEvt7NkUJNao",
        "colab_type": "text"
      },
      "source": [
        "### Calculate accuracy "
      ]
    },
    {
      "cell_type": "code",
      "metadata": {
        "id": "FFszS2A5JJmv",
        "colab_type": "code",
        "outputId": "81cc68d1-19a3-4cce-9da5-7a764bf60516",
        "colab": {
          "base_uri": "https://localhost:8080/",
          "height": 35
        }
      },
      "source": [
        "num_predictions = 85 + 58 + 8 + 36\n",
        "accurate_predictions = 85 + 36\n",
        "print('Accuracy:', accurate_predictions/num_predictions)"
      ],
      "execution_count": 0,
      "outputs": [
        {
          "output_type": "stream",
          "text": [
            "Accuracy: 0.6470588235294118\n"
          ],
          "name": "stdout"
        }
      ]
    },
    {
      "cell_type": "markdown",
      "metadata": {
        "id": "XjHTmk8sJO4v",
        "colab_type": "text"
      },
      "source": [
        "### Calculate precision"
      ]
    },
    {
      "cell_type": "code",
      "metadata": {
        "id": "7qX1gbcMJQS_",
        "colab_type": "code",
        "outputId": "250653b4-558e-42b5-b24f-e7447a24342c",
        "colab": {
          "base_uri": "https://localhost:8080/",
          "height": 52
        }
      },
      "source": [
        "'''\n",
        "Since the assignment didn't specify whether we look for\n",
        "positives or negatives, here are the precisions for both\n",
        "\n",
        "Precision = actual outcome / predicted outcome\n",
        "'''\n",
        "print('Positive Precision:', 36/(58+36))\n",
        "print('Negative Precision:', 85/(85+8))"
      ],
      "execution_count": 0,
      "outputs": [
        {
          "output_type": "stream",
          "text": [
            "Positive Precision: 0.3829787234042553\n",
            "Negative Precision: 0.9139784946236559\n"
          ],
          "name": "stdout"
        }
      ]
    },
    {
      "cell_type": "markdown",
      "metadata": {
        "id": "zQnQpdRbecmh",
        "colab_type": "text"
      },
      "source": [
        "Precision and recall are two extremely important model evaluation metrics. While **precision refers to the percentage of your results which are relevant, recall refers to the percentage of total relevant results correctly classified by your algorithm**.\n",
        "\n",
        "May 11, 2018\n",
        "towardsdatascience.com › precision-vs-recall-386cf9f89488"
      ]
    },
    {
      "cell_type": "markdown",
      "metadata": {
        "id": "pFug3ZKaJQ7A",
        "colab_type": "text"
      },
      "source": [
        "### Calculate recall"
      ]
    },
    {
      "cell_type": "code",
      "metadata": {
        "id": "L0OKc3JxJR4r",
        "colab_type": "code",
        "outputId": "d1c53be4-ca33-460a-e299-e958fbd7558d",
        "colab": {
          "base_uri": "https://localhost:8080/",
          "height": 52
        }
      },
      "source": [
        "#same for recall, including false negatives\n",
        "\n",
        "print('Positive Recall:', 36/(58+36+8))\n",
        "print('Negative Recall:', 85/(85+8+58))"
      ],
      "execution_count": 0,
      "outputs": [
        {
          "output_type": "stream",
          "text": [
            "Positive Recall: 0.35294117647058826\n",
            "Negative Recall: 0.5629139072847682\n"
          ],
          "name": "stdout"
        }
      ]
    },
    {
      "cell_type": "markdown",
      "metadata": {
        "id": "GCExrNzEM5Ha",
        "colab_type": "text"
      },
      "source": [
        "------------------------------------------\n",
        "#**Stretch Goals:** \n",
        "1) Engineer 4+ new features total, either from the list above, or your own ideas.\n",
        "\n",
        "2) Make 2+ visualizations to explore relationships between features and target.\n",
        "\n",
        "3) Optimize 3+ hyperparameters by trying 10+ \"candidates\" (possible combinations of hyperparameters).\n",
        "   You can use RandomizedSearchCV or do it manually.\n",
        "\n",
        "4) Get and plot your model's feature importances."
      ]
    },
    {
      "cell_type": "markdown",
      "metadata": {
        "id": "Ynn2ZsD9uLJs",
        "colab_type": "text"
      },
      "source": [
        "### 1) Engineer 4+ new features total, either from the list above, or your own ideas.\n"
      ]
    },
    {
      "cell_type": "markdown",
      "metadata": {
        "id": "dpZltgBYu99z",
        "colab_type": "text"
      },
      "source": [
        "**Feature #1**"
      ]
    },
    {
      "cell_type": "code",
      "metadata": {
        "id": "rASdPUJLM-nA",
        "colab_type": "code",
        "outputId": "ad3861f7-eb11-4f2b-83f8-d5fb9661c252",
        "colab": {
          "base_uri": "https://localhost:8080/",
          "height": 617
        }
      },
      "source": [
        "# adding 'isScrimmage' column: are the Golden State Warriors playing against themselves?\n",
        "\n",
        "def isOpponentGSW(row):\n",
        "  if(row['vtm'] != 'GSW'):\n",
        "    return 'No'   # if NOT 'GSW'\n",
        "  return 'Yes'    # if 'GSW', ie, perhaps scrimmaging against teammates\n",
        "\n",
        "df['isScrimmage?'] = df.apply(lambda row: isOpponentGSW(row), axis=1)\n",
        "\n",
        "df"
      ],
      "execution_count": 0,
      "outputs": [
        {
          "output_type": "execute_result",
          "data": {
            "text/html": [
              "<div>\n",
              "<style scoped>\n",
              "    .dataframe tbody tr th:only-of-type {\n",
              "        vertical-align: middle;\n",
              "    }\n",
              "\n",
              "    .dataframe tbody tr th {\n",
              "        vertical-align: top;\n",
              "    }\n",
              "\n",
              "    .dataframe thead th {\n",
              "        text-align: right;\n",
              "    }\n",
              "</style>\n",
              "<table border=\"1\" class=\"dataframe\">\n",
              "  <thead>\n",
              "    <tr style=\"text-align: right;\">\n",
              "      <th></th>\n",
              "      <th>game_id</th>\n",
              "      <th>game_event_id</th>\n",
              "      <th>player_name</th>\n",
              "      <th>period</th>\n",
              "      <th>minutes_remaining</th>\n",
              "      <th>seconds_remaining</th>\n",
              "      <th>action_type</th>\n",
              "      <th>shot_type</th>\n",
              "      <th>shot_zone_basic</th>\n",
              "      <th>shot_zone_area</th>\n",
              "      <th>shot_zone_range</th>\n",
              "      <th>shot_distance</th>\n",
              "      <th>loc_x</th>\n",
              "      <th>loc_y</th>\n",
              "      <th>shot_made_flag</th>\n",
              "      <th>game_date</th>\n",
              "      <th>htm</th>\n",
              "      <th>vtm</th>\n",
              "      <th>season_type</th>\n",
              "      <th>scoremargin_before_shot</th>\n",
              "      <th>homecourt_advantage</th>\n",
              "      <th>isScrimmage?</th>\n",
              "    </tr>\n",
              "  </thead>\n",
              "  <tbody>\n",
              "    <tr>\n",
              "      <th>0</th>\n",
              "      <td>20900015</td>\n",
              "      <td>4</td>\n",
              "      <td>Stephen Curry</td>\n",
              "      <td>1</td>\n",
              "      <td>11</td>\n",
              "      <td>25</td>\n",
              "      <td>Jump Shot</td>\n",
              "      <td>3PT Field Goal</td>\n",
              "      <td>Above the Break 3</td>\n",
              "      <td>Right Side Center(RC)</td>\n",
              "      <td>24+ ft.</td>\n",
              "      <td>26</td>\n",
              "      <td>99</td>\n",
              "      <td>249</td>\n",
              "      <td>0</td>\n",
              "      <td>2009-10-28</td>\n",
              "      <td>GSW</td>\n",
              "      <td>HOU</td>\n",
              "      <td>Regular Season</td>\n",
              "      <td>2.0</td>\n",
              "      <td>1</td>\n",
              "      <td>No</td>\n",
              "    </tr>\n",
              "    <tr>\n",
              "      <th>1</th>\n",
              "      <td>20900015</td>\n",
              "      <td>17</td>\n",
              "      <td>Stephen Curry</td>\n",
              "      <td>1</td>\n",
              "      <td>9</td>\n",
              "      <td>31</td>\n",
              "      <td>Step Back Jump shot</td>\n",
              "      <td>2PT Field Goal</td>\n",
              "      <td>Mid-Range</td>\n",
              "      <td>Left Side Center(LC)</td>\n",
              "      <td>16-24 ft.</td>\n",
              "      <td>18</td>\n",
              "      <td>-122</td>\n",
              "      <td>145</td>\n",
              "      <td>1</td>\n",
              "      <td>2009-10-28</td>\n",
              "      <td>GSW</td>\n",
              "      <td>HOU</td>\n",
              "      <td>Regular Season</td>\n",
              "      <td>0.0</td>\n",
              "      <td>1</td>\n",
              "      <td>No</td>\n",
              "    </tr>\n",
              "    <tr>\n",
              "      <th>2</th>\n",
              "      <td>20900015</td>\n",
              "      <td>53</td>\n",
              "      <td>Stephen Curry</td>\n",
              "      <td>1</td>\n",
              "      <td>6</td>\n",
              "      <td>2</td>\n",
              "      <td>Jump Shot</td>\n",
              "      <td>2PT Field Goal</td>\n",
              "      <td>In The Paint (Non-RA)</td>\n",
              "      <td>Center(C)</td>\n",
              "      <td>8-16 ft.</td>\n",
              "      <td>14</td>\n",
              "      <td>-60</td>\n",
              "      <td>129</td>\n",
              "      <td>0</td>\n",
              "      <td>2009-10-28</td>\n",
              "      <td>GSW</td>\n",
              "      <td>HOU</td>\n",
              "      <td>Regular Season</td>\n",
              "      <td>-4.0</td>\n",
              "      <td>1</td>\n",
              "      <td>No</td>\n",
              "    </tr>\n",
              "    <tr>\n",
              "      <th>3</th>\n",
              "      <td>20900015</td>\n",
              "      <td>141</td>\n",
              "      <td>Stephen Curry</td>\n",
              "      <td>2</td>\n",
              "      <td>9</td>\n",
              "      <td>49</td>\n",
              "      <td>Jump Shot</td>\n",
              "      <td>2PT Field Goal</td>\n",
              "      <td>Mid-Range</td>\n",
              "      <td>Left Side(L)</td>\n",
              "      <td>16-24 ft.</td>\n",
              "      <td>19</td>\n",
              "      <td>-172</td>\n",
              "      <td>82</td>\n",
              "      <td>0</td>\n",
              "      <td>2009-10-28</td>\n",
              "      <td>GSW</td>\n",
              "      <td>HOU</td>\n",
              "      <td>Regular Season</td>\n",
              "      <td>-4.0</td>\n",
              "      <td>1</td>\n",
              "      <td>No</td>\n",
              "    </tr>\n",
              "    <tr>\n",
              "      <th>4</th>\n",
              "      <td>20900015</td>\n",
              "      <td>249</td>\n",
              "      <td>Stephen Curry</td>\n",
              "      <td>2</td>\n",
              "      <td>2</td>\n",
              "      <td>19</td>\n",
              "      <td>Jump Shot</td>\n",
              "      <td>2PT Field Goal</td>\n",
              "      <td>Mid-Range</td>\n",
              "      <td>Left Side Center(LC)</td>\n",
              "      <td>16-24 ft.</td>\n",
              "      <td>16</td>\n",
              "      <td>-68</td>\n",
              "      <td>148</td>\n",
              "      <td>0</td>\n",
              "      <td>2009-10-28</td>\n",
              "      <td>GSW</td>\n",
              "      <td>HOU</td>\n",
              "      <td>Regular Season</td>\n",
              "      <td>0.0</td>\n",
              "      <td>1</td>\n",
              "      <td>No</td>\n",
              "    </tr>\n",
              "    <tr>\n",
              "      <th>...</th>\n",
              "      <td>...</td>\n",
              "      <td>...</td>\n",
              "      <td>...</td>\n",
              "      <td>...</td>\n",
              "      <td>...</td>\n",
              "      <td>...</td>\n",
              "      <td>...</td>\n",
              "      <td>...</td>\n",
              "      <td>...</td>\n",
              "      <td>...</td>\n",
              "      <td>...</td>\n",
              "      <td>...</td>\n",
              "      <td>...</td>\n",
              "      <td>...</td>\n",
              "      <td>...</td>\n",
              "      <td>...</td>\n",
              "      <td>...</td>\n",
              "      <td>...</td>\n",
              "      <td>...</td>\n",
              "      <td>...</td>\n",
              "      <td>...</td>\n",
              "      <td>...</td>\n",
              "    </tr>\n",
              "    <tr>\n",
              "      <th>13953</th>\n",
              "      <td>41800403</td>\n",
              "      <td>570</td>\n",
              "      <td>Stephen Curry</td>\n",
              "      <td>4</td>\n",
              "      <td>8</td>\n",
              "      <td>1</td>\n",
              "      <td>Pullup Jump shot</td>\n",
              "      <td>2PT Field Goal</td>\n",
              "      <td>In The Paint (Non-RA)</td>\n",
              "      <td>Center(C)</td>\n",
              "      <td>8-16 ft.</td>\n",
              "      <td>12</td>\n",
              "      <td>3</td>\n",
              "      <td>120</td>\n",
              "      <td>1</td>\n",
              "      <td>2019-06-05</td>\n",
              "      <td>GSW</td>\n",
              "      <td>TOR</td>\n",
              "      <td>Playoffs</td>\n",
              "      <td>-13.0</td>\n",
              "      <td>1</td>\n",
              "      <td>No</td>\n",
              "    </tr>\n",
              "    <tr>\n",
              "      <th>13954</th>\n",
              "      <td>41800403</td>\n",
              "      <td>573</td>\n",
              "      <td>Stephen Curry</td>\n",
              "      <td>4</td>\n",
              "      <td>7</td>\n",
              "      <td>16</td>\n",
              "      <td>Floating Jump shot</td>\n",
              "      <td>2PT Field Goal</td>\n",
              "      <td>Mid-Range</td>\n",
              "      <td>Right Side(R)</td>\n",
              "      <td>8-16 ft.</td>\n",
              "      <td>11</td>\n",
              "      <td>114</td>\n",
              "      <td>-5</td>\n",
              "      <td>0</td>\n",
              "      <td>2019-06-05</td>\n",
              "      <td>GSW</td>\n",
              "      <td>TOR</td>\n",
              "      <td>Playoffs</td>\n",
              "      <td>-14.0</td>\n",
              "      <td>1</td>\n",
              "      <td>No</td>\n",
              "    </tr>\n",
              "    <tr>\n",
              "      <th>13955</th>\n",
              "      <td>41800403</td>\n",
              "      <td>602</td>\n",
              "      <td>Stephen Curry</td>\n",
              "      <td>4</td>\n",
              "      <td>5</td>\n",
              "      <td>27</td>\n",
              "      <td>Step Back Jump shot</td>\n",
              "      <td>3PT Field Goal</td>\n",
              "      <td>Above the Break 3</td>\n",
              "      <td>Left Side Center(LC)</td>\n",
              "      <td>24+ ft.</td>\n",
              "      <td>26</td>\n",
              "      <td>-217</td>\n",
              "      <td>149</td>\n",
              "      <td>0</td>\n",
              "      <td>2019-06-05</td>\n",
              "      <td>GSW</td>\n",
              "      <td>TOR</td>\n",
              "      <td>Playoffs</td>\n",
              "      <td>-17.0</td>\n",
              "      <td>1</td>\n",
              "      <td>No</td>\n",
              "    </tr>\n",
              "    <tr>\n",
              "      <th>13956</th>\n",
              "      <td>41800403</td>\n",
              "      <td>608</td>\n",
              "      <td>Stephen Curry</td>\n",
              "      <td>4</td>\n",
              "      <td>4</td>\n",
              "      <td>50</td>\n",
              "      <td>Driving Floating Jump Shot</td>\n",
              "      <td>2PT Field Goal</td>\n",
              "      <td>In The Paint (Non-RA)</td>\n",
              "      <td>Center(C)</td>\n",
              "      <td>Less Than 8 ft.</td>\n",
              "      <td>7</td>\n",
              "      <td>59</td>\n",
              "      <td>49</td>\n",
              "      <td>0</td>\n",
              "      <td>2019-06-05</td>\n",
              "      <td>GSW</td>\n",
              "      <td>TOR</td>\n",
              "      <td>Playoffs</td>\n",
              "      <td>-16.0</td>\n",
              "      <td>1</td>\n",
              "      <td>No</td>\n",
              "    </tr>\n",
              "    <tr>\n",
              "      <th>13957</th>\n",
              "      <td>41800403</td>\n",
              "      <td>658</td>\n",
              "      <td>Stephen Curry</td>\n",
              "      <td>4</td>\n",
              "      <td>2</td>\n",
              "      <td>47</td>\n",
              "      <td>Jump Shot</td>\n",
              "      <td>3PT Field Goal</td>\n",
              "      <td>Above the Break 3</td>\n",
              "      <td>Left Side Center(LC)</td>\n",
              "      <td>24+ ft.</td>\n",
              "      <td>24</td>\n",
              "      <td>-226</td>\n",
              "      <td>104</td>\n",
              "      <td>0</td>\n",
              "      <td>2019-06-05</td>\n",
              "      <td>GSW</td>\n",
              "      <td>TOR</td>\n",
              "      <td>Playoffs</td>\n",
              "      <td>-12.0</td>\n",
              "      <td>1</td>\n",
              "      <td>No</td>\n",
              "    </tr>\n",
              "  </tbody>\n",
              "</table>\n",
              "<p>13958 rows × 22 columns</p>\n",
              "</div>"
            ],
            "text/plain": [
              "        game_id  game_event_id  ... homecourt_advantage  isScrimmage?\n",
              "0      20900015              4  ...                   1            No\n",
              "1      20900015             17  ...                   1            No\n",
              "2      20900015             53  ...                   1            No\n",
              "3      20900015            141  ...                   1            No\n",
              "4      20900015            249  ...                   1            No\n",
              "...         ...            ...  ...                 ...           ...\n",
              "13953  41800403            570  ...                   1            No\n",
              "13954  41800403            573  ...                   1            No\n",
              "13955  41800403            602  ...                   1            No\n",
              "13956  41800403            608  ...                   1            No\n",
              "13957  41800403            658  ...                   1            No\n",
              "\n",
              "[13958 rows x 22 columns]"
            ]
          },
          "metadata": {
            "tags": []
          },
          "execution_count": 125
        }
      ]
    },
    {
      "cell_type": "markdown",
      "metadata": {
        "id": "DE2JXMVKvKs4",
        "colab_type": "text"
      },
      "source": [
        "**Feature #2**"
      ]
    },
    {
      "cell_type": "code",
      "metadata": {
        "id": "LnvKeICOlE-j",
        "colab_type": "code",
        "outputId": "fe5b7103-5420-494b-f3ff-c43b50d2367e",
        "colab": {
          "base_uri": "https://localhost:8080/",
          "height": 617
        }
      },
      "source": [
        "# Add 'otherTeamName' column: if vtm is NOT GWS, ie, NOT indicative of a scrimmage\n",
        "\n",
        "def otherTeam(row):\n",
        "  if (row['isScrimmage?'] == 'No'):\n",
        "     return row['vtm']\n",
        "  return 'Scrimmage'\n",
        "\n",
        "#df['isScrimmage?'] = df.apply(lambda row: isScrimmage(row), axis =1) \n",
        "\n",
        "df['otherTeam'] = df.apply(lambda row: otherTeam(row), axis = 1)\n",
        " \n",
        "df"
      ],
      "execution_count": 0,
      "outputs": [
        {
          "output_type": "execute_result",
          "data": {
            "text/html": [
              "<div>\n",
              "<style scoped>\n",
              "    .dataframe tbody tr th:only-of-type {\n",
              "        vertical-align: middle;\n",
              "    }\n",
              "\n",
              "    .dataframe tbody tr th {\n",
              "        vertical-align: top;\n",
              "    }\n",
              "\n",
              "    .dataframe thead th {\n",
              "        text-align: right;\n",
              "    }\n",
              "</style>\n",
              "<table border=\"1\" class=\"dataframe\">\n",
              "  <thead>\n",
              "    <tr style=\"text-align: right;\">\n",
              "      <th></th>\n",
              "      <th>game_id</th>\n",
              "      <th>game_event_id</th>\n",
              "      <th>player_name</th>\n",
              "      <th>period</th>\n",
              "      <th>minutes_remaining</th>\n",
              "      <th>seconds_remaining</th>\n",
              "      <th>action_type</th>\n",
              "      <th>shot_type</th>\n",
              "      <th>shot_zone_basic</th>\n",
              "      <th>shot_zone_area</th>\n",
              "      <th>shot_zone_range</th>\n",
              "      <th>shot_distance</th>\n",
              "      <th>loc_x</th>\n",
              "      <th>loc_y</th>\n",
              "      <th>shot_made_flag</th>\n",
              "      <th>game_date</th>\n",
              "      <th>htm</th>\n",
              "      <th>vtm</th>\n",
              "      <th>season_type</th>\n",
              "      <th>scoremargin_before_shot</th>\n",
              "      <th>homecourt_advantage</th>\n",
              "      <th>isScrimmage?</th>\n",
              "      <th>otherTeam</th>\n",
              "    </tr>\n",
              "  </thead>\n",
              "  <tbody>\n",
              "    <tr>\n",
              "      <th>0</th>\n",
              "      <td>20900015</td>\n",
              "      <td>4</td>\n",
              "      <td>Stephen Curry</td>\n",
              "      <td>1</td>\n",
              "      <td>11</td>\n",
              "      <td>25</td>\n",
              "      <td>Jump Shot</td>\n",
              "      <td>3PT Field Goal</td>\n",
              "      <td>Above the Break 3</td>\n",
              "      <td>Right Side Center(RC)</td>\n",
              "      <td>24+ ft.</td>\n",
              "      <td>26</td>\n",
              "      <td>99</td>\n",
              "      <td>249</td>\n",
              "      <td>0</td>\n",
              "      <td>2009-10-28</td>\n",
              "      <td>GSW</td>\n",
              "      <td>HOU</td>\n",
              "      <td>Regular Season</td>\n",
              "      <td>2.0</td>\n",
              "      <td>1</td>\n",
              "      <td>No</td>\n",
              "      <td>HOU</td>\n",
              "    </tr>\n",
              "    <tr>\n",
              "      <th>1</th>\n",
              "      <td>20900015</td>\n",
              "      <td>17</td>\n",
              "      <td>Stephen Curry</td>\n",
              "      <td>1</td>\n",
              "      <td>9</td>\n",
              "      <td>31</td>\n",
              "      <td>Step Back Jump shot</td>\n",
              "      <td>2PT Field Goal</td>\n",
              "      <td>Mid-Range</td>\n",
              "      <td>Left Side Center(LC)</td>\n",
              "      <td>16-24 ft.</td>\n",
              "      <td>18</td>\n",
              "      <td>-122</td>\n",
              "      <td>145</td>\n",
              "      <td>1</td>\n",
              "      <td>2009-10-28</td>\n",
              "      <td>GSW</td>\n",
              "      <td>HOU</td>\n",
              "      <td>Regular Season</td>\n",
              "      <td>0.0</td>\n",
              "      <td>1</td>\n",
              "      <td>No</td>\n",
              "      <td>HOU</td>\n",
              "    </tr>\n",
              "    <tr>\n",
              "      <th>2</th>\n",
              "      <td>20900015</td>\n",
              "      <td>53</td>\n",
              "      <td>Stephen Curry</td>\n",
              "      <td>1</td>\n",
              "      <td>6</td>\n",
              "      <td>2</td>\n",
              "      <td>Jump Shot</td>\n",
              "      <td>2PT Field Goal</td>\n",
              "      <td>In The Paint (Non-RA)</td>\n",
              "      <td>Center(C)</td>\n",
              "      <td>8-16 ft.</td>\n",
              "      <td>14</td>\n",
              "      <td>-60</td>\n",
              "      <td>129</td>\n",
              "      <td>0</td>\n",
              "      <td>2009-10-28</td>\n",
              "      <td>GSW</td>\n",
              "      <td>HOU</td>\n",
              "      <td>Regular Season</td>\n",
              "      <td>-4.0</td>\n",
              "      <td>1</td>\n",
              "      <td>No</td>\n",
              "      <td>HOU</td>\n",
              "    </tr>\n",
              "    <tr>\n",
              "      <th>3</th>\n",
              "      <td>20900015</td>\n",
              "      <td>141</td>\n",
              "      <td>Stephen Curry</td>\n",
              "      <td>2</td>\n",
              "      <td>9</td>\n",
              "      <td>49</td>\n",
              "      <td>Jump Shot</td>\n",
              "      <td>2PT Field Goal</td>\n",
              "      <td>Mid-Range</td>\n",
              "      <td>Left Side(L)</td>\n",
              "      <td>16-24 ft.</td>\n",
              "      <td>19</td>\n",
              "      <td>-172</td>\n",
              "      <td>82</td>\n",
              "      <td>0</td>\n",
              "      <td>2009-10-28</td>\n",
              "      <td>GSW</td>\n",
              "      <td>HOU</td>\n",
              "      <td>Regular Season</td>\n",
              "      <td>-4.0</td>\n",
              "      <td>1</td>\n",
              "      <td>No</td>\n",
              "      <td>HOU</td>\n",
              "    </tr>\n",
              "    <tr>\n",
              "      <th>4</th>\n",
              "      <td>20900015</td>\n",
              "      <td>249</td>\n",
              "      <td>Stephen Curry</td>\n",
              "      <td>2</td>\n",
              "      <td>2</td>\n",
              "      <td>19</td>\n",
              "      <td>Jump Shot</td>\n",
              "      <td>2PT Field Goal</td>\n",
              "      <td>Mid-Range</td>\n",
              "      <td>Left Side Center(LC)</td>\n",
              "      <td>16-24 ft.</td>\n",
              "      <td>16</td>\n",
              "      <td>-68</td>\n",
              "      <td>148</td>\n",
              "      <td>0</td>\n",
              "      <td>2009-10-28</td>\n",
              "      <td>GSW</td>\n",
              "      <td>HOU</td>\n",
              "      <td>Regular Season</td>\n",
              "      <td>0.0</td>\n",
              "      <td>1</td>\n",
              "      <td>No</td>\n",
              "      <td>HOU</td>\n",
              "    </tr>\n",
              "    <tr>\n",
              "      <th>...</th>\n",
              "      <td>...</td>\n",
              "      <td>...</td>\n",
              "      <td>...</td>\n",
              "      <td>...</td>\n",
              "      <td>...</td>\n",
              "      <td>...</td>\n",
              "      <td>...</td>\n",
              "      <td>...</td>\n",
              "      <td>...</td>\n",
              "      <td>...</td>\n",
              "      <td>...</td>\n",
              "      <td>...</td>\n",
              "      <td>...</td>\n",
              "      <td>...</td>\n",
              "      <td>...</td>\n",
              "      <td>...</td>\n",
              "      <td>...</td>\n",
              "      <td>...</td>\n",
              "      <td>...</td>\n",
              "      <td>...</td>\n",
              "      <td>...</td>\n",
              "      <td>...</td>\n",
              "      <td>...</td>\n",
              "    </tr>\n",
              "    <tr>\n",
              "      <th>13953</th>\n",
              "      <td>41800403</td>\n",
              "      <td>570</td>\n",
              "      <td>Stephen Curry</td>\n",
              "      <td>4</td>\n",
              "      <td>8</td>\n",
              "      <td>1</td>\n",
              "      <td>Pullup Jump shot</td>\n",
              "      <td>2PT Field Goal</td>\n",
              "      <td>In The Paint (Non-RA)</td>\n",
              "      <td>Center(C)</td>\n",
              "      <td>8-16 ft.</td>\n",
              "      <td>12</td>\n",
              "      <td>3</td>\n",
              "      <td>120</td>\n",
              "      <td>1</td>\n",
              "      <td>2019-06-05</td>\n",
              "      <td>GSW</td>\n",
              "      <td>TOR</td>\n",
              "      <td>Playoffs</td>\n",
              "      <td>-13.0</td>\n",
              "      <td>1</td>\n",
              "      <td>No</td>\n",
              "      <td>TOR</td>\n",
              "    </tr>\n",
              "    <tr>\n",
              "      <th>13954</th>\n",
              "      <td>41800403</td>\n",
              "      <td>573</td>\n",
              "      <td>Stephen Curry</td>\n",
              "      <td>4</td>\n",
              "      <td>7</td>\n",
              "      <td>16</td>\n",
              "      <td>Floating Jump shot</td>\n",
              "      <td>2PT Field Goal</td>\n",
              "      <td>Mid-Range</td>\n",
              "      <td>Right Side(R)</td>\n",
              "      <td>8-16 ft.</td>\n",
              "      <td>11</td>\n",
              "      <td>114</td>\n",
              "      <td>-5</td>\n",
              "      <td>0</td>\n",
              "      <td>2019-06-05</td>\n",
              "      <td>GSW</td>\n",
              "      <td>TOR</td>\n",
              "      <td>Playoffs</td>\n",
              "      <td>-14.0</td>\n",
              "      <td>1</td>\n",
              "      <td>No</td>\n",
              "      <td>TOR</td>\n",
              "    </tr>\n",
              "    <tr>\n",
              "      <th>13955</th>\n",
              "      <td>41800403</td>\n",
              "      <td>602</td>\n",
              "      <td>Stephen Curry</td>\n",
              "      <td>4</td>\n",
              "      <td>5</td>\n",
              "      <td>27</td>\n",
              "      <td>Step Back Jump shot</td>\n",
              "      <td>3PT Field Goal</td>\n",
              "      <td>Above the Break 3</td>\n",
              "      <td>Left Side Center(LC)</td>\n",
              "      <td>24+ ft.</td>\n",
              "      <td>26</td>\n",
              "      <td>-217</td>\n",
              "      <td>149</td>\n",
              "      <td>0</td>\n",
              "      <td>2019-06-05</td>\n",
              "      <td>GSW</td>\n",
              "      <td>TOR</td>\n",
              "      <td>Playoffs</td>\n",
              "      <td>-17.0</td>\n",
              "      <td>1</td>\n",
              "      <td>No</td>\n",
              "      <td>TOR</td>\n",
              "    </tr>\n",
              "    <tr>\n",
              "      <th>13956</th>\n",
              "      <td>41800403</td>\n",
              "      <td>608</td>\n",
              "      <td>Stephen Curry</td>\n",
              "      <td>4</td>\n",
              "      <td>4</td>\n",
              "      <td>50</td>\n",
              "      <td>Driving Floating Jump Shot</td>\n",
              "      <td>2PT Field Goal</td>\n",
              "      <td>In The Paint (Non-RA)</td>\n",
              "      <td>Center(C)</td>\n",
              "      <td>Less Than 8 ft.</td>\n",
              "      <td>7</td>\n",
              "      <td>59</td>\n",
              "      <td>49</td>\n",
              "      <td>0</td>\n",
              "      <td>2019-06-05</td>\n",
              "      <td>GSW</td>\n",
              "      <td>TOR</td>\n",
              "      <td>Playoffs</td>\n",
              "      <td>-16.0</td>\n",
              "      <td>1</td>\n",
              "      <td>No</td>\n",
              "      <td>TOR</td>\n",
              "    </tr>\n",
              "    <tr>\n",
              "      <th>13957</th>\n",
              "      <td>41800403</td>\n",
              "      <td>658</td>\n",
              "      <td>Stephen Curry</td>\n",
              "      <td>4</td>\n",
              "      <td>2</td>\n",
              "      <td>47</td>\n",
              "      <td>Jump Shot</td>\n",
              "      <td>3PT Field Goal</td>\n",
              "      <td>Above the Break 3</td>\n",
              "      <td>Left Side Center(LC)</td>\n",
              "      <td>24+ ft.</td>\n",
              "      <td>24</td>\n",
              "      <td>-226</td>\n",
              "      <td>104</td>\n",
              "      <td>0</td>\n",
              "      <td>2019-06-05</td>\n",
              "      <td>GSW</td>\n",
              "      <td>TOR</td>\n",
              "      <td>Playoffs</td>\n",
              "      <td>-12.0</td>\n",
              "      <td>1</td>\n",
              "      <td>No</td>\n",
              "      <td>TOR</td>\n",
              "    </tr>\n",
              "  </tbody>\n",
              "</table>\n",
              "<p>13958 rows × 23 columns</p>\n",
              "</div>"
            ],
            "text/plain": [
              "        game_id  game_event_id  ... isScrimmage?  otherTeam\n",
              "0      20900015              4  ...           No        HOU\n",
              "1      20900015             17  ...           No        HOU\n",
              "2      20900015             53  ...           No        HOU\n",
              "3      20900015            141  ...           No        HOU\n",
              "4      20900015            249  ...           No        HOU\n",
              "...         ...            ...  ...          ...        ...\n",
              "13953  41800403            570  ...           No        TOR\n",
              "13954  41800403            573  ...           No        TOR\n",
              "13955  41800403            602  ...           No        TOR\n",
              "13956  41800403            608  ...           No        TOR\n",
              "13957  41800403            658  ...           No        TOR\n",
              "\n",
              "[13958 rows x 23 columns]"
            ]
          },
          "metadata": {
            "tags": []
          },
          "execution_count": 126
        }
      ]
    },
    {
      "cell_type": "markdown",
      "metadata": {
        "id": "rbc-wbibv1KY",
        "colab_type": "text"
      },
      "source": [
        "**Feature #3**"
      ]
    },
    {
      "cell_type": "code",
      "metadata": {
        "id": "hFft3StJv5iF",
        "colab_type": "code",
        "colab": {}
      },
      "source": [
        "# adding 'GLORY SHOT' column, Yes: if 'seconds_remaining' <= 10  or No > 10 \n",
        "\n",
        "def isGloryShot(row):\n",
        "  if(row['seconds_remaining'] <= 10):\n",
        "    return 'Yes'\n",
        "  return 'No'\n",
        "\n",
        "df['isGloryShot?'] = df.apply(lambda row: isGloryShot(row), axis = 1) \n",
        "\n",
        "df"
      ],
      "execution_count": 0,
      "outputs": []
    },
    {
      "cell_type": "markdown",
      "metadata": {
        "id": "74ZbzaF1xAGN",
        "colab_type": "text"
      },
      "source": [
        "**Feature #4**"
      ]
    },
    {
      "cell_type": "code",
      "metadata": {
        "id": "_XghNcHMxCB8",
        "colab_type": "code",
        "colab": {}
      },
      "source": [
        "# adding 'HERO SHOT' column, Yes: if 'seconds_remaining' <= 10  AND 'shot_made_flag' == 1  AND 'scoremargin_before_shot'  < 3.\n",
        " \n",
        "def isHeroShot(row):\n",
        "# if((row['seconds_remaining'] <= 10) and (row['scoremargin_before_shot'] < 3)): # and operator for if statements conds 1 and 2\n",
        "  if((row['seconds_remaining'] <= 10) & (row['scoremargin_before_shot'] < 3)): # bit-wise operator does & operation.. to select certain rows in a df ..like dereferencing, for #s n chking on rows \n",
        "  \n",
        "  # if()\n",
        "    return 'Yes'\n",
        "  return 'No'\n",
        "\n",
        "df['isHeroShot?'] = df.apply(lambda row: isHeroShot(row), axis = 1)  \n",
        "\n",
        "df.sample(35)"
      ],
      "execution_count": 0,
      "outputs": []
    },
    {
      "cell_type": "markdown",
      "metadata": {
        "id": "hK7pm2dkyQ0K",
        "colab_type": "text"
      },
      "source": [
        "###2) Make 2+ visualizations to explore relationships between features and target.\n"
      ]
    },
    {
      "cell_type": "markdown",
      "metadata": {
        "id": "FFQZzgaKhxyU",
        "colab_type": "text"
      },
      "source": [
        "**(i) Correlation Explorations**"
      ]
    },
    {
      "cell_type": "code",
      "metadata": {
        "id": "3NkN-fwWyTQK",
        "colab_type": "code",
        "colab": {}
      },
      "source": [
        "df.corr()"
      ],
      "execution_count": 0,
      "outputs": []
    },
    {
      "cell_type": "code",
      "metadata": {
        "id": "wpA9ZyDigjxA",
        "colab_type": "code",
        "colab": {}
      },
      "source": [
        "corr = df.corr()\n",
        "print(corr)"
      ],
      "execution_count": 0,
      "outputs": []
    },
    {
      "cell_type": "code",
      "metadata": {
        "id": "kardIodCgoVg",
        "colab_type": "code",
        "outputId": "8810be35-a68e-4c8d-db7e-c6d49eef5d62",
        "colab": {
          "base_uri": "https://localhost:8080/",
          "height": 290
        }
      },
      "source": [
        "# Correlation Matrix\n",
        "corr.style.background_gradient(cmap = 'viridis')"
      ],
      "execution_count": 0,
      "outputs": [
        {
          "output_type": "execute_result",
          "data": {
            "text/html": [
              "<style  type=\"text/css\" >\n",
              "    #T_fbc5bc6a_82cb_11ea_9903_0242ac1c0002row0_col0 {\n",
              "            background-color:  #fde725;\n",
              "            color:  #000000;\n",
              "        }    #T_fbc5bc6a_82cb_11ea_9903_0242ac1c0002row0_col1 {\n",
              "            background-color:  #38588c;\n",
              "            color:  #f1f1f1;\n",
              "        }    #T_fbc5bc6a_82cb_11ea_9903_0242ac1c0002row0_col2 {\n",
              "            background-color:  #482071;\n",
              "            color:  #f1f1f1;\n",
              "        }    #T_fbc5bc6a_82cb_11ea_9903_0242ac1c0002row0_col3 {\n",
              "            background-color:  #3f4788;\n",
              "            color:  #f1f1f1;\n",
              "        }    #T_fbc5bc6a_82cb_11ea_9903_0242ac1c0002row0_col4 {\n",
              "            background-color:  #481668;\n",
              "            color:  #f1f1f1;\n",
              "        }    #T_fbc5bc6a_82cb_11ea_9903_0242ac1c0002row0_col5 {\n",
              "            background-color:  #46307e;\n",
              "            color:  #f1f1f1;\n",
              "        }    #T_fbc5bc6a_82cb_11ea_9903_0242ac1c0002row0_col6 {\n",
              "            background-color:  #450457;\n",
              "            color:  #f1f1f1;\n",
              "        }    #T_fbc5bc6a_82cb_11ea_9903_0242ac1c0002row0_col7 {\n",
              "            background-color:  #472e7c;\n",
              "            color:  #f1f1f1;\n",
              "        }    #T_fbc5bc6a_82cb_11ea_9903_0242ac1c0002row0_col8 {\n",
              "            background-color:  #482677;\n",
              "            color:  #f1f1f1;\n",
              "        }    #T_fbc5bc6a_82cb_11ea_9903_0242ac1c0002row0_col9 {\n",
              "            background-color:  #481668;\n",
              "            color:  #f1f1f1;\n",
              "        }    #T_fbc5bc6a_82cb_11ea_9903_0242ac1c0002row0_col10 {\n",
              "            background-color:  #471164;\n",
              "            color:  #f1f1f1;\n",
              "        }    #T_fbc5bc6a_82cb_11ea_9903_0242ac1c0002row1_col0 {\n",
              "            background-color:  #481d6f;\n",
              "            color:  #f1f1f1;\n",
              "        }    #T_fbc5bc6a_82cb_11ea_9903_0242ac1c0002row1_col1 {\n",
              "            background-color:  #fde725;\n",
              "            color:  #000000;\n",
              "        }    #T_fbc5bc6a_82cb_11ea_9903_0242ac1c0002row1_col2 {\n",
              "            background-color:  #dae319;\n",
              "            color:  #000000;\n",
              "        }    #T_fbc5bc6a_82cb_11ea_9903_0242ac1c0002row1_col3 {\n",
              "            background-color:  #440154;\n",
              "            color:  #f1f1f1;\n",
              "        }    #T_fbc5bc6a_82cb_11ea_9903_0242ac1c0002row1_col4 {\n",
              "            background-color:  #471365;\n",
              "            color:  #f1f1f1;\n",
              "        }    #T_fbc5bc6a_82cb_11ea_9903_0242ac1c0002row1_col5 {\n",
              "            background-color:  #472e7c;\n",
              "            color:  #f1f1f1;\n",
              "        }    #T_fbc5bc6a_82cb_11ea_9903_0242ac1c0002row1_col6 {\n",
              "            background-color:  #481467;\n",
              "            color:  #f1f1f1;\n",
              "        }    #T_fbc5bc6a_82cb_11ea_9903_0242ac1c0002row1_col7 {\n",
              "            background-color:  #46327e;\n",
              "            color:  #f1f1f1;\n",
              "        }    #T_fbc5bc6a_82cb_11ea_9903_0242ac1c0002row1_col8 {\n",
              "            background-color:  #482878;\n",
              "            color:  #f1f1f1;\n",
              "        }    #T_fbc5bc6a_82cb_11ea_9903_0242ac1c0002row1_col9 {\n",
              "            background-color:  #443983;\n",
              "            color:  #f1f1f1;\n",
              "        }    #T_fbc5bc6a_82cb_11ea_9903_0242ac1c0002row1_col10 {\n",
              "            background-color:  #440154;\n",
              "            color:  #f1f1f1;\n",
              "        }    #T_fbc5bc6a_82cb_11ea_9903_0242ac1c0002row2_col0 {\n",
              "            background-color:  #471164;\n",
              "            color:  #f1f1f1;\n",
              "        }    #T_fbc5bc6a_82cb_11ea_9903_0242ac1c0002row2_col1 {\n",
              "            background-color:  #e2e418;\n",
              "            color:  #000000;\n",
              "        }    #T_fbc5bc6a_82cb_11ea_9903_0242ac1c0002row2_col2 {\n",
              "            background-color:  #fde725;\n",
              "            color:  #000000;\n",
              "        }    #T_fbc5bc6a_82cb_11ea_9903_0242ac1c0002row2_col3 {\n",
              "            background-color:  #443a83;\n",
              "            color:  #f1f1f1;\n",
              "        }    #T_fbc5bc6a_82cb_11ea_9903_0242ac1c0002row2_col4 {\n",
              "            background-color:  #481b6d;\n",
              "            color:  #f1f1f1;\n",
              "        }    #T_fbc5bc6a_82cb_11ea_9903_0242ac1c0002row2_col5 {\n",
              "            background-color:  #482677;\n",
              "            color:  #f1f1f1;\n",
              "        }    #T_fbc5bc6a_82cb_11ea_9903_0242ac1c0002row2_col6 {\n",
              "            background-color:  #481668;\n",
              "            color:  #f1f1f1;\n",
              "        }    #T_fbc5bc6a_82cb_11ea_9903_0242ac1c0002row2_col7 {\n",
              "            background-color:  #482979;\n",
              "            color:  #f1f1f1;\n",
              "        }    #T_fbc5bc6a_82cb_11ea_9903_0242ac1c0002row2_col8 {\n",
              "            background-color:  #482979;\n",
              "            color:  #f1f1f1;\n",
              "        }    #T_fbc5bc6a_82cb_11ea_9903_0242ac1c0002row2_col9 {\n",
              "            background-color:  #46337f;\n",
              "            color:  #f1f1f1;\n",
              "        }    #T_fbc5bc6a_82cb_11ea_9903_0242ac1c0002row2_col10 {\n",
              "            background-color:  #460b5e;\n",
              "            color:  #f1f1f1;\n",
              "        }    #T_fbc5bc6a_82cb_11ea_9903_0242ac1c0002row3_col0 {\n",
              "            background-color:  #440256;\n",
              "            color:  #f1f1f1;\n",
              "        }    #T_fbc5bc6a_82cb_11ea_9903_0242ac1c0002row3_col1 {\n",
              "            background-color:  #440154;\n",
              "            color:  #f1f1f1;\n",
              "        }    #T_fbc5bc6a_82cb_11ea_9903_0242ac1c0002row3_col2 {\n",
              "            background-color:  #440154;\n",
              "            color:  #f1f1f1;\n",
              "        }    #T_fbc5bc6a_82cb_11ea_9903_0242ac1c0002row3_col3 {\n",
              "            background-color:  #fde725;\n",
              "            color:  #000000;\n",
              "        }    #T_fbc5bc6a_82cb_11ea_9903_0242ac1c0002row3_col4 {\n",
              "            background-color:  #482475;\n",
              "            color:  #f1f1f1;\n",
              "        }    #T_fbc5bc6a_82cb_11ea_9903_0242ac1c0002row3_col5 {\n",
              "            background-color:  #481b6d;\n",
              "            color:  #f1f1f1;\n",
              "        }    #T_fbc5bc6a_82cb_11ea_9903_0242ac1c0002row3_col6 {\n",
              "            background-color:  #440256;\n",
              "            color:  #f1f1f1;\n",
              "        }    #T_fbc5bc6a_82cb_11ea_9903_0242ac1c0002row3_col7 {\n",
              "            background-color:  #471164;\n",
              "            color:  #f1f1f1;\n",
              "        }    #T_fbc5bc6a_82cb_11ea_9903_0242ac1c0002row3_col8 {\n",
              "            background-color:  #463480;\n",
              "            color:  #f1f1f1;\n",
              "        }    #T_fbc5bc6a_82cb_11ea_9903_0242ac1c0002row3_col9 {\n",
              "            background-color:  #440154;\n",
              "            color:  #f1f1f1;\n",
              "        }    #T_fbc5bc6a_82cb_11ea_9903_0242ac1c0002row3_col10 {\n",
              "            background-color:  #470d60;\n",
              "            color:  #f1f1f1;\n",
              "        }    #T_fbc5bc6a_82cb_11ea_9903_0242ac1c0002row4_col0 {\n",
              "            background-color:  #450559;\n",
              "            color:  #f1f1f1;\n",
              "        }    #T_fbc5bc6a_82cb_11ea_9903_0242ac1c0002row4_col1 {\n",
              "            background-color:  #3f4788;\n",
              "            color:  #f1f1f1;\n",
              "        }    #T_fbc5bc6a_82cb_11ea_9903_0242ac1c0002row4_col2 {\n",
              "            background-color:  #481c6e;\n",
              "            color:  #f1f1f1;\n",
              "        }    #T_fbc5bc6a_82cb_11ea_9903_0242ac1c0002row4_col3 {\n",
              "            background-color:  #3a538b;\n",
              "            color:  #f1f1f1;\n",
              "        }    #T_fbc5bc6a_82cb_11ea_9903_0242ac1c0002row4_col4 {\n",
              "            background-color:  #fde725;\n",
              "            color:  #000000;\n",
              "        }    #T_fbc5bc6a_82cb_11ea_9903_0242ac1c0002row4_col5 {\n",
              "            background-color:  #48186a;\n",
              "            color:  #f1f1f1;\n",
              "        }    #T_fbc5bc6a_82cb_11ea_9903_0242ac1c0002row4_col6 {\n",
              "            background-color:  #440256;\n",
              "            color:  #f1f1f1;\n",
              "        }    #T_fbc5bc6a_82cb_11ea_9903_0242ac1c0002row4_col7 {\n",
              "            background-color:  #481467;\n",
              "            color:  #f1f1f1;\n",
              "        }    #T_fbc5bc6a_82cb_11ea_9903_0242ac1c0002row4_col8 {\n",
              "            background-color:  #453581;\n",
              "            color:  #f1f1f1;\n",
              "        }    #T_fbc5bc6a_82cb_11ea_9903_0242ac1c0002row4_col9 {\n",
              "            background-color:  #481b6d;\n",
              "            color:  #f1f1f1;\n",
              "        }    #T_fbc5bc6a_82cb_11ea_9903_0242ac1c0002row4_col10 {\n",
              "            background-color:  #471365;\n",
              "            color:  #f1f1f1;\n",
              "        }    #T_fbc5bc6a_82cb_11ea_9903_0242ac1c0002row5_col0 {\n",
              "            background-color:  #471063;\n",
              "            color:  #f1f1f1;\n",
              "        }    #T_fbc5bc6a_82cb_11ea_9903_0242ac1c0002row5_col1 {\n",
              "            background-color:  #3d4d8a;\n",
              "            color:  #f1f1f1;\n",
              "        }    #T_fbc5bc6a_82cb_11ea_9903_0242ac1c0002row5_col2 {\n",
              "            background-color:  #481467;\n",
              "            color:  #f1f1f1;\n",
              "        }    #T_fbc5bc6a_82cb_11ea_9903_0242ac1c0002row5_col3 {\n",
              "            background-color:  #423f85;\n",
              "            color:  #f1f1f1;\n",
              "        }    #T_fbc5bc6a_82cb_11ea_9903_0242ac1c0002row5_col4 {\n",
              "            background-color:  #440256;\n",
              "            color:  #f1f1f1;\n",
              "        }    #T_fbc5bc6a_82cb_11ea_9903_0242ac1c0002row5_col5 {\n",
              "            background-color:  #fde725;\n",
              "            color:  #000000;\n",
              "        }    #T_fbc5bc6a_82cb_11ea_9903_0242ac1c0002row5_col6 {\n",
              "            background-color:  #440154;\n",
              "            color:  #f1f1f1;\n",
              "        }    #T_fbc5bc6a_82cb_11ea_9903_0242ac1c0002row5_col7 {\n",
              "            background-color:  #95d840;\n",
              "            color:  #000000;\n",
              "        }    #T_fbc5bc6a_82cb_11ea_9903_0242ac1c0002row5_col8 {\n",
              "            background-color:  #440154;\n",
              "            color:  #f1f1f1;\n",
              "        }    #T_fbc5bc6a_82cb_11ea_9903_0242ac1c0002row5_col9 {\n",
              "            background-color:  #482475;\n",
              "            color:  #f1f1f1;\n",
              "        }    #T_fbc5bc6a_82cb_11ea_9903_0242ac1c0002row5_col10 {\n",
              "            background-color:  #481c6e;\n",
              "            color:  #f1f1f1;\n",
              "        }    #T_fbc5bc6a_82cb_11ea_9903_0242ac1c0002row6_col0 {\n",
              "            background-color:  #450559;\n",
              "            color:  #f1f1f1;\n",
              "        }    #T_fbc5bc6a_82cb_11ea_9903_0242ac1c0002row6_col1 {\n",
              "            background-color:  #3a538b;\n",
              "            color:  #f1f1f1;\n",
              "        }    #T_fbc5bc6a_82cb_11ea_9903_0242ac1c0002row6_col2 {\n",
              "            background-color:  #482576;\n",
              "            color:  #f1f1f1;\n",
              "        }    #T_fbc5bc6a_82cb_11ea_9903_0242ac1c0002row6_col3 {\n",
              "            background-color:  #3f4889;\n",
              "            color:  #f1f1f1;\n",
              "        }    #T_fbc5bc6a_82cb_11ea_9903_0242ac1c0002row6_col4 {\n",
              "            background-color:  #481467;\n",
              "            color:  #f1f1f1;\n",
              "        }    #T_fbc5bc6a_82cb_11ea_9903_0242ac1c0002row6_col5 {\n",
              "            background-color:  #482677;\n",
              "            color:  #f1f1f1;\n",
              "        }    #T_fbc5bc6a_82cb_11ea_9903_0242ac1c0002row6_col6 {\n",
              "            background-color:  #fde725;\n",
              "            color:  #000000;\n",
              "        }    #T_fbc5bc6a_82cb_11ea_9903_0242ac1c0002row6_col7 {\n",
              "            background-color:  #46337f;\n",
              "            color:  #f1f1f1;\n",
              "        }    #T_fbc5bc6a_82cb_11ea_9903_0242ac1c0002row6_col8 {\n",
              "            background-color:  #482979;\n",
              "            color:  #f1f1f1;\n",
              "        }    #T_fbc5bc6a_82cb_11ea_9903_0242ac1c0002row6_col9 {\n",
              "            background-color:  #482173;\n",
              "            color:  #f1f1f1;\n",
              "        }    #T_fbc5bc6a_82cb_11ea_9903_0242ac1c0002row6_col10 {\n",
              "            background-color:  #46085c;\n",
              "            color:  #f1f1f1;\n",
              "        }    #T_fbc5bc6a_82cb_11ea_9903_0242ac1c0002row7_col0 {\n",
              "            background-color:  #470e61;\n",
              "            color:  #f1f1f1;\n",
              "        }    #T_fbc5bc6a_82cb_11ea_9903_0242ac1c0002row7_col1 {\n",
              "            background-color:  #3b518b;\n",
              "            color:  #f1f1f1;\n",
              "        }    #T_fbc5bc6a_82cb_11ea_9903_0242ac1c0002row7_col2 {\n",
              "            background-color:  #481a6c;\n",
              "            color:  #f1f1f1;\n",
              "        }    #T_fbc5bc6a_82cb_11ea_9903_0242ac1c0002row7_col3 {\n",
              "            background-color:  #443983;\n",
              "            color:  #f1f1f1;\n",
              "        }    #T_fbc5bc6a_82cb_11ea_9903_0242ac1c0002row7_col4 {\n",
              "            background-color:  #440154;\n",
              "            color:  #f1f1f1;\n",
              "        }    #T_fbc5bc6a_82cb_11ea_9903_0242ac1c0002row7_col5 {\n",
              "            background-color:  #98d83e;\n",
              "            color:  #000000;\n",
              "        }    #T_fbc5bc6a_82cb_11ea_9903_0242ac1c0002row7_col6 {\n",
              "            background-color:  #481467;\n",
              "            color:  #f1f1f1;\n",
              "        }    #T_fbc5bc6a_82cb_11ea_9903_0242ac1c0002row7_col7 {\n",
              "            background-color:  #fde725;\n",
              "            color:  #000000;\n",
              "        }    #T_fbc5bc6a_82cb_11ea_9903_0242ac1c0002row7_col8 {\n",
              "            background-color:  #440256;\n",
              "            color:  #f1f1f1;\n",
              "        }    #T_fbc5bc6a_82cb_11ea_9903_0242ac1c0002row7_col9 {\n",
              "            background-color:  #482374;\n",
              "            color:  #f1f1f1;\n",
              "        }    #T_fbc5bc6a_82cb_11ea_9903_0242ac1c0002row7_col10 {\n",
              "            background-color:  #482475;\n",
              "            color:  #f1f1f1;\n",
              "        }    #T_fbc5bc6a_82cb_11ea_9903_0242ac1c0002row8_col0 {\n",
              "            background-color:  #440256;\n",
              "            color:  #f1f1f1;\n",
              "        }    #T_fbc5bc6a_82cb_11ea_9903_0242ac1c0002row8_col1 {\n",
              "            background-color:  #3f4889;\n",
              "            color:  #f1f1f1;\n",
              "        }    #T_fbc5bc6a_82cb_11ea_9903_0242ac1c0002row8_col2 {\n",
              "            background-color:  #481769;\n",
              "            color:  #f1f1f1;\n",
              "        }    #T_fbc5bc6a_82cb_11ea_9903_0242ac1c0002row8_col3 {\n",
              "            background-color:  #3b528b;\n",
              "            color:  #f1f1f1;\n",
              "        }    #T_fbc5bc6a_82cb_11ea_9903_0242ac1c0002row8_col4 {\n",
              "            background-color:  #482475;\n",
              "            color:  #f1f1f1;\n",
              "        }    #T_fbc5bc6a_82cb_11ea_9903_0242ac1c0002row8_col5 {\n",
              "            background-color:  #440154;\n",
              "            color:  #f1f1f1;\n",
              "        }    #T_fbc5bc6a_82cb_11ea_9903_0242ac1c0002row8_col6 {\n",
              "            background-color:  #450559;\n",
              "            color:  #f1f1f1;\n",
              "        }    #T_fbc5bc6a_82cb_11ea_9903_0242ac1c0002row8_col7 {\n",
              "            background-color:  #440154;\n",
              "            color:  #f1f1f1;\n",
              "        }    #T_fbc5bc6a_82cb_11ea_9903_0242ac1c0002row8_col8 {\n",
              "            background-color:  #fde725;\n",
              "            color:  #000000;\n",
              "        }    #T_fbc5bc6a_82cb_11ea_9903_0242ac1c0002row8_col9 {\n",
              "            background-color:  #481c6e;\n",
              "            color:  #f1f1f1;\n",
              "        }    #T_fbc5bc6a_82cb_11ea_9903_0242ac1c0002row8_col10 {\n",
              "            background-color:  #481467;\n",
              "            color:  #f1f1f1;\n",
              "        }    #T_fbc5bc6a_82cb_11ea_9903_0242ac1c0002row9_col0 {\n",
              "            background-color:  #440154;\n",
              "            color:  #f1f1f1;\n",
              "        }    #T_fbc5bc6a_82cb_11ea_9903_0242ac1c0002row9_col1 {\n",
              "            background-color:  #355f8d;\n",
              "            color:  #f1f1f1;\n",
              "        }    #T_fbc5bc6a_82cb_11ea_9903_0242ac1c0002row9_col2 {\n",
              "            background-color:  #46307e;\n",
              "            color:  #f1f1f1;\n",
              "        }    #T_fbc5bc6a_82cb_11ea_9903_0242ac1c0002row9_col3 {\n",
              "            background-color:  #453781;\n",
              "            color:  #f1f1f1;\n",
              "        }    #T_fbc5bc6a_82cb_11ea_9903_0242ac1c0002row9_col4 {\n",
              "            background-color:  #481668;\n",
              "            color:  #f1f1f1;\n",
              "        }    #T_fbc5bc6a_82cb_11ea_9903_0242ac1c0002row9_col5 {\n",
              "            background-color:  #46327e;\n",
              "            color:  #f1f1f1;\n",
              "        }    #T_fbc5bc6a_82cb_11ea_9903_0242ac1c0002row9_col6 {\n",
              "            background-color:  #460b5e;\n",
              "            color:  #f1f1f1;\n",
              "        }    #T_fbc5bc6a_82cb_11ea_9903_0242ac1c0002row9_col7 {\n",
              "            background-color:  #472e7c;\n",
              "            color:  #f1f1f1;\n",
              "        }    #T_fbc5bc6a_82cb_11ea_9903_0242ac1c0002row9_col8 {\n",
              "            background-color:  #472a7a;\n",
              "            color:  #f1f1f1;\n",
              "        }    #T_fbc5bc6a_82cb_11ea_9903_0242ac1c0002row9_col9 {\n",
              "            background-color:  #fde725;\n",
              "            color:  #000000;\n",
              "        }    #T_fbc5bc6a_82cb_11ea_9903_0242ac1c0002row9_col10 {\n",
              "            background-color:  #443b84;\n",
              "            color:  #f1f1f1;\n",
              "        }    #T_fbc5bc6a_82cb_11ea_9903_0242ac1c0002row10_col0 {\n",
              "            background-color:  #460b5e;\n",
              "            color:  #f1f1f1;\n",
              "        }    #T_fbc5bc6a_82cb_11ea_9903_0242ac1c0002row10_col1 {\n",
              "            background-color:  #414287;\n",
              "            color:  #f1f1f1;\n",
              "        }    #T_fbc5bc6a_82cb_11ea_9903_0242ac1c0002row10_col2 {\n",
              "            background-color:  #481769;\n",
              "            color:  #f1f1f1;\n",
              "        }    #T_fbc5bc6a_82cb_11ea_9903_0242ac1c0002row10_col3 {\n",
              "            background-color:  #3e4a89;\n",
              "            color:  #f1f1f1;\n",
              "        }    #T_fbc5bc6a_82cb_11ea_9903_0242ac1c0002row10_col4 {\n",
              "            background-color:  #481c6e;\n",
              "            color:  #f1f1f1;\n",
              "        }    #T_fbc5bc6a_82cb_11ea_9903_0242ac1c0002row10_col5 {\n",
              "            background-color:  #453781;\n",
              "            color:  #f1f1f1;\n",
              "        }    #T_fbc5bc6a_82cb_11ea_9903_0242ac1c0002row10_col6 {\n",
              "            background-color:  #440154;\n",
              "            color:  #f1f1f1;\n",
              "        }    #T_fbc5bc6a_82cb_11ea_9903_0242ac1c0002row10_col7 {\n",
              "            background-color:  #443a83;\n",
              "            color:  #f1f1f1;\n",
              "        }    #T_fbc5bc6a_82cb_11ea_9903_0242ac1c0002row10_col8 {\n",
              "            background-color:  #472f7d;\n",
              "            color:  #f1f1f1;\n",
              "        }    #T_fbc5bc6a_82cb_11ea_9903_0242ac1c0002row10_col9 {\n",
              "            background-color:  #404588;\n",
              "            color:  #f1f1f1;\n",
              "        }    #T_fbc5bc6a_82cb_11ea_9903_0242ac1c0002row10_col10 {\n",
              "            background-color:  #fde725;\n",
              "            color:  #000000;\n",
              "        }</style><table id=\"T_fbc5bc6a_82cb_11ea_9903_0242ac1c0002\" ><thead>    <tr>        <th class=\"blank level0\" ></th>        <th class=\"col_heading level0 col0\" >game_id</th>        <th class=\"col_heading level0 col1\" >game_event_id</th>        <th class=\"col_heading level0 col2\" >period</th>        <th class=\"col_heading level0 col3\" >minutes_remaining</th>        <th class=\"col_heading level0 col4\" >seconds_remaining</th>        <th class=\"col_heading level0 col5\" >shot_distance</th>        <th class=\"col_heading level0 col6\" >loc_x</th>        <th class=\"col_heading level0 col7\" >loc_y</th>        <th class=\"col_heading level0 col8\" >shot_made_flag</th>        <th class=\"col_heading level0 col9\" >scoremargin_before_shot</th>        <th class=\"col_heading level0 col10\" >homecourt_advantage</th>    </tr></thead><tbody>\n",
              "                <tr>\n",
              "                        <th id=\"T_fbc5bc6a_82cb_11ea_9903_0242ac1c0002level0_row0\" class=\"row_heading level0 row0\" >game_id</th>\n",
              "                        <td id=\"T_fbc5bc6a_82cb_11ea_9903_0242ac1c0002row0_col0\" class=\"data row0 col0\" >1.000000</td>\n",
              "                        <td id=\"T_fbc5bc6a_82cb_11ea_9903_0242ac1c0002row0_col1\" class=\"data row0 col1\" >0.058387</td>\n",
              "                        <td id=\"T_fbc5bc6a_82cb_11ea_9903_0242ac1c0002row0_col2\" class=\"data row0 col2\" >0.023757</td>\n",
              "                        <td id=\"T_fbc5bc6a_82cb_11ea_9903_0242ac1c0002row0_col3\" class=\"data row0 col3\" >-0.018650</td>\n",
              "                        <td id=\"T_fbc5bc6a_82cb_11ea_9903_0242ac1c0002row0_col4\" class=\"data row0 col4\" >-0.009982</td>\n",
              "                        <td id=\"T_fbc5bc6a_82cb_11ea_9903_0242ac1c0002row0_col5\" class=\"data row0 col5\" >0.019789</td>\n",
              "                        <td id=\"T_fbc5bc6a_82cb_11ea_9903_0242ac1c0002row0_col6\" class=\"data row0 col6\" >-0.007311</td>\n",
              "                        <td id=\"T_fbc5bc6a_82cb_11ea_9903_0242ac1c0002row0_col7\" class=\"data row0 col7\" >0.016984</td>\n",
              "                        <td id=\"T_fbc5bc6a_82cb_11ea_9903_0242ac1c0002row0_col8\" class=\"data row0 col8\" >-0.017542</td>\n",
              "                        <td id=\"T_fbc5bc6a_82cb_11ea_9903_0242ac1c0002row0_col9\" class=\"data row0 col9\" >-0.022761</td>\n",
              "                        <td id=\"T_fbc5bc6a_82cb_11ea_9903_0242ac1c0002row0_col10\" class=\"data row0 col10\" >0.006558</td>\n",
              "            </tr>\n",
              "            <tr>\n",
              "                        <th id=\"T_fbc5bc6a_82cb_11ea_9903_0242ac1c0002level0_row1\" class=\"row_heading level0 row1\" >game_event_id</th>\n",
              "                        <td id=\"T_fbc5bc6a_82cb_11ea_9903_0242ac1c0002row1_col0\" class=\"data row1 col0\" >0.058387</td>\n",
              "                        <td id=\"T_fbc5bc6a_82cb_11ea_9903_0242ac1c0002row1_col1\" class=\"data row1 col1\" >1.000000</td>\n",
              "                        <td id=\"T_fbc5bc6a_82cb_11ea_9903_0242ac1c0002row1_col2\" class=\"data row1 col2\" >0.940855</td>\n",
              "                        <td id=\"T_fbc5bc6a_82cb_11ea_9903_0242ac1c0002row1_col3\" class=\"data row1 col3\" >-0.291271</td>\n",
              "                        <td id=\"T_fbc5bc6a_82cb_11ea_9903_0242ac1c0002row1_col4\" class=\"data row1 col4\" >-0.018433</td>\n",
              "                        <td id=\"T_fbc5bc6a_82cb_11ea_9903_0242ac1c0002row1_col5\" class=\"data row1 col5\" >0.011211</td>\n",
              "                        <td id=\"T_fbc5bc6a_82cb_11ea_9903_0242ac1c0002row1_col6\" class=\"data row1 col6\" >0.037097</td>\n",
              "                        <td id=\"T_fbc5bc6a_82cb_11ea_9903_0242ac1c0002row1_col7\" class=\"data row1 col7\" >0.029789</td>\n",
              "                        <td id=\"T_fbc5bc6a_82cb_11ea_9903_0242ac1c0002row1_col8\" class=\"data row1 col8\" >-0.012720</td>\n",
              "                        <td id=\"T_fbc5bc6a_82cb_11ea_9903_0242ac1c0002row1_col9\" class=\"data row1 col9\" >0.096800</td>\n",
              "                        <td id=\"T_fbc5bc6a_82cb_11ea_9903_0242ac1c0002row1_col10\" class=\"data row1 col10\" >-0.038768</td>\n",
              "            </tr>\n",
              "            <tr>\n",
              "                        <th id=\"T_fbc5bc6a_82cb_11ea_9903_0242ac1c0002level0_row2\" class=\"row_heading level0 row2\" >period</th>\n",
              "                        <td id=\"T_fbc5bc6a_82cb_11ea_9903_0242ac1c0002row2_col0\" class=\"data row2 col0\" >0.023757</td>\n",
              "                        <td id=\"T_fbc5bc6a_82cb_11ea_9903_0242ac1c0002row2_col1\" class=\"data row2 col1\" >0.940855</td>\n",
              "                        <td id=\"T_fbc5bc6a_82cb_11ea_9903_0242ac1c0002row2_col2\" class=\"data row2 col2\" >1.000000</td>\n",
              "                        <td id=\"T_fbc5bc6a_82cb_11ea_9903_0242ac1c0002row2_col3\" class=\"data row2 col3\" >-0.071512</td>\n",
              "                        <td id=\"T_fbc5bc6a_82cb_11ea_9903_0242ac1c0002row2_col4\" class=\"data row2 col4\" >0.009031</td>\n",
              "                        <td id=\"T_fbc5bc6a_82cb_11ea_9903_0242ac1c0002row2_col5\" class=\"data row2 col5\" >-0.014679</td>\n",
              "                        <td id=\"T_fbc5bc6a_82cb_11ea_9903_0242ac1c0002row2_col6\" class=\"data row2 col6\" >0.040834</td>\n",
              "                        <td id=\"T_fbc5bc6a_82cb_11ea_9903_0242ac1c0002row2_col7\" class=\"data row2 col7\" >0.002066</td>\n",
              "                        <td id=\"T_fbc5bc6a_82cb_11ea_9903_0242ac1c0002row2_col8\" class=\"data row2 col8\" >-0.005241</td>\n",
              "                        <td id=\"T_fbc5bc6a_82cb_11ea_9903_0242ac1c0002row2_col9\" class=\"data row2 col9\" >0.076163</td>\n",
              "                        <td id=\"T_fbc5bc6a_82cb_11ea_9903_0242ac1c0002row2_col10\" class=\"data row2 col10\" >-0.008206</td>\n",
              "            </tr>\n",
              "            <tr>\n",
              "                        <th id=\"T_fbc5bc6a_82cb_11ea_9903_0242ac1c0002level0_row3\" class=\"row_heading level0 row3\" >minutes_remaining</th>\n",
              "                        <td id=\"T_fbc5bc6a_82cb_11ea_9903_0242ac1c0002row3_col0\" class=\"data row3 col0\" >-0.018650</td>\n",
              "                        <td id=\"T_fbc5bc6a_82cb_11ea_9903_0242ac1c0002row3_col1\" class=\"data row3 col1\" >-0.291271</td>\n",
              "                        <td id=\"T_fbc5bc6a_82cb_11ea_9903_0242ac1c0002row3_col2\" class=\"data row3 col2\" >-0.071512</td>\n",
              "                        <td id=\"T_fbc5bc6a_82cb_11ea_9903_0242ac1c0002row3_col3\" class=\"data row3 col3\" >1.000000</td>\n",
              "                        <td id=\"T_fbc5bc6a_82cb_11ea_9903_0242ac1c0002row3_col4\" class=\"data row3 col4\" >0.037336</td>\n",
              "                        <td id=\"T_fbc5bc6a_82cb_11ea_9903_0242ac1c0002row3_col5\" class=\"data row3 col5\" >-0.053699</td>\n",
              "                        <td id=\"T_fbc5bc6a_82cb_11ea_9903_0242ac1c0002row3_col6\" class=\"data row3 col6\" >-0.012034</td>\n",
              "                        <td id=\"T_fbc5bc6a_82cb_11ea_9903_0242ac1c0002row3_col7\" class=\"data row3 col7\" >-0.078049</td>\n",
              "                        <td id=\"T_fbc5bc6a_82cb_11ea_9903_0242ac1c0002row3_col8\" class=\"data row3 col8\" >0.033877</td>\n",
              "                        <td id=\"T_fbc5bc6a_82cb_11ea_9903_0242ac1c0002row3_col9\" class=\"data row3 col9\" >-0.084498</td>\n",
              "                        <td id=\"T_fbc5bc6a_82cb_11ea_9903_0242ac1c0002row3_col10\" class=\"data row3 col10\" >-0.002664</td>\n",
              "            </tr>\n",
              "            <tr>\n",
              "                        <th id=\"T_fbc5bc6a_82cb_11ea_9903_0242ac1c0002level0_row4\" class=\"row_heading level0 row4\" >seconds_remaining</th>\n",
              "                        <td id=\"T_fbc5bc6a_82cb_11ea_9903_0242ac1c0002row4_col0\" class=\"data row4 col0\" >-0.009982</td>\n",
              "                        <td id=\"T_fbc5bc6a_82cb_11ea_9903_0242ac1c0002row4_col1\" class=\"data row4 col1\" >-0.018433</td>\n",
              "                        <td id=\"T_fbc5bc6a_82cb_11ea_9903_0242ac1c0002row4_col2\" class=\"data row4 col2\" >0.009031</td>\n",
              "                        <td id=\"T_fbc5bc6a_82cb_11ea_9903_0242ac1c0002row4_col3\" class=\"data row4 col3\" >0.037336</td>\n",
              "                        <td id=\"T_fbc5bc6a_82cb_11ea_9903_0242ac1c0002row4_col4\" class=\"data row4 col4\" >1.000000</td>\n",
              "                        <td id=\"T_fbc5bc6a_82cb_11ea_9903_0242ac1c0002row4_col5\" class=\"data row4 col5\" >-0.064230</td>\n",
              "                        <td id=\"T_fbc5bc6a_82cb_11ea_9903_0242ac1c0002row4_col6\" class=\"data row4 col6\" >-0.010662</td>\n",
              "                        <td id=\"T_fbc5bc6a_82cb_11ea_9903_0242ac1c0002row4_col7\" class=\"data row4 col7\" >-0.068568</td>\n",
              "                        <td id=\"T_fbc5bc6a_82cb_11ea_9903_0242ac1c0002row4_col8\" class=\"data row4 col8\" >0.036618</td>\n",
              "                        <td id=\"T_fbc5bc6a_82cb_11ea_9903_0242ac1c0002row4_col9\" class=\"data row4 col9\" >-0.007952</td>\n",
              "                        <td id=\"T_fbc5bc6a_82cb_11ea_9903_0242ac1c0002row4_col10\" class=\"data row4 col10\" >0.013011</td>\n",
              "            </tr>\n",
              "            <tr>\n",
              "                        <th id=\"T_fbc5bc6a_82cb_11ea_9903_0242ac1c0002level0_row5\" class=\"row_heading level0 row5\" >shot_distance</th>\n",
              "                        <td id=\"T_fbc5bc6a_82cb_11ea_9903_0242ac1c0002row5_col0\" class=\"data row5 col0\" >0.019789</td>\n",
              "                        <td id=\"T_fbc5bc6a_82cb_11ea_9903_0242ac1c0002row5_col1\" class=\"data row5 col1\" >0.011211</td>\n",
              "                        <td id=\"T_fbc5bc6a_82cb_11ea_9903_0242ac1c0002row5_col2\" class=\"data row5 col2\" >-0.014679</td>\n",
              "                        <td id=\"T_fbc5bc6a_82cb_11ea_9903_0242ac1c0002row5_col3\" class=\"data row5 col3\" >-0.053699</td>\n",
              "                        <td id=\"T_fbc5bc6a_82cb_11ea_9903_0242ac1c0002row5_col4\" class=\"data row5 col4\" >-0.064230</td>\n",
              "                        <td id=\"T_fbc5bc6a_82cb_11ea_9903_0242ac1c0002row5_col5\" class=\"data row5 col5\" >1.000000</td>\n",
              "                        <td id=\"T_fbc5bc6a_82cb_11ea_9903_0242ac1c0002row5_col6\" class=\"data row5 col6\" >-0.017901</td>\n",
              "                        <td id=\"T_fbc5bc6a_82cb_11ea_9903_0242ac1c0002row5_col7\" class=\"data row5 col7\" >0.822426</td>\n",
              "                        <td id=\"T_fbc5bc6a_82cb_11ea_9903_0242ac1c0002row5_col8\" class=\"data row5 col8\" >-0.138070</td>\n",
              "                        <td id=\"T_fbc5bc6a_82cb_11ea_9903_0242ac1c0002row5_col9\" class=\"data row5 col9\" >0.025137</td>\n",
              "                        <td id=\"T_fbc5bc6a_82cb_11ea_9903_0242ac1c0002row5_col10\" class=\"data row5 col10\" >0.041477</td>\n",
              "            </tr>\n",
              "            <tr>\n",
              "                        <th id=\"T_fbc5bc6a_82cb_11ea_9903_0242ac1c0002level0_row6\" class=\"row_heading level0 row6\" >loc_x</th>\n",
              "                        <td id=\"T_fbc5bc6a_82cb_11ea_9903_0242ac1c0002row6_col0\" class=\"data row6 col0\" >-0.007311</td>\n",
              "                        <td id=\"T_fbc5bc6a_82cb_11ea_9903_0242ac1c0002row6_col1\" class=\"data row6 col1\" >0.037097</td>\n",
              "                        <td id=\"T_fbc5bc6a_82cb_11ea_9903_0242ac1c0002row6_col2\" class=\"data row6 col2\" >0.040834</td>\n",
              "                        <td id=\"T_fbc5bc6a_82cb_11ea_9903_0242ac1c0002row6_col3\" class=\"data row6 col3\" >-0.012034</td>\n",
              "                        <td id=\"T_fbc5bc6a_82cb_11ea_9903_0242ac1c0002row6_col4\" class=\"data row6 col4\" >-0.010662</td>\n",
              "                        <td id=\"T_fbc5bc6a_82cb_11ea_9903_0242ac1c0002row6_col5\" class=\"data row6 col5\" >-0.017901</td>\n",
              "                        <td id=\"T_fbc5bc6a_82cb_11ea_9903_0242ac1c0002row6_col6\" class=\"data row6 col6\" >1.000000</td>\n",
              "                        <td id=\"T_fbc5bc6a_82cb_11ea_9903_0242ac1c0002row6_col7\" class=\"data row6 col7\" >0.036513</td>\n",
              "                        <td id=\"T_fbc5bc6a_82cb_11ea_9903_0242ac1c0002row6_col8\" class=\"data row6 col8\" >-0.005824</td>\n",
              "                        <td id=\"T_fbc5bc6a_82cb_11ea_9903_0242ac1c0002row6_col9\" class=\"data row6 col9\" >0.013601</td>\n",
              "                        <td id=\"T_fbc5bc6a_82cb_11ea_9903_0242ac1c0002row6_col10\" class=\"data row6 col10\" >-0.018087</td>\n",
              "            </tr>\n",
              "            <tr>\n",
              "                        <th id=\"T_fbc5bc6a_82cb_11ea_9903_0242ac1c0002level0_row7\" class=\"row_heading level0 row7\" >loc_y</th>\n",
              "                        <td id=\"T_fbc5bc6a_82cb_11ea_9903_0242ac1c0002row7_col0\" class=\"data row7 col0\" >0.016984</td>\n",
              "                        <td id=\"T_fbc5bc6a_82cb_11ea_9903_0242ac1c0002row7_col1\" class=\"data row7 col1\" >0.029789</td>\n",
              "                        <td id=\"T_fbc5bc6a_82cb_11ea_9903_0242ac1c0002row7_col2\" class=\"data row7 col2\" >0.002066</td>\n",
              "                        <td id=\"T_fbc5bc6a_82cb_11ea_9903_0242ac1c0002row7_col3\" class=\"data row7 col3\" >-0.078049</td>\n",
              "                        <td id=\"T_fbc5bc6a_82cb_11ea_9903_0242ac1c0002row7_col4\" class=\"data row7 col4\" >-0.068568</td>\n",
              "                        <td id=\"T_fbc5bc6a_82cb_11ea_9903_0242ac1c0002row7_col5\" class=\"data row7 col5\" >0.822426</td>\n",
              "                        <td id=\"T_fbc5bc6a_82cb_11ea_9903_0242ac1c0002row7_col6\" class=\"data row7 col6\" >0.036513</td>\n",
              "                        <td id=\"T_fbc5bc6a_82cb_11ea_9903_0242ac1c0002row7_col7\" class=\"data row7 col7\" >1.000000</td>\n",
              "                        <td id=\"T_fbc5bc6a_82cb_11ea_9903_0242ac1c0002row7_col8\" class=\"data row7 col8\" >-0.130082</td>\n",
              "                        <td id=\"T_fbc5bc6a_82cb_11ea_9903_0242ac1c0002row7_col9\" class=\"data row7 col9\" >0.018910</td>\n",
              "                        <td id=\"T_fbc5bc6a_82cb_11ea_9903_0242ac1c0002row7_col10\" class=\"data row7 col10\" >0.063964</td>\n",
              "            </tr>\n",
              "            <tr>\n",
              "                        <th id=\"T_fbc5bc6a_82cb_11ea_9903_0242ac1c0002level0_row8\" class=\"row_heading level0 row8\" >shot_made_flag</th>\n",
              "                        <td id=\"T_fbc5bc6a_82cb_11ea_9903_0242ac1c0002row8_col0\" class=\"data row8 col0\" >-0.017542</td>\n",
              "                        <td id=\"T_fbc5bc6a_82cb_11ea_9903_0242ac1c0002row8_col1\" class=\"data row8 col1\" >-0.012720</td>\n",
              "                        <td id=\"T_fbc5bc6a_82cb_11ea_9903_0242ac1c0002row8_col2\" class=\"data row8 col2\" >-0.005241</td>\n",
              "                        <td id=\"T_fbc5bc6a_82cb_11ea_9903_0242ac1c0002row8_col3\" class=\"data row8 col3\" >0.033877</td>\n",
              "                        <td id=\"T_fbc5bc6a_82cb_11ea_9903_0242ac1c0002row8_col4\" class=\"data row8 col4\" >0.036618</td>\n",
              "                        <td id=\"T_fbc5bc6a_82cb_11ea_9903_0242ac1c0002row8_col5\" class=\"data row8 col5\" >-0.138070</td>\n",
              "                        <td id=\"T_fbc5bc6a_82cb_11ea_9903_0242ac1c0002row8_col6\" class=\"data row8 col6\" >-0.005824</td>\n",
              "                        <td id=\"T_fbc5bc6a_82cb_11ea_9903_0242ac1c0002row8_col7\" class=\"data row8 col7\" >-0.130082</td>\n",
              "                        <td id=\"T_fbc5bc6a_82cb_11ea_9903_0242ac1c0002row8_col8\" class=\"data row8 col8\" >1.000000</td>\n",
              "                        <td id=\"T_fbc5bc6a_82cb_11ea_9903_0242ac1c0002row8_col9\" class=\"data row8 col9\" >-0.003207</td>\n",
              "                        <td id=\"T_fbc5bc6a_82cb_11ea_9903_0242ac1c0002row8_col10\" class=\"data row8 col10\" >0.016526</td>\n",
              "            </tr>\n",
              "            <tr>\n",
              "                        <th id=\"T_fbc5bc6a_82cb_11ea_9903_0242ac1c0002level0_row9\" class=\"row_heading level0 row9\" >scoremargin_before_shot</th>\n",
              "                        <td id=\"T_fbc5bc6a_82cb_11ea_9903_0242ac1c0002row9_col0\" class=\"data row9 col0\" >-0.022761</td>\n",
              "                        <td id=\"T_fbc5bc6a_82cb_11ea_9903_0242ac1c0002row9_col1\" class=\"data row9 col1\" >0.096800</td>\n",
              "                        <td id=\"T_fbc5bc6a_82cb_11ea_9903_0242ac1c0002row9_col2\" class=\"data row9 col2\" >0.076163</td>\n",
              "                        <td id=\"T_fbc5bc6a_82cb_11ea_9903_0242ac1c0002row9_col3\" class=\"data row9 col3\" >-0.084498</td>\n",
              "                        <td id=\"T_fbc5bc6a_82cb_11ea_9903_0242ac1c0002row9_col4\" class=\"data row9 col4\" >-0.007952</td>\n",
              "                        <td id=\"T_fbc5bc6a_82cb_11ea_9903_0242ac1c0002row9_col5\" class=\"data row9 col5\" >0.025137</td>\n",
              "                        <td id=\"T_fbc5bc6a_82cb_11ea_9903_0242ac1c0002row9_col6\" class=\"data row9 col6\" >0.013601</td>\n",
              "                        <td id=\"T_fbc5bc6a_82cb_11ea_9903_0242ac1c0002row9_col7\" class=\"data row9 col7\" >0.018910</td>\n",
              "                        <td id=\"T_fbc5bc6a_82cb_11ea_9903_0242ac1c0002row9_col8\" class=\"data row9 col8\" >-0.003207</td>\n",
              "                        <td id=\"T_fbc5bc6a_82cb_11ea_9903_0242ac1c0002row9_col9\" class=\"data row9 col9\" >1.000000</td>\n",
              "                        <td id=\"T_fbc5bc6a_82cb_11ea_9903_0242ac1c0002row9_col10\" class=\"data row9 col10\" >0.139805</td>\n",
              "            </tr>\n",
              "            <tr>\n",
              "                        <th id=\"T_fbc5bc6a_82cb_11ea_9903_0242ac1c0002level0_row10\" class=\"row_heading level0 row10\" >homecourt_advantage</th>\n",
              "                        <td id=\"T_fbc5bc6a_82cb_11ea_9903_0242ac1c0002row10_col0\" class=\"data row10 col0\" >0.006558</td>\n",
              "                        <td id=\"T_fbc5bc6a_82cb_11ea_9903_0242ac1c0002row10_col1\" class=\"data row10 col1\" >-0.038768</td>\n",
              "                        <td id=\"T_fbc5bc6a_82cb_11ea_9903_0242ac1c0002row10_col2\" class=\"data row10 col2\" >-0.008206</td>\n",
              "                        <td id=\"T_fbc5bc6a_82cb_11ea_9903_0242ac1c0002row10_col3\" class=\"data row10 col3\" >-0.002664</td>\n",
              "                        <td id=\"T_fbc5bc6a_82cb_11ea_9903_0242ac1c0002row10_col4\" class=\"data row10 col4\" >0.013011</td>\n",
              "                        <td id=\"T_fbc5bc6a_82cb_11ea_9903_0242ac1c0002row10_col5\" class=\"data row10 col5\" >0.041477</td>\n",
              "                        <td id=\"T_fbc5bc6a_82cb_11ea_9903_0242ac1c0002row10_col6\" class=\"data row10 col6\" >-0.018087</td>\n",
              "                        <td id=\"T_fbc5bc6a_82cb_11ea_9903_0242ac1c0002row10_col7\" class=\"data row10 col7\" >0.063964</td>\n",
              "                        <td id=\"T_fbc5bc6a_82cb_11ea_9903_0242ac1c0002row10_col8\" class=\"data row10 col8\" >0.016526</td>\n",
              "                        <td id=\"T_fbc5bc6a_82cb_11ea_9903_0242ac1c0002row10_col9\" class=\"data row10 col9\" >0.139805</td>\n",
              "                        <td id=\"T_fbc5bc6a_82cb_11ea_9903_0242ac1c0002row10_col10\" class=\"data row10 col10\" >1.000000</td>\n",
              "            </tr>\n",
              "    </tbody></table>"
            ],
            "text/plain": [
              "<pandas.io.formats.style.Styler at 0x7ff81635da90>"
            ]
          },
          "metadata": {
            "tags": []
          },
          "execution_count": 131
        }
      ]
    },
    {
      "cell_type": "markdown",
      "metadata": {
        "id": "OsDmhzDipNaQ",
        "colab_type": "text"
      },
      "source": [
        "**Correlation Heatmap**"
      ]
    },
    {
      "cell_type": "code",
      "metadata": {
        "id": "g-j4uKV8pQ5J",
        "colab_type": "code",
        "outputId": "71dfca9d-198c-4651-df08-09ada0b4e1c9",
        "colab": {
          "base_uri": "https://localhost:8080/",
          "height": 676
        }
      },
      "source": [
        "# using https://towardsdatascience.com/better-heatmaps-and-correlation-matrix-plots-in-python-41445d0f2bec\n",
        "import seaborn as sns\n",
        "import matplotlib.pyplot as plt\n",
        "\n",
        "corrmat = df.corr()\n",
        "f, ax = plt.subplots(figsize=(12, 9))\n",
        "sns.heatmap(corrmat, vmax=.8, square=True);\n",
        "\n",
        "'''\n",
        "# Using corr from previous cell: same output, mais bien sur\n",
        "\n",
        "corr = df.corr()\n",
        "f, ax = plt.subplots(figsize=(12, 9))\n",
        "sns.heatmap(corr, vmax=.8, square=True);\n",
        "'''"
      ],
      "execution_count": 0,
      "outputs": [
        {
          "output_type": "execute_result",
          "data": {
            "text/plain": [
              "'\\n# Using corr from previous cell: same output, mais bien sur\\n\\ncorr = df.corr()\\nf, ax = plt.subplots(figsize=(12, 9))\\nsns.heatmap(corr, vmax=.8, square=True);\\n'"
            ]
          },
          "metadata": {
            "tags": []
          },
          "execution_count": 132
        },
        {
          "output_type": "display_data",
          "data": {
            "image/png": "[encoded data removed]",
            "text/plain": [
              "<Figure size 864x648 with 2 Axes>"
            ]
          },
          "metadata": {
            "tags": [],
            "needs_background": "light"
          }
        }
      ]
    },
    {
      "cell_type": "markdown",
      "metadata": {
        "id": "AlSXmTVQ1kbs",
        "colab_type": "text"
      },
      "source": [
        "**Partial Dependence Plot**"
      ]
    },
    {
      "cell_type": "code",
      "metadata": {
        "id": "qIzebGIe1qIA",
        "colab_type": "code",
        "colab": {}
      },
      "source": [
        "!pip install pdpbox\n",
        "\n",
        "from pdpbox.pdp import pdp_interact, pdp_interact_plot"
      ],
      "execution_count": 0,
      "outputs": []
    },
    {
      "cell_type": "code",
      "metadata": {
        "id": "c_R5IkQ85Bo3",
        "colab_type": "code",
        "outputId": "2a6c72e8-866b-4a32-ee59-97733ae2751b",
        "colab": {
          "base_uri": "https://localhost:8080/",
          "height": 35
        }
      },
      "source": [
        "from sklearn.metrics import r2_score\n",
        "from xgboost import XGBRegressor\n",
        "\n",
        "gb = make_pipeline(\n",
        "    ce.OrdinalEncoder(), \n",
        "    XGBRegressor(n_estimators=200, objective='reg:squarederror', n_jobs=-1)\n",
        ")\n",
        "\n",
        "gb.fit(X_train, y_train)\n",
        "y_pred = gb.predict(X_val)\n",
        "print('Gradient Boosting R^2', r2_score(y_val, y_pred))"
      ],
      "execution_count": 0,
      "outputs": [
        {
          "output_type": "stream",
          "text": [
            "Gradient Boosting R^2 -0.005922007689495246\n"
          ],
          "name": "stdout"
        }
      ]
    },
    {
      "cell_type": "code",
      "metadata": {
        "id": "o9aGWhFI2Dox",
        "colab_type": "code",
        "outputId": "73935920-2ba0-46d8-eca4-0b0d804dd9cc",
        "colab": {
          "base_uri": "https://localhost:8080/",
          "height": 633
        }
      },
      "source": [
        "# Select target column and another feature column to  see their interdependence\n",
        "#use_features = ['shot_made_flag', 'shot_distance'] # target = 'shot_made_flag' here; getting ValueError: feature does not exist: shot_made_flag\n",
        "\n",
        "#try different target\n",
        "use_features = ['seconds_remaining', 'shot_distance']\n",
        "interaction = pdp_interact(\n",
        "    model = gb,\n",
        "    dataset = X_val, # because score on Validataion set?\n",
        "    model_features = X_val.columns,\n",
        "    features = use_features\n",
        "\n",
        ")\n",
        "\n",
        "pdp_interact_plot(interaction, plot_type = 'grid', feature_names = 'use_features')"
      ],
      "execution_count": 0,
      "outputs": [
        {
          "output_type": "execute_result",
          "data": {
            "text/plain": [
              "(<Figure size 540x684 with 3 Axes>,\n",
              " {'pdp_inter_ax': <matplotlib.axes._subplots.AxesSubplot at 0x7ff8162e9780>,\n",
              "  'title_ax': <matplotlib.axes._subplots.AxesSubplot at 0x7ff816740e10>})"
            ]
          },
          "metadata": {
            "tags": []
          },
          "execution_count": 135
        },
        {
          "output_type": "display_data",
          "data": {
            "image/png": "[encoded data removed]",
            "text/plain": [
              "<Figure size 540x684 with 3 Axes>"
            ]
          },
          "metadata": {
            "tags": [],
            "needs_background": "light"
          }
        }
      ]
    },
    {
      "cell_type": "code",
      "metadata": {
        "id": "_tlkQ-CEB3p4",
        "colab_type": "code",
        "colab": {}
      },
      "source": [
        "# Use Pdpbox\n",
        "!pip install Pdpbox\n",
        "\n",
        "%matplotlib inline\n",
        "import matplotlib.pyplot as plt\n",
        "from pdpbox import pdp\n",
        "feature = 'seconds_remaining'\n",
        "pdp_dist = pdp.pdp_isolate(model=gb, dataset=X_val, model_features=X_val.columns, feature=feature)\n",
        "pdp.pdp_plot(pdp_dist, feature);"
      ],
      "execution_count": 0,
      "outputs": []
    },
    {
      "cell_type": "code",
      "metadata": {
        "id": "GPBIQUNvAd7V",
        "colab_type": "code",
        "colab": {}
      },
      "source": [
        "# pdp.pdp_plot()..  ERR: missing ..isolate() and..."
      ],
      "execution_count": 0,
      "outputs": []
    },
    {
      "cell_type": "code",
      "metadata": {
        "id": "W19NIVWJ6bNZ",
        "colab_type": "code",
        "outputId": "ba12dc8f-77cc-4990-d827-ea0fe9e21333",
        "colab": {
          "base_uri": "https://localhost:8080/",
          "height": 225
        }
      },
      "source": [
        "print(df['shot_made_flag'])"
      ],
      "execution_count": 0,
      "outputs": [
        {
          "output_type": "stream",
          "text": [
            "0        0\n",
            "1        1\n",
            "2        0\n",
            "3        0\n",
            "4        0\n",
            "        ..\n",
            "13953    1\n",
            "13954    0\n",
            "13955    0\n",
            "13956    0\n",
            "13957    0\n",
            "Name: shot_made_flag, Length: 13958, dtype: int64\n"
          ],
          "name": "stdout"
        }
      ]
    },
    {
      "cell_type": "markdown",
      "metadata": {
        "id": "N5BBJkGt8euc",
        "colab_type": "text"
      },
      "source": [
        "## 3) Optimize 3+ hyperparameters by trying 10+ \"candidates\" (possible combinations of hyperparameters). You can use RandomizedSearchCV or do it manually."
      ]
    },
    {
      "cell_type": "markdown",
      "metadata": {
        "id": "lgSQC2f1IwvG",
        "colab_type": "text"
      },
      "source": [
        "### a) Trying to Redo Validation using RandomizedSearchCV..."
      ]
    },
    {
      "cell_type": "code",
      "metadata": {
        "id": "2Yh3KpsY8ggh",
        "colab_type": "code",
        "outputId": "2e05060f-e782-47cb-caa4-42e3f482c146",
        "colab": {
          "base_uri": "https://localhost:8080/",
          "height": 55
        }
      },
      "source": [
        "# ATTEMPT 1: using: https://colab.research.google.com/drive/1Ef4rT81DajicLyy_zl20m894z-JWeYQ4\n",
        "'''\n",
        "RandomForestClassifier()\n",
        "\n",
        "pipe = make_pipeline(\n",
        "    SimpleImputer(),\n",
        "    RandomForestClassifier(n_jobs=-1)\n",
        ")\n",
        "\n",
        "search = RandomizedSearchCV(\n",
        "    pipe,\n",
        "    param_distributions={\n",
        "        \"simpleimputer__strategy\": [\"mean\", \"median\"],\n",
        "        \"randomforestclassifier__max_depth\": [15, 20, 25, 30, 50, None]\n",
        "    },\n",
        "    n_iter=10,\n",
        "    cv=3,\n",
        "    verbose=10,\n",
        ")\n",
        "search.fit(X_train, y_train)\n",
        "'''"
      ],
      "execution_count": 0,
      "outputs": [
        {
          "output_type": "execute_result",
          "data": {
            "text/plain": [
              "'\\nRandomForestClassifier()\\n\\npipe = make_pipeline(\\n    SimpleImputer(),\\n    RandomForestClassifier(n_jobs=-1)\\n)\\n\\nsearch = RandomizedSearchCV(\\n    pipe,\\n    param_distributions={\\n        \"simpleimputer__strategy\": [\"mean\", \"median\"],\\n        \"randomforestclassifier__max_depth\": [15, 20, 25, 30, 50, None]\\n    },\\n    n_iter=10,\\n    cv=3,\\n    verbose=10,\\n)\\nsearch.fit(X_train, y_train)\\n'"
            ]
          },
          "metadata": {
            "tags": []
          },
          "execution_count": 139
        }
      ]
    },
    {
      "cell_type": "code",
      "metadata": {
        "id": "NM42Y2-HSkB7",
        "colab_type": "code",
        "colab": {}
      },
      "source": [
        "#ATTEMPT 2:\n",
        "\n",
        "from sklearn.model_selection import RandomizedSearchCV\n",
        "from scipy.stats import randint, uniform\n",
        "\n",
        "params = {\n",
        "    \"simpleimputer__strategy\": [\"mean\", \"median\"],\n",
        "    \"randomforestclassifier__n_estimators\": randint(50, 1000),\n",
        "    \"randomforestclassifier__max_depth\": [10, 15, 25, 40, None],\n",
        "    \"randomforestclassifier__max_features\": uniform(0, 1),\n",
        "}\n",
        "\n",
        "pipe = make_pipeline(\n",
        "    SimpleImputer(),\n",
        "    RandomForestClassifier(n_jobs=-1),\n",
        ")\n",
        "\n",
        "search = RandomizedSearchCV(\n",
        "    pipe,\n",
        "    param_distributions=params,\n",
        "    n_iter=100,\n",
        "    cv=3,\n",
        "    scoring=\"accuracy\",\n",
        "    verbose=10,\n",
        ")\n",
        "\n",
        "search.fit(X_val, y_val)"
      ],
      "execution_count": 0,
      "outputs": []
    },
    {
      "cell_type": "code",
      "metadata": {
        "id": "KsxdRMcfTSHx",
        "colab_type": "code",
        "outputId": "57fabeb2-f18e-4029-9045-581aa18166fd",
        "colab": {
          "base_uri": "https://localhost:8080/",
          "height": 1000
        }
      },
      "source": [
        "#ATTEMPT 3: ValueError: could not convert string to float: 'Stephen Curry'pipe = make_pipeline(  - TRY ORDINAL ENCODER?\n",
        "    SimpleImputer(),\n",
        "    RandomForestClassifier(n_jobs=-1)\n",
        ")\n",
        "\n",
        "search = RandomizedSearchCV(\n",
        "    pipe,\n",
        "    param_distributions={\n",
        "        \"simpleimputer__strategy\": [\"most_frequent\"],\n",
        "        \"randomforestclassifier__max_depth\": [15, 20, 25, 30, 50, None]\n",
        "    },\n",
        "    n_iter=10,\n",
        "    cv=3,\n",
        "    verbose=10,\n",
        ")\n",
        "search.fit(X_train, y_train)"
      ],
      "execution_count": 0,
      "outputs": [
        {
          "output_type": "stream",
          "text": [
            "Fitting 3 folds for each of 6 candidates, totalling 18 fits\n",
            "[CV] simpleimputer__strategy=most_frequent, randomforestclassifier__max_depth=15 \n"
          ],
          "name": "stdout"
        },
        {
          "output_type": "stream",
          "text": [
            "[Parallel(n_jobs=1)]: Using backend SequentialBackend with 1 concurrent workers.\n"
          ],
          "name": "stderr"
        },
        {
          "output_type": "stream",
          "text": [
            "[CV]  simpleimputer__strategy=most_frequent, randomforestclassifier__max_depth=15, score=nan, total=   0.2s\n",
            "[CV] simpleimputer__strategy=most_frequent, randomforestclassifier__max_depth=15 \n"
          ],
          "name": "stdout"
        },
        {
          "output_type": "stream",
          "text": [
            "[Parallel(n_jobs=1)]: Done   1 out of   1 | elapsed:    0.2s remaining:    0.0s\n"
          ],
          "name": "stderr"
        },
        {
          "output_type": "stream",
          "text": [
            "[CV]  simpleimputer__strategy=most_frequent, randomforestclassifier__max_depth=15, score=nan, total=   0.2s\n",
            "[CV] simpleimputer__strategy=most_frequent, randomforestclassifier__max_depth=15 \n"
          ],
          "name": "stdout"
        },
        {
          "output_type": "stream",
          "text": [
            "[Parallel(n_jobs=1)]: Done   2 out of   2 | elapsed:    0.4s remaining:    0.0s\n"
          ],
          "name": "stderr"
        },
        {
          "output_type": "stream",
          "text": [
            "[CV]  simpleimputer__strategy=most_frequent, randomforestclassifier__max_depth=15, score=nan, total=   0.2s\n",
            "[CV] simpleimputer__strategy=most_frequent, randomforestclassifier__max_depth=20 \n",
            "[CV]  simpleimputer__strategy=most_frequent, randomforestclassifier__max_depth=20, score=nan, total=   0.2s\n",
            "[CV] simpleimputer__strategy=most_frequent, randomforestclassifier__max_depth=20 \n"
          ],
          "name": "stdout"
        },
        {
          "output_type": "stream",
          "text": [
            "[Parallel(n_jobs=1)]: Done   3 out of   3 | elapsed:    0.6s remaining:    0.0s\n",
            "[Parallel(n_jobs=1)]: Done   4 out of   4 | elapsed:    0.8s remaining:    0.0s\n"
          ],
          "name": "stderr"
        },
        {
          "output_type": "stream",
          "text": [
            "[CV]  simpleimputer__strategy=most_frequent, randomforestclassifier__max_depth=20, score=nan, total=   0.2s\n",
            "[CV] simpleimputer__strategy=most_frequent, randomforestclassifier__max_depth=20 \n"
          ],
          "name": "stdout"
        },
        {
          "output_type": "stream",
          "text": [
            "[Parallel(n_jobs=1)]: Done   5 out of   5 | elapsed:    1.0s remaining:    0.0s\n"
          ],
          "name": "stderr"
        },
        {
          "output_type": "stream",
          "text": [
            "[CV]  simpleimputer__strategy=most_frequent, randomforestclassifier__max_depth=20, score=nan, total=   0.2s\n",
            "[CV] simpleimputer__strategy=most_frequent, randomforestclassifier__max_depth=25 \n"
          ],
          "name": "stdout"
        },
        {
          "output_type": "stream",
          "text": [
            "[Parallel(n_jobs=1)]: Done   6 out of   6 | elapsed:    1.3s remaining:    0.0s\n"
          ],
          "name": "stderr"
        },
        {
          "output_type": "stream",
          "text": [
            "[CV]  simpleimputer__strategy=most_frequent, randomforestclassifier__max_depth=25, score=nan, total=   0.2s\n",
            "[CV] simpleimputer__strategy=most_frequent, randomforestclassifier__max_depth=25 \n"
          ],
          "name": "stdout"
        },
        {
          "output_type": "stream",
          "text": [
            "[Parallel(n_jobs=1)]: Done   7 out of   7 | elapsed:    1.5s remaining:    0.0s\n"
          ],
          "name": "stderr"
        },
        {
          "output_type": "stream",
          "text": [
            "[CV]  simpleimputer__strategy=most_frequent, randomforestclassifier__max_depth=25, score=nan, total=   0.2s\n",
            "[CV] simpleimputer__strategy=most_frequent, randomforestclassifier__max_depth=25 \n",
            "[CV]  simpleimputer__strategy=most_frequent, randomforestclassifier__max_depth=25, score=nan, total=   0.2s\n",
            "[CV] simpleimputer__strategy=most_frequent, randomforestclassifier__max_depth=30 \n"
          ],
          "name": "stdout"
        },
        {
          "output_type": "stream",
          "text": [
            "[Parallel(n_jobs=1)]: Done   8 out of   8 | elapsed:    1.7s remaining:    0.0s\n",
            "[Parallel(n_jobs=1)]: Done   9 out of   9 | elapsed:    1.9s remaining:    0.0s\n"
          ],
          "name": "stderr"
        },
        {
          "output_type": "stream",
          "text": [
            "[CV]  simpleimputer__strategy=most_frequent, randomforestclassifier__max_depth=30, score=nan, total=   0.2s\n",
            "[CV] simpleimputer__strategy=most_frequent, randomforestclassifier__max_depth=30 \n",
            "[CV]  simpleimputer__strategy=most_frequent, randomforestclassifier__max_depth=30, score=nan, total=   0.2s\n",
            "[CV] simpleimputer__strategy=most_frequent, randomforestclassifier__max_depth=30 \n",
            "[CV]  simpleimputer__strategy=most_frequent, randomforestclassifier__max_depth=30, score=nan, total=   0.2s\n",
            "[CV] simpleimputer__strategy=most_frequent, randomforestclassifier__max_depth=50 \n",
            "[CV]  simpleimputer__strategy=most_frequent, randomforestclassifier__max_depth=50, score=nan, total=   0.2s\n",
            "[CV] simpleimputer__strategy=most_frequent, randomforestclassifier__max_depth=50 \n",
            "[CV]  simpleimputer__strategy=most_frequent, randomforestclassifier__max_depth=50, score=nan, total=   0.2s\n",
            "[CV] simpleimputer__strategy=most_frequent, randomforestclassifier__max_depth=50 \n",
            "[CV]  simpleimputer__strategy=most_frequent, randomforestclassifier__max_depth=50, score=nan, total=   0.2s\n",
            "[CV] simpleimputer__strategy=most_frequent, randomforestclassifier__max_depth=None \n",
            "[CV]  simpleimputer__strategy=most_frequent, randomforestclassifier__max_depth=None, score=nan, total=   0.2s\n",
            "[CV] simpleimputer__strategy=most_frequent, randomforestclassifier__max_depth=None \n",
            "[CV]  simpleimputer__strategy=most_frequent, randomforestclassifier__max_depth=None, score=nan, total=   0.2s\n",
            "[CV] simpleimputer__strategy=most_frequent, randomforestclassifier__max_depth=None \n",
            "[CV]  simpleimputer__strategy=most_frequent, randomforestclassifier__max_depth=None, score=nan, total=   0.2s\n"
          ],
          "name": "stdout"
        },
        {
          "output_type": "stream",
          "text": [
            "[Parallel(n_jobs=1)]: Done  18 out of  18 | elapsed:    3.7s finished\n"
          ],
          "name": "stderr"
        },
        {
          "output_type": "error",
          "ename": "ValueError",
          "evalue": "ignored",
          "traceback": [
            "\u001b[0;31m---------------------------------------------------------------------------\u001b[0m",
            "\u001b[0;31mValueError\u001b[0m                                Traceback (most recent call last)",
            "\u001b[0;32m<ipython-input-171-0ed3d16ef245>\u001b[0m in \u001b[0;36m<module>\u001b[0;34m()\u001b[0m\n\u001b[1;32m     14\u001b[0m     \u001b[0mverbose\u001b[0m\u001b[0;34m=\u001b[0m\u001b[0;36m10\u001b[0m\u001b[0;34m,\u001b[0m\u001b[0;34m\u001b[0m\u001b[0;34m\u001b[0m\u001b[0m\n\u001b[1;32m     15\u001b[0m )\n\u001b[0;32m---> 16\u001b[0;31m \u001b[0msearch\u001b[0m\u001b[0;34m.\u001b[0m\u001b[0mfit\u001b[0m\u001b[0;34m(\u001b[0m\u001b[0mX_train\u001b[0m\u001b[0;34m,\u001b[0m \u001b[0my_train\u001b[0m\u001b[0;34m)\u001b[0m\u001b[0;34m\u001b[0m\u001b[0;34m\u001b[0m\u001b[0m\n\u001b[0m",
            "\u001b[0;32m/usr/local/lib/python3.6/dist-packages/sklearn/model_selection/_search.py\u001b[0m in \u001b[0;36mfit\u001b[0;34m(self, X, y, groups, **fit_params)\u001b[0m\n\u001b[1;32m    737\u001b[0m             \u001b[0mrefit_start_time\u001b[0m \u001b[0;34m=\u001b[0m \u001b[0mtime\u001b[0m\u001b[0;34m.\u001b[0m\u001b[0mtime\u001b[0m\u001b[0;34m(\u001b[0m\u001b[0;34m)\u001b[0m\u001b[0;34m\u001b[0m\u001b[0;34m\u001b[0m\u001b[0m\n\u001b[1;32m    738\u001b[0m             \u001b[0;32mif\u001b[0m \u001b[0my\u001b[0m \u001b[0;32mis\u001b[0m \u001b[0;32mnot\u001b[0m \u001b[0;32mNone\u001b[0m\u001b[0;34m:\u001b[0m\u001b[0;34m\u001b[0m\u001b[0;34m\u001b[0m\u001b[0m\n\u001b[0;32m--> 739\u001b[0;31m                 \u001b[0mself\u001b[0m\u001b[0;34m.\u001b[0m\u001b[0mbest_estimator_\u001b[0m\u001b[0;34m.\u001b[0m\u001b[0mfit\u001b[0m\u001b[0;34m(\u001b[0m\u001b[0mX\u001b[0m\u001b[0;34m,\u001b[0m \u001b[0my\u001b[0m\u001b[0;34m,\u001b[0m \u001b[0;34m**\u001b[0m\u001b[0mfit_params\u001b[0m\u001b[0;34m)\u001b[0m\u001b[0;34m\u001b[0m\u001b[0;34m\u001b[0m\u001b[0m\n\u001b[0m\u001b[1;32m    740\u001b[0m             \u001b[0;32melse\u001b[0m\u001b[0;34m:\u001b[0m\u001b[0;34m\u001b[0m\u001b[0;34m\u001b[0m\u001b[0m\n\u001b[1;32m    741\u001b[0m                 \u001b[0mself\u001b[0m\u001b[0;34m.\u001b[0m\u001b[0mbest_estimator_\u001b[0m\u001b[0;34m.\u001b[0m\u001b[0mfit\u001b[0m\u001b[0;34m(\u001b[0m\u001b[0mX\u001b[0m\u001b[0;34m,\u001b[0m \u001b[0;34m**\u001b[0m\u001b[0mfit_params\u001b[0m\u001b[0;34m)\u001b[0m\u001b[0;34m\u001b[0m\u001b[0;34m\u001b[0m\u001b[0m\n",
            "\u001b[0;32m/usr/local/lib/python3.6/dist-packages/sklearn/pipeline.py\u001b[0m in \u001b[0;36mfit\u001b[0;34m(self, X, y, **fit_params)\u001b[0m\n\u001b[1;32m    352\u001b[0m                                  self._log_message(len(self.steps) - 1)):\n\u001b[1;32m    353\u001b[0m             \u001b[0;32mif\u001b[0m \u001b[0mself\u001b[0m\u001b[0;34m.\u001b[0m\u001b[0m_final_estimator\u001b[0m \u001b[0;34m!=\u001b[0m \u001b[0;34m'passthrough'\u001b[0m\u001b[0;34m:\u001b[0m\u001b[0;34m\u001b[0m\u001b[0;34m\u001b[0m\u001b[0m\n\u001b[0;32m--> 354\u001b[0;31m                 \u001b[0mself\u001b[0m\u001b[0;34m.\u001b[0m\u001b[0m_final_estimator\u001b[0m\u001b[0;34m.\u001b[0m\u001b[0mfit\u001b[0m\u001b[0;34m(\u001b[0m\u001b[0mXt\u001b[0m\u001b[0;34m,\u001b[0m \u001b[0my\u001b[0m\u001b[0;34m,\u001b[0m \u001b[0;34m**\u001b[0m\u001b[0mfit_params\u001b[0m\u001b[0;34m)\u001b[0m\u001b[0;34m\u001b[0m\u001b[0;34m\u001b[0m\u001b[0m\n\u001b[0m\u001b[1;32m    355\u001b[0m         \u001b[0;32mreturn\u001b[0m \u001b[0mself\u001b[0m\u001b[0;34m\u001b[0m\u001b[0;34m\u001b[0m\u001b[0m\n\u001b[1;32m    356\u001b[0m \u001b[0;34m\u001b[0m\u001b[0m\n",
            "\u001b[0;32m/usr/local/lib/python3.6/dist-packages/sklearn/ensemble/_forest.py\u001b[0m in \u001b[0;36mfit\u001b[0;34m(self, X, y, sample_weight)\u001b[0m\n\u001b[1;32m    293\u001b[0m         \"\"\"\n\u001b[1;32m    294\u001b[0m         \u001b[0;31m# Validate or convert input data\u001b[0m\u001b[0;34m\u001b[0m\u001b[0;34m\u001b[0m\u001b[0;34m\u001b[0m\u001b[0m\n\u001b[0;32m--> 295\u001b[0;31m         \u001b[0mX\u001b[0m \u001b[0;34m=\u001b[0m \u001b[0mcheck_array\u001b[0m\u001b[0;34m(\u001b[0m\u001b[0mX\u001b[0m\u001b[0;34m,\u001b[0m \u001b[0maccept_sparse\u001b[0m\u001b[0;34m=\u001b[0m\u001b[0;34m\"csc\"\u001b[0m\u001b[0;34m,\u001b[0m \u001b[0mdtype\u001b[0m\u001b[0;34m=\u001b[0m\u001b[0mDTYPE\u001b[0m\u001b[0;34m)\u001b[0m\u001b[0;34m\u001b[0m\u001b[0;34m\u001b[0m\u001b[0m\n\u001b[0m\u001b[1;32m    296\u001b[0m         \u001b[0my\u001b[0m \u001b[0;34m=\u001b[0m \u001b[0mcheck_array\u001b[0m\u001b[0;34m(\u001b[0m\u001b[0my\u001b[0m\u001b[0;34m,\u001b[0m \u001b[0maccept_sparse\u001b[0m\u001b[0;34m=\u001b[0m\u001b[0;34m'csc'\u001b[0m\u001b[0;34m,\u001b[0m \u001b[0mensure_2d\u001b[0m\u001b[0;34m=\u001b[0m\u001b[0;32mFalse\u001b[0m\u001b[0;34m,\u001b[0m \u001b[0mdtype\u001b[0m\u001b[0;34m=\u001b[0m\u001b[0;32mNone\u001b[0m\u001b[0;34m)\u001b[0m\u001b[0;34m\u001b[0m\u001b[0;34m\u001b[0m\u001b[0m\n\u001b[1;32m    297\u001b[0m         \u001b[0;32mif\u001b[0m \u001b[0msample_weight\u001b[0m \u001b[0;32mis\u001b[0m \u001b[0;32mnot\u001b[0m \u001b[0;32mNone\u001b[0m\u001b[0;34m:\u001b[0m\u001b[0;34m\u001b[0m\u001b[0;34m\u001b[0m\u001b[0m\n",
            "\u001b[0;32m/usr/local/lib/python3.6/dist-packages/sklearn/utils/validation.py\u001b[0m in \u001b[0;36mcheck_array\u001b[0;34m(array, accept_sparse, accept_large_sparse, dtype, order, copy, force_all_finite, ensure_2d, allow_nd, ensure_min_samples, ensure_min_features, warn_on_dtype, estimator)\u001b[0m\n\u001b[1;32m    529\u001b[0m                     \u001b[0marray\u001b[0m \u001b[0;34m=\u001b[0m \u001b[0marray\u001b[0m\u001b[0;34m.\u001b[0m\u001b[0mastype\u001b[0m\u001b[0;34m(\u001b[0m\u001b[0mdtype\u001b[0m\u001b[0;34m,\u001b[0m \u001b[0mcasting\u001b[0m\u001b[0;34m=\u001b[0m\u001b[0;34m\"unsafe\"\u001b[0m\u001b[0;34m,\u001b[0m \u001b[0mcopy\u001b[0m\u001b[0;34m=\u001b[0m\u001b[0;32mFalse\u001b[0m\u001b[0;34m)\u001b[0m\u001b[0;34m\u001b[0m\u001b[0;34m\u001b[0m\u001b[0m\n\u001b[1;32m    530\u001b[0m                 \u001b[0;32melse\u001b[0m\u001b[0;34m:\u001b[0m\u001b[0;34m\u001b[0m\u001b[0;34m\u001b[0m\u001b[0m\n\u001b[0;32m--> 531\u001b[0;31m                     \u001b[0marray\u001b[0m \u001b[0;34m=\u001b[0m \u001b[0mnp\u001b[0m\u001b[0;34m.\u001b[0m\u001b[0masarray\u001b[0m\u001b[0;34m(\u001b[0m\u001b[0marray\u001b[0m\u001b[0;34m,\u001b[0m \u001b[0morder\u001b[0m\u001b[0;34m=\u001b[0m\u001b[0morder\u001b[0m\u001b[0;34m,\u001b[0m \u001b[0mdtype\u001b[0m\u001b[0;34m=\u001b[0m\u001b[0mdtype\u001b[0m\u001b[0;34m)\u001b[0m\u001b[0;34m\u001b[0m\u001b[0;34m\u001b[0m\u001b[0m\n\u001b[0m\u001b[1;32m    532\u001b[0m             \u001b[0;32mexcept\u001b[0m \u001b[0mComplexWarning\u001b[0m\u001b[0;34m:\u001b[0m\u001b[0;34m\u001b[0m\u001b[0;34m\u001b[0m\u001b[0m\n\u001b[1;32m    533\u001b[0m                 raise ValueError(\"Complex data not supported\\n\"\n",
            "\u001b[0;32m/usr/local/lib/python3.6/dist-packages/numpy/core/_asarray.py\u001b[0m in \u001b[0;36masarray\u001b[0;34m(a, dtype, order)\u001b[0m\n\u001b[1;32m     83\u001b[0m \u001b[0;34m\u001b[0m\u001b[0m\n\u001b[1;32m     84\u001b[0m     \"\"\"\n\u001b[0;32m---> 85\u001b[0;31m     \u001b[0;32mreturn\u001b[0m \u001b[0marray\u001b[0m\u001b[0;34m(\u001b[0m\u001b[0ma\u001b[0m\u001b[0;34m,\u001b[0m \u001b[0mdtype\u001b[0m\u001b[0;34m,\u001b[0m \u001b[0mcopy\u001b[0m\u001b[0;34m=\u001b[0m\u001b[0;32mFalse\u001b[0m\u001b[0;34m,\u001b[0m \u001b[0morder\u001b[0m\u001b[0;34m=\u001b[0m\u001b[0morder\u001b[0m\u001b[0;34m)\u001b[0m\u001b[0;34m\u001b[0m\u001b[0;34m\u001b[0m\u001b[0m\n\u001b[0m\u001b[1;32m     86\u001b[0m \u001b[0;34m\u001b[0m\u001b[0m\n\u001b[1;32m     87\u001b[0m \u001b[0;34m\u001b[0m\u001b[0m\n",
            "\u001b[0;31mValueError\u001b[0m: could not convert string to float: 'Stephen Curry'"
          ]
        }
      ]
    },
    {
      "cell_type": "code",
      "metadata": {
        "id": "H1mPVD2iTX8p",
        "colab_type": "code",
        "outputId": "0f6071c7-41bc-415c-dfd7-0e7eb341a734",
        "colab": {
          "base_uri": "https://localhost:8080/",
          "height": 35
        }
      },
      "source": [
        "search.best_params_"
      ],
      "execution_count": 0,
      "outputs": [
        {
          "output_type": "execute_result",
          "data": {
            "text/plain": [
              "{'randomforestclassifier__max_depth': 20, 'simpleimputer__strategy': 'median'}"
            ]
          },
          "metadata": {
            "tags": []
          },
          "execution_count": 168
        }
      ]
    },
    {
      "cell_type": "code",
      "metadata": {
        "id": "0e_IfxYdSrp-",
        "colab_type": "code",
        "outputId": "70e03421-f7c7-4b87-bc2c-79aff7172344",
        "colab": {
          "base_uri": "https://localhost:8080/",
          "height": 416
        }
      },
      "source": [
        "impute = SimpleImputer()\n",
        "\n",
        "\n",
        "X_train = impute.fit_transform(X_train)\n",
        "X_test = impute.transform(X_test)\n",
        "\n",
        "# manual grid search\n",
        "for x in range(15, 50, 5):\n",
        "    clas = RandomForestClassifier(n_jobs=-1, max_depth=x)\n",
        "    clas.fit(X_train, y_train)\n",
        "    score = clas.score(X_test, y_test)\n",
        "    print(f\"{x}: {score}\")"
      ],
      "execution_count": 0,
      "outputs": [
        {
          "output_type": "error",
          "ename": "ValueError",
          "evalue": "ignored",
          "traceback": [
            "\u001b[0;31m---------------------------------------------------------------------------\u001b[0m",
            "\u001b[0;31mValueError\u001b[0m                                Traceback (most recent call last)",
            "\u001b[0;32m<ipython-input-173-633ed3572239>\u001b[0m in \u001b[0;36m<module>\u001b[0;34m()\u001b[0m\n\u001b[1;32m      2\u001b[0m \u001b[0;34m\u001b[0m\u001b[0m\n\u001b[1;32m      3\u001b[0m \u001b[0;34m\u001b[0m\u001b[0m\n\u001b[0;32m----> 4\u001b[0;31m \u001b[0mX_train\u001b[0m \u001b[0;34m=\u001b[0m \u001b[0mimpute\u001b[0m\u001b[0;34m.\u001b[0m\u001b[0mfit_transform\u001b[0m\u001b[0;34m(\u001b[0m\u001b[0mX_train\u001b[0m\u001b[0;34m)\u001b[0m\u001b[0;34m\u001b[0m\u001b[0;34m\u001b[0m\u001b[0m\n\u001b[0m\u001b[1;32m      5\u001b[0m \u001b[0mX_test\u001b[0m \u001b[0;34m=\u001b[0m \u001b[0mimpute\u001b[0m\u001b[0;34m.\u001b[0m\u001b[0mtransform\u001b[0m\u001b[0;34m(\u001b[0m\u001b[0mX_test\u001b[0m\u001b[0;34m)\u001b[0m\u001b[0;34m\u001b[0m\u001b[0;34m\u001b[0m\u001b[0m\n\u001b[1;32m      6\u001b[0m \u001b[0;34m\u001b[0m\u001b[0m\n",
            "\u001b[0;32m/usr/local/lib/python3.6/dist-packages/sklearn/base.py\u001b[0m in \u001b[0;36mfit_transform\u001b[0;34m(self, X, y, **fit_params)\u001b[0m\n\u001b[1;32m    569\u001b[0m         \u001b[0;32mif\u001b[0m \u001b[0my\u001b[0m \u001b[0;32mis\u001b[0m \u001b[0;32mNone\u001b[0m\u001b[0;34m:\u001b[0m\u001b[0;34m\u001b[0m\u001b[0;34m\u001b[0m\u001b[0m\n\u001b[1;32m    570\u001b[0m             \u001b[0;31m# fit method of arity 1 (unsupervised transformation)\u001b[0m\u001b[0;34m\u001b[0m\u001b[0;34m\u001b[0m\u001b[0;34m\u001b[0m\u001b[0m\n\u001b[0;32m--> 571\u001b[0;31m             \u001b[0;32mreturn\u001b[0m \u001b[0mself\u001b[0m\u001b[0;34m.\u001b[0m\u001b[0mfit\u001b[0m\u001b[0;34m(\u001b[0m\u001b[0mX\u001b[0m\u001b[0;34m,\u001b[0m \u001b[0;34m**\u001b[0m\u001b[0mfit_params\u001b[0m\u001b[0;34m)\u001b[0m\u001b[0;34m.\u001b[0m\u001b[0mtransform\u001b[0m\u001b[0;34m(\u001b[0m\u001b[0mX\u001b[0m\u001b[0;34m)\u001b[0m\u001b[0;34m\u001b[0m\u001b[0;34m\u001b[0m\u001b[0m\n\u001b[0m\u001b[1;32m    572\u001b[0m         \u001b[0;32melse\u001b[0m\u001b[0;34m:\u001b[0m\u001b[0;34m\u001b[0m\u001b[0;34m\u001b[0m\u001b[0m\n\u001b[1;32m    573\u001b[0m             \u001b[0;31m# fit method of arity 2 (supervised transformation)\u001b[0m\u001b[0;34m\u001b[0m\u001b[0;34m\u001b[0m\u001b[0;34m\u001b[0m\u001b[0m\n",
            "\u001b[0;32m/usr/local/lib/python3.6/dist-packages/sklearn/impute/_base.py\u001b[0m in \u001b[0;36mfit\u001b[0;34m(self, X, y)\u001b[0m\n\u001b[1;32m    266\u001b[0m         \u001b[0mself\u001b[0m \u001b[0;34m:\u001b[0m \u001b[0mSimpleImputer\u001b[0m\u001b[0;34m\u001b[0m\u001b[0;34m\u001b[0m\u001b[0m\n\u001b[1;32m    267\u001b[0m         \"\"\"\n\u001b[0;32m--> 268\u001b[0;31m         \u001b[0mX\u001b[0m \u001b[0;34m=\u001b[0m \u001b[0mself\u001b[0m\u001b[0;34m.\u001b[0m\u001b[0m_validate_input\u001b[0m\u001b[0;34m(\u001b[0m\u001b[0mX\u001b[0m\u001b[0;34m)\u001b[0m\u001b[0;34m\u001b[0m\u001b[0;34m\u001b[0m\u001b[0m\n\u001b[0m\u001b[1;32m    269\u001b[0m         \u001b[0msuper\u001b[0m\u001b[0;34m(\u001b[0m\u001b[0;34m)\u001b[0m\u001b[0;34m.\u001b[0m\u001b[0m_fit_indicator\u001b[0m\u001b[0;34m(\u001b[0m\u001b[0mX\u001b[0m\u001b[0;34m)\u001b[0m\u001b[0;34m\u001b[0m\u001b[0;34m\u001b[0m\u001b[0m\n\u001b[1;32m    270\u001b[0m \u001b[0;34m\u001b[0m\u001b[0m\n",
            "\u001b[0;32m/usr/local/lib/python3.6/dist-packages/sklearn/impute/_base.py\u001b[0m in \u001b[0;36m_validate_input\u001b[0;34m(self, X)\u001b[0m\n\u001b[1;32m    238\u001b[0m                 new_ve = ValueError(\"Cannot use {} strategy with non-numeric \"\n\u001b[1;32m    239\u001b[0m                                     \"data:\\n{}\".format(self.strategy, ve))\n\u001b[0;32m--> 240\u001b[0;31m                 \u001b[0;32mraise\u001b[0m \u001b[0mnew_ve\u001b[0m \u001b[0;32mfrom\u001b[0m \u001b[0;32mNone\u001b[0m\u001b[0;34m\u001b[0m\u001b[0;34m\u001b[0m\u001b[0m\n\u001b[0m\u001b[1;32m    241\u001b[0m             \u001b[0;32melse\u001b[0m\u001b[0;34m:\u001b[0m\u001b[0;34m\u001b[0m\u001b[0;34m\u001b[0m\u001b[0m\n\u001b[1;32m    242\u001b[0m                 \u001b[0;32mraise\u001b[0m \u001b[0mve\u001b[0m\u001b[0;34m\u001b[0m\u001b[0;34m\u001b[0m\u001b[0m\n",
            "\u001b[0;31mValueError\u001b[0m: Cannot use mean strategy with non-numeric data:\ncould not convert string to float: 'Stephen Curry'"
          ]
        }
      ]
    },
    {
      "cell_type": "code",
      "metadata": {
        "id": "NlhcK28WGoxM",
        "colab_type": "code",
        "colab": {}
      },
      "source": [
        "'''\n",
        "from sklearn.model_selection import train_test_split\n",
        "\n",
        "train, test = train_test_split(df, random_state=511)\n",
        "'''"
      ],
      "execution_count": 0,
      "outputs": []
    },
    {
      "cell_type": "code",
      "metadata": {
        "id": "ZHYjLJFdGqyI",
        "colab_type": "code",
        "colab": {}
      },
      "source": [
        "'''\n",
        "target = 'seconds_remaining'\n",
        "features = train.columns.drop([target])\n",
        "\n",
        "X_train = train[features]\n",
        "y_train = train[target]\n",
        "\n",
        "X_test = test[features]\n",
        "y_test = test[target]\n",
        "'''"
      ],
      "execution_count": 0,
      "outputs": []
    },
    {
      "cell_type": "code",
      "metadata": {
        "id": "kysrB0ZUGLfK",
        "colab_type": "code",
        "colab": {}
      },
      "source": [
        "'''\n",
        "from sklearn.impute import SimpleImputer\n",
        "from sklearn.ensemble import RandomForestClassifier\n",
        "from sklearn.pipeline import make_pipeline\n",
        "\n",
        "pipe = make_pipeline(\n",
        "    SimpleImputer(strategy = 'most_frequent'),\n",
        "    RandomForestClassifier(n_jobs=-1),\n",
        ")\n",
        "\n",
        "pipe.fit(X_train, y_train)\n",
        "pipe.score(X_test, y_test)\n",
        "'''"
      ],
      "execution_count": 0,
      "outputs": []
    },
    {
      "cell_type": "code",
      "metadata": {
        "id": "xVxDrpfdIHLC",
        "colab_type": "code",
        "colab": {}
      },
      "source": [
        "#df['seconds_remaining'].dtype\n"
      ],
      "execution_count": 0,
      "outputs": []
    },
    {
      "cell_type": "markdown",
      "metadata": {
        "id": "ajHllekPIo-T",
        "colab_type": "text"
      },
      "source": [
        "### b) Trying to Hyperparameter Tuning Manually"
      ]
    },
    {
      "cell_type": "code",
      "metadata": {
        "id": "MOcLT2GeI_Yg",
        "colab_type": "code",
        "colab": {}
      },
      "source": [
        "''' \n",
        "ATTEMPT 1: GETTING ERRS trying to add more hyperparameters: max_depth, max_features?\n",
        "# from above cell [115] & modified using eric's TL help ntbk: Optimize 3+ hyperparameters by trying 10+ \"candidates\"\n",
        "\n",
        "# only had these 3 hyperparameters @ start:  RandomForestClassifier(n_estimators=100, random_state=42, n_jobs=-1) \n",
        "\n",
        "# add max_depth, max_features?\n",
        "pipeline = make_pipeline(\n",
        "    ce.OrdinalEncoder(), \n",
        "    SimpleImputer(strategy='mean'), \n",
        "    RandomForestClassifier(n_estimators = 100, max_depth = 30, random_state=42, n_jobs=-1)\n",
        ")\n",
        "#fit\n",
        "pipeline.fit(X_train, y_train)\n",
        "y_pred = pipeline.predict(X_val)\n",
        "'''"
      ],
      "execution_count": 0,
      "outputs": []
    },
    {
      "cell_type": "code",
      "metadata": {
        "id": "x-RxRe7KSArg",
        "colab_type": "code",
        "outputId": "c77e23c7-d5f4-4763-8b14-0066274bc824",
        "colab": {
          "base_uri": "https://localhost:8080/",
          "height": 55
        }
      },
      "source": [
        "'''\n",
        "# ATTEMPT 2: ValueError: Unexpected input dimension 17, expected 24\n",
        "#from above cell [115] & modified using eric's TL help ntbk: Optimize 3+ hyperparameters by trying 10+ \"candidates\"\n",
        "\n",
        "# only had these 3 hyperparameters @ start:  RandomForestClassifier(n_estimators=100, random_state=42, n_jobs=-1) \n",
        "\n",
        "# add max_depth, max_features?\n",
        "pipeline = make_pipeline(\n",
        "    ce.OrdinalEncoder(), \n",
        "    SimpleImputer(strategy='mean'), \n",
        "    RandomForestClassifier(n_estimators = 100, random_state=42, n_jobs=-1)\n",
        ")\n",
        "#fit\n",
        "pipeline.fit(X_train, y_train)\n",
        "y_pred = pipeline.predict(X_val)\n",
        "'''"
      ],
      "execution_count": 0,
      "outputs": [
        {
          "output_type": "execute_result",
          "data": {
            "text/plain": [
              "'\\n# ATTEMPT 2: ValueError: Unexpected input dimension 17, expected 24\\n#from above cell [115] & modified using eric\\'s TL help ntbk: Optimize 3+ hyperparameters by trying 10+ \"candidates\"\\n\\n# only had these 3 hyperparameters @ start:  RandomForestClassifier(n_estimators=100, random_state=42, n_jobs=-1) \\n\\n# add max_depth, max_features?\\npipeline = make_pipeline(\\n    ce.OrdinalEncoder(), \\n    SimpleImputer(strategy=\\'mean\\'), \\n    RandomForestClassifier(n_estimators = 100, random_state=42, n_jobs=-1)\\n)\\n#fit\\npipeline.fit(X_train, y_train)\\ny_pred = pipeline.predict(X_val)\\n'"
            ]
          },
          "metadata": {
            "tags": []
          },
          "execution_count": 164
        }
      ]
    },
    {
      "cell_type": "code",
      "metadata": {
        "id": "x1LDYFpePp5b",
        "colab_type": "code",
        "outputId": "7dd3fba5-a78a-492b-e749-10075779bf5e",
        "colab": {
          "base_uri": "https://localhost:8080/",
          "height": 131
        }
      },
      "source": [
        "# using: https://towardsdatascience.com/hyperparameter-tuning-the-random-forest-in-python-using-scikit-learn-28d2aa77dd74\n",
        "\n",
        "from pprint import pprint\n",
        "\n",
        "rf = RandomForestClassifier(random_state = 42)\n",
        "\n",
        "# Look at parameters used by our current forest\n",
        "print('Parameters currently in use:\\n')\n",
        "pprint(rf.get_params())\n",
        "\n",
        "\"\"\"\n",
        "Returns: ?? n_jobs was set to -1 as shown in [147]\n",
        "\n",
        "Parameters currently in use:\n",
        "\n",
        "{'bootstrap': True,\n",
        " 'ccp_alpha': 0.0,\n",
        " 'class_weight': None,\n",
        " 'criterion': 'gini',\n",
        " 'max_depth': None,\n",
        " 'max_features': 'auto',\n",
        " 'max_leaf_nodes': None,\n",
        " 'max_samples': None,\n",
        " 'min_impurity_decrease': 0.0,\n",
        " 'min_impurity_split': None,\n",
        " 'min_samples_leaf': 1,\n",
        " 'min_samples_split': 2,\n",
        " 'min_weight_fraction_leaf': 0.0,\n",
        " 'n_estimators': 100,\n",
        " 'n_jobs': None,\n",
        " 'oob_score': False,\n",
        " 'random_state': 42,\n",
        " 'verbose': 0,\n",
        " 'warm_start': False}\n",
        " '''"
      ],
      "execution_count": 0,
      "outputs": [
        {
          "output_type": "error",
          "ename": "SyntaxError",
          "evalue": "ignored",
          "traceback": [
            "\u001b[0;36m  File \u001b[0;32m\"<ipython-input-150-3b44463a84f9>\"\u001b[0;36m, line \u001b[0;32m9\u001b[0m\n\u001b[0;31m    \"\"\"get:\u001b[0m\n\u001b[0m           ^\u001b[0m\n\u001b[0;31mSyntaxError\u001b[0m\u001b[0;31m:\u001b[0m EOF while scanning triple-quoted string literal\n"
          ]
        }
      ]
    },
    {
      "cell_type": "code",
      "metadata": {
        "id": "hj0OqS28QWDz",
        "colab_type": "code",
        "colab": {}
      },
      "source": [
        ""
      ],
      "execution_count": 0,
      "outputs": []
    }
  ]
}