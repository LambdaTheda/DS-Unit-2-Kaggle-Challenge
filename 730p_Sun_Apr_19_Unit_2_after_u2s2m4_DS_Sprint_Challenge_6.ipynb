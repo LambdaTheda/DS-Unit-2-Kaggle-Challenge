{
  "nbformat": 4,
  "nbformat_minor": 0,
  "metadata": {
    "colab": {
      "name": "730p Sun Apr 19 Unit 2 after u2s2m4 DS_Sprint_Challenge_6.ipynb",
      "provenance": [],
      "collapsed_sections": [],
      "include_colab_link": true
    },
    "kernelspec": {
      "display_name": "Python 3",
      "language": "python",
      "name": "python3"
    },
    "language_info": {
      "codemirror_mode": {
        "name": "ipython",
        "version": 3
      },
      "file_extension": ".py",
      "mimetype": "text/x-python",
      "name": "python",
      "nbconvert_exporter": "python",
      "pygments_lexer": "ipython3",
      "version": "3.7.3"
    }
  },
  "cells": [
    {
      "cell_type": "markdown",
      "metadata": {
        "id": "view-in-github",
        "colab_type": "text"
      },
      "source": [
        "<a href=\"https://colab.research.google.com/github/LambdaTheda/DS-Unit-2-Kaggle-Challenge/blob/master/730p_Sun_Apr_19_Unit_2_after_u2s2m4_DS_Sprint_Challenge_6.ipynb\" target=\"_parent\"><img src=\"https://colab.research.google.com/assets/colab-badge.svg\" alt=\"Open In Colab\"/></a>"
      ]
    },
    {
      "cell_type": "markdown",
      "metadata": {
        "colab_type": "text",
        "id": "M3XH_XLsy_Bn"
      },
      "source": [
        "_Lambda School Data Science, Unit 2_\n",
        " \n",
        "# Sprint Challenge: Predict Steph Curry's shots 🏀\n",
        "\n",
        "For your Sprint Challenge, you'll use a dataset with all Steph Curry's NBA field goal attempts. (Regular season and playoff games, from October 28, 2009, through June 5, 2019.) \n",
        "\n",
        "You'll predict whether each shot was made, using information about the shot and the game. This is hard to predict! Try to get above 60% accuracy. The dataset was collected with the [nba_api](https://github.com/swar/nba_api) Python library."
      ]
    },
    {
      "cell_type": "code",
      "metadata": {
        "colab_type": "code",
        "id": "Nw3CL7TE7tNq",
        "colab": {}
      },
      "source": [
        "%%capture\n",
        "import sys\n",
        "\n",
        "if 'google.colab' in sys.modules:\n",
        "    # Install packages in Colab\n",
        "    !pip install category_encoders==2.*\n",
        "    !pip install pandas-profiling==2.*"
      ],
      "execution_count": 0,
      "outputs": []
    },
    {
      "cell_type": "code",
      "metadata": {
        "colab_type": "code",
        "id": "-Nm24pCHy_Bo",
        "outputId": "c86d7dea-a955-4430-9069-f8b111fa63b2",
        "colab": {
          "base_uri": "https://localhost:8080/",
          "height": 308
        }
      },
      "source": [
        "# Read data\n",
        "import pandas as pd\n",
        "url = 'https://drive.google.com/uc?export=download&id=1fL7KPyxgGYfQDsuJoBWHIWwCAf-HTFpX'\n",
        "df = pd.read_csv(url)\n",
        "\n",
        "# Check data shape\n",
        "assert df.shape == (13958, 20)\n",
        "\n",
        "#Explore data\n",
        "df.shape # assertion above checks\n",
        "df.describe()\n",
        "\n"
      ],
      "execution_count": 3,
      "outputs": [
        {
          "output_type": "execute_result",
          "data": {
            "text/html": [
              "<div>\n",
              "<style scoped>\n",
              "    .dataframe tbody tr th:only-of-type {\n",
              "        vertical-align: middle;\n",
              "    }\n",
              "\n",
              "    .dataframe tbody tr th {\n",
              "        vertical-align: top;\n",
              "    }\n",
              "\n",
              "    .dataframe thead th {\n",
              "        text-align: right;\n",
              "    }\n",
              "</style>\n",
              "<table border=\"1\" class=\"dataframe\">\n",
              "  <thead>\n",
              "    <tr style=\"text-align: right;\">\n",
              "      <th></th>\n",
              "      <th>game_id</th>\n",
              "      <th>game_event_id</th>\n",
              "      <th>period</th>\n",
              "      <th>minutes_remaining</th>\n",
              "      <th>seconds_remaining</th>\n",
              "      <th>shot_distance</th>\n",
              "      <th>loc_x</th>\n",
              "      <th>loc_y</th>\n",
              "      <th>shot_made_flag</th>\n",
              "      <th>scoremargin_before_shot</th>\n",
              "    </tr>\n",
              "  </thead>\n",
              "  <tbody>\n",
              "    <tr>\n",
              "      <th>count</th>\n",
              "      <td>1.395800e+04</td>\n",
              "      <td>13958.000000</td>\n",
              "      <td>13958.000000</td>\n",
              "      <td>13958.000000</td>\n",
              "      <td>13958.000000</td>\n",
              "      <td>13958.000000</td>\n",
              "      <td>13958.000000</td>\n",
              "      <td>13958.000000</td>\n",
              "      <td>13958.000000</td>\n",
              "      <td>13958.000000</td>\n",
              "    </tr>\n",
              "    <tr>\n",
              "      <th>mean</th>\n",
              "      <td>2.442837e+07</td>\n",
              "      <td>270.438458</td>\n",
              "      <td>2.412380</td>\n",
              "      <td>4.727540</td>\n",
              "      <td>28.506376</td>\n",
              "      <td>17.600373</td>\n",
              "      <td>-0.554162</td>\n",
              "      <td>131.257988</td>\n",
              "      <td>0.472919</td>\n",
              "      <td>1.615561</td>\n",
              "    </tr>\n",
              "    <tr>\n",
              "      <th>std</th>\n",
              "      <td>7.226620e+06</td>\n",
              "      <td>169.927170</td>\n",
              "      <td>1.125828</td>\n",
              "      <td>3.331646</td>\n",
              "      <td>17.597701</td>\n",
              "      <td>10.295807</td>\n",
              "      <td>124.721869</td>\n",
              "      <td>102.666562</td>\n",
              "      <td>0.499284</td>\n",
              "      <td>10.127139</td>\n",
              "    </tr>\n",
              "    <tr>\n",
              "      <th>min</th>\n",
              "      <td>2.090002e+07</td>\n",
              "      <td>2.000000</td>\n",
              "      <td>1.000000</td>\n",
              "      <td>0.000000</td>\n",
              "      <td>0.000000</td>\n",
              "      <td>0.000000</td>\n",
              "      <td>-250.000000</td>\n",
              "      <td>-41.000000</td>\n",
              "      <td>0.000000</td>\n",
              "      <td>-39.000000</td>\n",
              "    </tr>\n",
              "    <tr>\n",
              "      <th>25%</th>\n",
              "      <td>2.120091e+07</td>\n",
              "      <td>109.000000</td>\n",
              "      <td>1.000000</td>\n",
              "      <td>2.000000</td>\n",
              "      <td>13.000000</td>\n",
              "      <td>8.000000</td>\n",
              "      <td>-96.000000</td>\n",
              "      <td>23.000000</td>\n",
              "      <td>0.000000</td>\n",
              "      <td>-4.000000</td>\n",
              "    </tr>\n",
              "    <tr>\n",
              "      <th>50%</th>\n",
              "      <td>2.150026e+07</td>\n",
              "      <td>275.500000</td>\n",
              "      <td>2.000000</td>\n",
              "      <td>4.000000</td>\n",
              "      <td>29.000000</td>\n",
              "      <td>22.000000</td>\n",
              "      <td>1.000000</td>\n",
              "      <td>141.000000</td>\n",
              "      <td>0.000000</td>\n",
              "      <td>1.000000</td>\n",
              "    </tr>\n",
              "    <tr>\n",
              "      <th>75%</th>\n",
              "      <td>2.170096e+07</td>\n",
              "      <td>398.000000</td>\n",
              "      <td>3.000000</td>\n",
              "      <td>7.000000</td>\n",
              "      <td>44.000000</td>\n",
              "      <td>25.000000</td>\n",
              "      <td>95.000000</td>\n",
              "      <td>219.000000</td>\n",
              "      <td>1.000000</td>\n",
              "      <td>8.000000</td>\n",
              "    </tr>\n",
              "    <tr>\n",
              "      <th>max</th>\n",
              "      <td>4.180040e+07</td>\n",
              "      <td>752.000000</td>\n",
              "      <td>6.000000</td>\n",
              "      <td>11.000000</td>\n",
              "      <td>59.000000</td>\n",
              "      <td>83.000000</td>\n",
              "      <td>247.000000</td>\n",
              "      <td>811.000000</td>\n",
              "      <td>1.000000</td>\n",
              "      <td>43.000000</td>\n",
              "    </tr>\n",
              "  </tbody>\n",
              "</table>\n",
              "</div>"
            ],
            "text/plain": [
              "            game_id  game_event_id  ...  shot_made_flag  scoremargin_before_shot\n",
              "count  1.395800e+04   13958.000000  ...    13958.000000             13958.000000\n",
              "mean   2.442837e+07     270.438458  ...        0.472919                 1.615561\n",
              "std    7.226620e+06     169.927170  ...        0.499284                10.127139\n",
              "min    2.090002e+07       2.000000  ...        0.000000               -39.000000\n",
              "25%    2.120091e+07     109.000000  ...        0.000000                -4.000000\n",
              "50%    2.150026e+07     275.500000  ...        0.000000                 1.000000\n",
              "75%    2.170096e+07     398.000000  ...        1.000000                 8.000000\n",
              "max    4.180040e+07     752.000000  ...        1.000000                43.000000\n",
              "\n",
              "[8 rows x 10 columns]"
            ]
          },
          "metadata": {
            "tags": []
          },
          "execution_count": 3
        }
      ]
    },
    {
      "cell_type": "code",
      "metadata": {
        "id": "pB14TplJ4uLt",
        "colab_type": "code",
        "outputId": "ea6e7a07-3235-41a7-ce43-e5e61d6a735a",
        "colab": {
          "base_uri": "https://localhost:8080/",
          "height": 305
        }
      },
      "source": [
        "df.head()"
      ],
      "execution_count": 4,
      "outputs": [
        {
          "output_type": "execute_result",
          "data": {
            "text/html": [
              "<div>\n",
              "<style scoped>\n",
              "    .dataframe tbody tr th:only-of-type {\n",
              "        vertical-align: middle;\n",
              "    }\n",
              "\n",
              "    .dataframe tbody tr th {\n",
              "        vertical-align: top;\n",
              "    }\n",
              "\n",
              "    .dataframe thead th {\n",
              "        text-align: right;\n",
              "    }\n",
              "</style>\n",
              "<table border=\"1\" class=\"dataframe\">\n",
              "  <thead>\n",
              "    <tr style=\"text-align: right;\">\n",
              "      <th></th>\n",
              "      <th>game_id</th>\n",
              "      <th>game_event_id</th>\n",
              "      <th>player_name</th>\n",
              "      <th>period</th>\n",
              "      <th>minutes_remaining</th>\n",
              "      <th>seconds_remaining</th>\n",
              "      <th>action_type</th>\n",
              "      <th>shot_type</th>\n",
              "      <th>shot_zone_basic</th>\n",
              "      <th>shot_zone_area</th>\n",
              "      <th>shot_zone_range</th>\n",
              "      <th>shot_distance</th>\n",
              "      <th>loc_x</th>\n",
              "      <th>loc_y</th>\n",
              "      <th>shot_made_flag</th>\n",
              "      <th>game_date</th>\n",
              "      <th>htm</th>\n",
              "      <th>vtm</th>\n",
              "      <th>season_type</th>\n",
              "      <th>scoremargin_before_shot</th>\n",
              "    </tr>\n",
              "  </thead>\n",
              "  <tbody>\n",
              "    <tr>\n",
              "      <th>0</th>\n",
              "      <td>20900015</td>\n",
              "      <td>4</td>\n",
              "      <td>Stephen Curry</td>\n",
              "      <td>1</td>\n",
              "      <td>11</td>\n",
              "      <td>25</td>\n",
              "      <td>Jump Shot</td>\n",
              "      <td>3PT Field Goal</td>\n",
              "      <td>Above the Break 3</td>\n",
              "      <td>Right Side Center(RC)</td>\n",
              "      <td>24+ ft.</td>\n",
              "      <td>26</td>\n",
              "      <td>99</td>\n",
              "      <td>249</td>\n",
              "      <td>0</td>\n",
              "      <td>2009-10-28</td>\n",
              "      <td>GSW</td>\n",
              "      <td>HOU</td>\n",
              "      <td>Regular Season</td>\n",
              "      <td>2.0</td>\n",
              "    </tr>\n",
              "    <tr>\n",
              "      <th>1</th>\n",
              "      <td>20900015</td>\n",
              "      <td>17</td>\n",
              "      <td>Stephen Curry</td>\n",
              "      <td>1</td>\n",
              "      <td>9</td>\n",
              "      <td>31</td>\n",
              "      <td>Step Back Jump shot</td>\n",
              "      <td>2PT Field Goal</td>\n",
              "      <td>Mid-Range</td>\n",
              "      <td>Left Side Center(LC)</td>\n",
              "      <td>16-24 ft.</td>\n",
              "      <td>18</td>\n",
              "      <td>-122</td>\n",
              "      <td>145</td>\n",
              "      <td>1</td>\n",
              "      <td>2009-10-28</td>\n",
              "      <td>GSW</td>\n",
              "      <td>HOU</td>\n",
              "      <td>Regular Season</td>\n",
              "      <td>0.0</td>\n",
              "    </tr>\n",
              "    <tr>\n",
              "      <th>2</th>\n",
              "      <td>20900015</td>\n",
              "      <td>53</td>\n",
              "      <td>Stephen Curry</td>\n",
              "      <td>1</td>\n",
              "      <td>6</td>\n",
              "      <td>2</td>\n",
              "      <td>Jump Shot</td>\n",
              "      <td>2PT Field Goal</td>\n",
              "      <td>In The Paint (Non-RA)</td>\n",
              "      <td>Center(C)</td>\n",
              "      <td>8-16 ft.</td>\n",
              "      <td>14</td>\n",
              "      <td>-60</td>\n",
              "      <td>129</td>\n",
              "      <td>0</td>\n",
              "      <td>2009-10-28</td>\n",
              "      <td>GSW</td>\n",
              "      <td>HOU</td>\n",
              "      <td>Regular Season</td>\n",
              "      <td>-4.0</td>\n",
              "    </tr>\n",
              "    <tr>\n",
              "      <th>3</th>\n",
              "      <td>20900015</td>\n",
              "      <td>141</td>\n",
              "      <td>Stephen Curry</td>\n",
              "      <td>2</td>\n",
              "      <td>9</td>\n",
              "      <td>49</td>\n",
              "      <td>Jump Shot</td>\n",
              "      <td>2PT Field Goal</td>\n",
              "      <td>Mid-Range</td>\n",
              "      <td>Left Side(L)</td>\n",
              "      <td>16-24 ft.</td>\n",
              "      <td>19</td>\n",
              "      <td>-172</td>\n",
              "      <td>82</td>\n",
              "      <td>0</td>\n",
              "      <td>2009-10-28</td>\n",
              "      <td>GSW</td>\n",
              "      <td>HOU</td>\n",
              "      <td>Regular Season</td>\n",
              "      <td>-4.0</td>\n",
              "    </tr>\n",
              "    <tr>\n",
              "      <th>4</th>\n",
              "      <td>20900015</td>\n",
              "      <td>249</td>\n",
              "      <td>Stephen Curry</td>\n",
              "      <td>2</td>\n",
              "      <td>2</td>\n",
              "      <td>19</td>\n",
              "      <td>Jump Shot</td>\n",
              "      <td>2PT Field Goal</td>\n",
              "      <td>Mid-Range</td>\n",
              "      <td>Left Side Center(LC)</td>\n",
              "      <td>16-24 ft.</td>\n",
              "      <td>16</td>\n",
              "      <td>-68</td>\n",
              "      <td>148</td>\n",
              "      <td>0</td>\n",
              "      <td>2009-10-28</td>\n",
              "      <td>GSW</td>\n",
              "      <td>HOU</td>\n",
              "      <td>Regular Season</td>\n",
              "      <td>0.0</td>\n",
              "    </tr>\n",
              "  </tbody>\n",
              "</table>\n",
              "</div>"
            ],
            "text/plain": [
              "    game_id  game_event_id  ...     season_type  scoremargin_before_shot\n",
              "0  20900015              4  ...  Regular Season                      2.0\n",
              "1  20900015             17  ...  Regular Season                      0.0\n",
              "2  20900015             53  ...  Regular Season                     -4.0\n",
              "3  20900015            141  ...  Regular Season                     -4.0\n",
              "4  20900015            249  ...  Regular Season                      0.0\n",
              "\n",
              "[5 rows x 20 columns]"
            ]
          },
          "metadata": {
            "tags": []
          },
          "execution_count": 4
        }
      ]
    },
    {
      "cell_type": "code",
      "metadata": {
        "id": "BMHPB1Pf4GSj",
        "colab_type": "code",
        "outputId": "c8cc1e8a-f4e5-4b33-b389-0fd8d95bca12",
        "colab": {
          "base_uri": "https://localhost:8080/",
          "height": 35
        }
      },
      "source": [
        "# Number of unique Visiting Teams \n",
        "df['vtm'].nunique() # returns 32"
      ],
      "execution_count": 5,
      "outputs": [
        {
          "output_type": "execute_result",
          "data": {
            "text/plain": [
              "32"
            ]
          },
          "metadata": {
            "tags": []
          },
          "execution_count": 5
        }
      ]
    },
    {
      "cell_type": "code",
      "metadata": {
        "id": "6XhsbqTxYfHn",
        "colab_type": "code",
        "outputId": "c11ddd18-c179-4bbc-e92f-f6d76deed6a9",
        "colab": {
          "base_uri": "https://localhost:8080/",
          "height": 86
        }
      },
      "source": [
        "# List of 32 Visiting Teams \n",
        "df['vtm'].unique()"
      ],
      "execution_count": 6,
      "outputs": [
        {
          "output_type": "execute_result",
          "data": {
            "text/plain": [
              "array(['HOU', 'GSW', 'MEM', 'LAC', 'MIN', 'POR', 'LAL', 'IND', 'ORL',\n",
              "       'SAS', 'WAS', 'PHX', 'BOS', 'SAC', 'CLE', 'MIA', 'MIL', 'CHI',\n",
              "       'DEN', 'NJN', 'NOH', 'CHA', 'OKC', 'DAL', 'UTA', 'ATL', 'PHI',\n",
              "       'DET', 'TOR', 'NYK', 'BKN', 'NOP'], dtype=object)"
            ]
          },
          "metadata": {
            "tags": []
          },
          "execution_count": 6
        }
      ]
    },
    {
      "cell_type": "markdown",
      "metadata": {
        "colab_type": "text",
        "id": "B8BvDKLFy_Bq"
      },
      "source": [
        "To demonstrate mastery on your Sprint Challenge, do all the required, numbered instructions in this notebook.\n",
        "\n",
        "To earn a score of \"3\", also do all the stretch goals.\n",
        "\n",
        "You are permitted and encouraged to do as much data exploration as you want.\n",
        "\n",
        "**1. Begin with baselines for classification.** Your target to predict is `shot_made_flag`. What is your baseline accuracy, if you guessed the majority class for every prediction?\n",
        "\n",
        "**2. Hold out your test set.** Use the 2018-19 season to test. NBA seasons begin in October and end in June. You'll know you've split the data correctly when your test set has 1,709 observations.\n",
        "\n",
        "**3. Engineer new feature.** Engineer at least **1** new feature, from this list, or your own idea.\n",
        "- **Homecourt Advantage**: Is the home team (`htm`) the Golden State Warriors (`GSW`) ?\n",
        "- **Opponent**: Who is the other team playing the Golden State Warriors?\n",
        "- **Seconds remaining in the period**: Combine minutes remaining with seconds remaining, to get the total number of seconds remaining in the period.\n",
        "- **Seconds remaining in the game**: Combine period, and seconds remaining in the period, to get the total number of seconds remaining in the game. A basketball game has 4 periods, each 12 minutes long.\n",
        "- **Made previous shot**: Was Steph Curry's previous shot successful?\n",
        "\n",
        "**4. Decide how to validate** your model. Choose one of the following options. Any of these options are good. You are not graded on which you choose.\n",
        "- **Train/validate/test split: train on the 2009-10 season through 2016-17 season, validate with the 2017-18 season.** You'll know you've split the data correctly when your train set has 11,081 observations, and your validation set has 1,168 observations.\n",
        "- **Train/validate/test split: random 80/20%** train/validate split.\n",
        "- **Cross-validation** with independent test set. You may use any scikit-learn cross-validation method.\n",
        "\n",
        "**5.** Use a scikit-learn **pipeline** to **encode categoricals** and fit a **Decision Tree** or **Random Forest** model.\n",
        "\n",
        "**6.** Get your model's **validation accuracy.** (Multiple times if you try multiple iterations.) \n",
        "\n",
        "**7.** Get your model's **test accuracy.** (One time, at the end.)\n",
        "\n",
        "\n",
        "**8.** Given a **confusion matrix** for a hypothetical binary classification model, **calculate accuracy, precision, and recall.**\n",
        "\n",
        "### Stretch Goals\n",
        "- Engineer 4+ new features total, either from the list above, or your own ideas.\n",
        "- Make 2+ visualizations to explore relationships between features and target.\n",
        "- Optimize 3+ hyperparameters by trying 10+ \"candidates\" (possible combinations of hyperparameters). You can use `RandomizedSearchCV` or do it manually.\n",
        "- Get and plot your model's feature importances.\n",
        "\n"
      ]
    },
    {
      "cell_type": "markdown",
      "metadata": {
        "colab_type": "text",
        "id": "t6Jt3qjQ-zig"
      },
      "source": [
        "## 1. Begin with baselines for classification. \n",
        "\n",
        ">Your target to predict is `shot_made_flag`. What would your baseline accuracy be, if you guessed the majority class for every prediction?"
      ]
    },
    {
      "cell_type": "code",
      "metadata": {
        "colab_type": "code",
        "id": "I0BDeNFG_Kee",
        "outputId": "35360f77-84a6-49af-93f0-416be19364cf",
        "colab": {
          "base_uri": "https://localhost:8080/",
          "height": 104
        }
      },
      "source": [
        "# 1. Begin with baselines for classification. Your target to predict is shot_made_flag. \n",
        "#    What is your baseline accuracy, if you guessed the majority class for every prediction?\n",
        "\n",
        "import category_encoders as ce\n",
        "from sklearn.impute import SimpleImputer\n",
        "from sklearn.metrics import accuracy_score\n",
        "from sklearn.model_selection import train_test_split\n",
        "from sklearn.pipeline import make_pipeline\n",
        "from sklearn.ensemble import RandomForestClassifier\n",
        "target = 'shot_made_flag'\n",
        "''' get test in assignment 2\n",
        "train, test = train_test_split(df, test_size=.2,  \n",
        "                              stratify=df[target], random_state=42)\n",
        "train, val = train_test_split(train, test_size=len(test),  \n",
        "                              stratify=train[target], random_state=42)\n",
        "'''\n",
        "train, val = train_test_split(df, test_size=.2,  \n",
        "                              stratify=df[target], random_state=42)\n",
        "\n",
        "# Arrange data into X features matrix and y target vector \n",
        "columnsToDrop = [target, 'game_id', 'game_event_id', 'player_name']\n",
        "X_train = train.drop(columns=columnsToDrop)\n",
        "y_train = train[target]\n",
        "X_val = val.drop(columns=columnsToDrop)\n",
        "y_val = val[target]\n",
        "#X_test = test.drop(columns=columnsToDrop)\n",
        "\n",
        "\n",
        "# Make pipeline!\n",
        "pipeline = make_pipeline(\n",
        "    ce.OrdinalEncoder(), \n",
        "    SimpleImputer(strategy='mean'), \n",
        "    RandomForestClassifier(n_estimators=100, random_state=42, n_jobs=-1)\n",
        ")\n",
        "\n",
        "# Fit on train, score on val\n",
        "pipeline.fit(X_train, y_train)\n",
        "y_pred = pipeline.predict(X_val)\n",
        "print('Validation Accuracy:', accuracy_score(y_val, y_pred))\n",
        "\n",
        "print('Majority class accuracy: 47.2919%')\n",
        "print(df[target].value_counts(normalize=True)) # 47% of time Curry gets shot in"
      ],
      "execution_count": 7,
      "outputs": [
        {
          "output_type": "stream",
          "text": [
            "Validation Accuracy: 0.6429083094555874\n",
            "Majority class accuracy: 47.2919%\n",
            "0    0.527081\n",
            "1    0.472919\n",
            "Name: shot_made_flag, dtype: float64\n"
          ],
          "name": "stdout"
        }
      ]
    },
    {
      "cell_type": "markdown",
      "metadata": {
        "colab_type": "text",
        "id": "Dz2QHBiVy_Br"
      },
      "source": [
        "## 2. Hold out your test set.\n",
        "\n",
        ">Use the 2018-19 season to test. NBA seasons begin in October and end in June. You'll know you've split the data correctly when your test set has 1,709 observations."
      ]
    },
    {
      "cell_type": "code",
      "metadata": {
        "colab_type": "code",
        "id": "OPod6lBG_wTT",
        "outputId": "08053739-15f0-4433-b654-f80008118041",
        "colab": {
          "base_uri": "https://localhost:8080/",
          "height": 35
        }
      },
      "source": [
        "test = df[df['game_date'] >= '2018-10-01']\n",
        "test = test.drop(columns=columnsToDrop)\n",
        "test.shape"
      ],
      "execution_count": 8,
      "outputs": [
        {
          "output_type": "execute_result",
          "data": {
            "text/plain": [
              "(1709, 16)"
            ]
          },
          "metadata": {
            "tags": []
          },
          "execution_count": 8
        }
      ]
    },
    {
      "cell_type": "markdown",
      "metadata": {
        "colab_type": "text",
        "id": "P9Nihzk6y_CF"
      },
      "source": [
        "## 3. Engineer new feature.\n",
        "\n",
        ">Engineer at least **1** new feature, from this list, or your own idea.\n",
        ">\n",
        ">- **Homecourt Advantage**: Is the home team (`htm`) the Golden State Warriors (`GSW`) ?\n",
        ">- **Opponent**: Who is the other team playing the Golden State Warriors?\n",
        ">- **Seconds remaining in the period**: Combine minutes remaining with seconds remaining, to get the total number of seconds remaining in the period.\n",
        ">- **Seconds remaining in the game**: Combine period, and seconds remaining in the period, to get the total number of seconds remaining in the game. A basketball game has 4 periods, each 12 minutes long.\n",
        ">- **Made previous shot**: Was Steph Curry's previous shot successful?\n",
        "\n",
        "    "
      ]
    },
    {
      "cell_type": "code",
      "metadata": {
        "colab_type": "code",
        "id": "A0pxdFtWy_Bz",
        "colab": {}
      },
      "source": [
        "# adding Homecourt Advantage feature\n",
        "def isHomeTeam(row):\n",
        "  if(row['htm'] == 'GSW'):\n",
        "    return 1\n",
        "  return 0\n",
        "\n",
        "df['homecourt_advantage'] = df.apply (lambda row: isHomeTeam(row), axis=1)"
      ],
      "execution_count": 0,
      "outputs": []
    },
    {
      "cell_type": "markdown",
      "metadata": {
        "colab_type": "text",
        "id": "eLs7pt7NFJLF"
      },
      "source": [
        "## **4. Decide how to validate** your model. \n",
        "\n",
        ">Choose one of the following options. Any of these options are good. You are not graded on which you choose.\n",
        ">\n",
        ">- **Train/validate/test split: train on the 2009-10 season through 2016-17 season, validate with the 2017-18 season.** You'll know you've split the data correctly when your train set has 11,081 observations, and your validation set has 1,168 observations.\n",
        ">- **Train/validate/test split: random 80/20%** train/validate split.\n",
        ">- **Cross-validation** with independent test set. You may use any scikit-learn cross-validation method."
      ]
    },
    {
      "cell_type": "code",
      "metadata": {
        "colab_type": "code",
        "id": "LJ58CceDISXR",
        "colab": {}
      },
      "source": [
        "#split\n",
        "train = df[df['game_date'] >= '2009-10-01']\n",
        "train = train[train['game_date'] < '2017-08-01']\n",
        "\n",
        "val = df[df['game_date'] >= '2017-10-01']\n",
        "val = val[val['game_date'] < '2018-08-01']\n",
        "\n",
        "test = df[df['game_date'] >= '2018-10-01']\n",
        "\n",
        "#choose which columns not to look at\n",
        "columnsToDrop = [target, 'game_id', 'game_event_id', 'player_name']\n",
        "\n",
        "#split into X and y\n",
        "X_train = train.drop(columns=columnsToDrop)\n",
        "y_train = train[target]\n",
        "\n",
        "X_val = val.drop(columns=columnsToDrop) #Cross-validation with independent test set- doesn't overlap w/training set\n",
        "y_val = val[target]\n",
        "\n",
        "X_test = test.drop(columns=columnsToDrop)\n",
        "y_test = test[target]"
      ],
      "execution_count": 0,
      "outputs": []
    },
    {
      "cell_type": "markdown",
      "metadata": {
        "colab_type": "text",
        "id": "oQ2lWlu7JPRt"
      },
      "source": [
        "## 5. Use a scikit-learn pipeline to encode categoricals and fit a Decision Tree or Random Forest model."
      ]
    },
    {
      "cell_type": "code",
      "metadata": {
        "colab_type": "code",
        "id": "X2S8mUuJy_CB",
        "colab": {}
      },
      "source": [
        "pipeline = make_pipeline(\n",
        "    ce.OrdinalEncoder(), \n",
        "    SimpleImputer(strategy='mean'), \n",
        "    RandomForestClassifier(n_estimators=100, random_state=42, n_jobs=-1)\n",
        ")\n",
        "#fit\n",
        "pipeline.fit(X_train, y_train)\n",
        "y_pred = pipeline.predict(X_val)"
      ],
      "execution_count": 0,
      "outputs": []
    },
    {
      "cell_type": "markdown",
      "metadata": {
        "colab_type": "text",
        "id": "8kJXxFpty_CH"
      },
      "source": [
        "## 6.Get your model's validation accuracy\n",
        "\n",
        "> (Multiple times if you try multiple iterations.)"
      ]
    },
    {
      "cell_type": "code",
      "metadata": {
        "colab_type": "code",
        "id": "7560JKvxy_CJ",
        "outputId": "2eaeb3bf-781b-4752-a599-05580f33faed",
        "colab": {
          "base_uri": "https://localhost:8080/",
          "height": 35
        }
      },
      "source": [
        "print('Validation Accuracy:', accuracy_score(y_val, y_pred))"
      ],
      "execution_count": 12,
      "outputs": [
        {
          "output_type": "stream",
          "text": [
            "Validation Accuracy: 0.5907534246575342\n"
          ],
          "name": "stdout"
        }
      ]
    },
    {
      "cell_type": "markdown",
      "metadata": {
        "colab_type": "text",
        "id": "YvyYY9tfy_CL"
      },
      "source": [
        "## 7. Get your model's test accuracy\n",
        "\n",
        "> (One time, at the end.)"
      ]
    },
    {
      "cell_type": "code",
      "metadata": {
        "colab_type": "code",
        "id": "wjV2dfl6y_CL",
        "outputId": "1917f7ee-b5fd-4370-9c8d-eb109b7f7263",
        "colab": {
          "base_uri": "https://localhost:8080/",
          "height": 35
        }
      },
      "source": [
        "test_pred = pipeline.predict(X_test)\n",
        "print('Test Accuracy:', accuracy_score(y_test, test_pred))"
      ],
      "execution_count": 13,
      "outputs": [
        {
          "output_type": "stream",
          "text": [
            "Test Accuracy: 0.6225863077823288\n"
          ],
          "name": "stdout"
        }
      ]
    },
    {
      "cell_type": "markdown",
      "metadata": {
        "id": "xGL5stLvJCn1",
        "colab_type": "text"
      },
      "source": [
        "## 8. Given a confusion matrix, calculate accuracy, precision, and recall.\n",
        "\n",
        "Imagine this is the confusion matrix for a binary classification model. Use the confusion matrix to calculate the model's accuracy, precision, and recall.\n",
        "\n",
        "<table>\n",
        "  <tr>\n",
        "    <td colspan=\"2\" rowspan=\"2\"></td>\n",
        "    <td colspan=\"2\">Predicted</td>\n",
        "  </tr>\n",
        "  <tr>\n",
        "    <td>Negative</td>\n",
        "    <td>Positive</td>\n",
        "  </tr>\n",
        "  <tr>\n",
        "    <td rowspan=\"2\">Actual</td>\n",
        "    <td>Negative</td>\n",
        "    <td style=\"border: solid\">85</td>\n",
        "    <td style=\"border: solid\">58</td>\n",
        "  </tr>\n",
        "  <tr>\n",
        "    <td>Positive</td>\n",
        "    <td style=\"border: solid\">8</td>\n",
        "    <td style=\"border: solid\"> 36</td>\n",
        "  </tr>\n",
        "</table>"
      ]
    },
    {
      "cell_type": "markdown",
      "metadata": {
        "id": "nEvt7NkUJNao",
        "colab_type": "text"
      },
      "source": [
        "### Calculate accuracy "
      ]
    },
    {
      "cell_type": "code",
      "metadata": {
        "id": "FFszS2A5JJmv",
        "colab_type": "code",
        "outputId": "57d91a3b-a428-43d6-cd10-5cc649f577c2",
        "colab": {
          "base_uri": "https://localhost:8080/",
          "height": 35
        }
      },
      "source": [
        "num_predictions = 85 + 58 + 8 + 36\n",
        "accurate_predictions = 85 + 36\n",
        "print('Accuracy:', accurate_predictions/num_predictions)"
      ],
      "execution_count": 14,
      "outputs": [
        {
          "output_type": "stream",
          "text": [
            "Accuracy: 0.6470588235294118\n"
          ],
          "name": "stdout"
        }
      ]
    },
    {
      "cell_type": "markdown",
      "metadata": {
        "id": "XjHTmk8sJO4v",
        "colab_type": "text"
      },
      "source": [
        "### Calculate precision"
      ]
    },
    {
      "cell_type": "code",
      "metadata": {
        "id": "7qX1gbcMJQS_",
        "colab_type": "code",
        "outputId": "cc787eaf-4e28-4913-8dc9-8e2e2900e5d9",
        "colab": {
          "base_uri": "https://localhost:8080/",
          "height": 52
        }
      },
      "source": [
        "'''\n",
        "Since the assignment didn't specify whether we look for\n",
        "positives or negatives, here are the precisions for both\n",
        "\n",
        "Precision = actual outcome / predicted outcome\n",
        "'''\n",
        "print('Positive Precision:', 36/(58+36))\n",
        "print('Negative Precision:', 85/(85+8))"
      ],
      "execution_count": 15,
      "outputs": [
        {
          "output_type": "stream",
          "text": [
            "Positive Precision: 0.3829787234042553\n",
            "Negative Precision: 0.9139784946236559\n"
          ],
          "name": "stdout"
        }
      ]
    },
    {
      "cell_type": "markdown",
      "metadata": {
        "id": "zQnQpdRbecmh",
        "colab_type": "text"
      },
      "source": [
        "Precision and recall are two extremely important model evaluation metrics. While **precision refers to the percentage of your results which are relevant, recall refers to the percentage of total relevant results correctly classified by your algorithm**.\n",
        "\n",
        "May 11, 2018\n",
        "towardsdatascience.com › precision-vs-recall-386cf9f89488"
      ]
    },
    {
      "cell_type": "markdown",
      "metadata": {
        "id": "pFug3ZKaJQ7A",
        "colab_type": "text"
      },
      "source": [
        "### Calculate recall"
      ]
    },
    {
      "cell_type": "code",
      "metadata": {
        "id": "L0OKc3JxJR4r",
        "colab_type": "code",
        "outputId": "226217d2-f6c9-4e61-c222-f1ecaf1c54b5",
        "colab": {
          "base_uri": "https://localhost:8080/",
          "height": 52
        }
      },
      "source": [
        "#same for recall, including false negatives\n",
        "\n",
        "print('Positive Recall:', 36/(58+36+8))\n",
        "print('Negative Recall:', 85/(85+8+58))"
      ],
      "execution_count": 16,
      "outputs": [
        {
          "output_type": "stream",
          "text": [
            "Positive Recall: 0.35294117647058826\n",
            "Negative Recall: 0.5629139072847682\n"
          ],
          "name": "stdout"
        }
      ]
    },
    {
      "cell_type": "markdown",
      "metadata": {
        "id": "GCExrNzEM5Ha",
        "colab_type": "text"
      },
      "source": [
        "------------------------------------------\n",
        "#**Stretch Goals:** \n",
        "1) Engineer 4+ new features total, either from the list above, or your own ideas.\n",
        "\n",
        "2) Make 2+ visualizations to explore relationships between features and target.\n",
        "\n",
        "3) Optimize 3+ hyperparameters by trying 10+ \"candidates\" (possible combinations of hyperparameters).\n",
        "   You can use RandomizedSearchCV or do it manually.\n",
        "\n",
        "4) Get and plot your model's feature importances."
      ]
    },
    {
      "cell_type": "markdown",
      "metadata": {
        "id": "Ynn2ZsD9uLJs",
        "colab_type": "text"
      },
      "source": [
        "### 1) Engineer 4+ new features total, either from the list above, or your own ideas.\n"
      ]
    },
    {
      "cell_type": "markdown",
      "metadata": {
        "id": "dpZltgBYu99z",
        "colab_type": "text"
      },
      "source": [
        "**Feature #1**"
      ]
    },
    {
      "cell_type": "code",
      "metadata": {
        "id": "rASdPUJLM-nA",
        "colab_type": "code",
        "colab": {}
      },
      "source": [
        "# adding 'isScrimmage' column: are the Golden State Warriors playing against themselves?\n",
        "\n",
        "def isOpponentGSW(row):\n",
        "  if(row['vtm'] != 'GSW'):\n",
        "    return 'No'   # if NOT 'GSW'\n",
        "  return 'Yes'    # if 'GSW', ie, perhaps scrimmaging against teammates\n",
        "\n",
        "df['isScrimmage?'] = df.apply(lambda row: isOpponentGSW(row), axis=1)\n",
        "\n",
        "df\n"
      ],
      "execution_count": 0,
      "outputs": []
    },
    {
      "cell_type": "markdown",
      "metadata": {
        "id": "DE2JXMVKvKs4",
        "colab_type": "text"
      },
      "source": [
        "**Feature #2**"
      ]
    },
    {
      "cell_type": "code",
      "metadata": {
        "id": "LnvKeICOlE-j",
        "colab_type": "code",
        "colab": {}
      },
      "source": [
        "# Add 'otherTeamName' column: if vtm is NOT GWS, ie, NOT indicative of a scrimmage\n",
        "\n",
        "def otherTeam(row):\n",
        "  if (row['isScrimmage?'] == 'No'):\n",
        "     return row['vtm']\n",
        "  return 'Scrimmage'\n",
        "\n",
        "#df['isScrimmage?'] = df.apply(lambda row: isScrimmage(row), axis =1) \n",
        "\n",
        "df['otherTeam'] = df.apply(lambda row: otherTeam(row), axis = 1)\n",
        " \n",
        "df\n"
      ],
      "execution_count": 0,
      "outputs": []
    },
    {
      "cell_type": "markdown",
      "metadata": {
        "id": "rbc-wbibv1KY",
        "colab_type": "text"
      },
      "source": [
        "**Feature #3**"
      ]
    },
    {
      "cell_type": "code",
      "metadata": {
        "id": "hFft3StJv5iF",
        "colab_type": "code",
        "colab": {}
      },
      "source": [
        "# adding 'GLORY SHOT' column, Yes: if 'seconds_remaining' <= 10  or No > 10 \n",
        "\n",
        "def isGloryShot(row):\n",
        "  if(row['seconds_remaining'] <= 10):\n",
        "    return 'Yes'\n",
        "  return 'No'\n",
        "\n",
        "df['isGloryShot?'] = df.apply(lambda row: isGloryShot(row), axis = 1) \n",
        "\n",
        "df\n",
        "\n"
      ],
      "execution_count": 0,
      "outputs": []
    },
    {
      "cell_type": "markdown",
      "metadata": {
        "id": "74ZbzaF1xAGN",
        "colab_type": "text"
      },
      "source": [
        "**Feature #4**"
      ]
    },
    {
      "cell_type": "code",
      "metadata": {
        "id": "_XghNcHMxCB8",
        "colab_type": "code",
        "colab": {}
      },
      "source": [
        "# adding 'HERO SHOT' column, Yes: if 'seconds_remaining' <= 10  AND 'shot_made_flag' == 1  AND 'scoremargin_before_shot'  < 3.\n",
        " \n",
        "def isHeroShot(row):\n",
        "# if((row['seconds_remaining'] <= 10) and (row['scoremargin_before_shot'] < 3)): # and operator for if statements conds 1 and 2\n",
        "  if((row['seconds_remaining'] <= 10) & (row['scoremargin_before_shot'] < 3)): # bit-wise operator does & operation.. to select certain rows in a df ..like dereferencing, for #s n chking on rows \n",
        "  \n",
        "  # if()\n",
        "    return 'Yes'\n",
        "  return 'No'\n",
        "\n",
        "df['isHeroShot?'] = df.apply(lambda row: isHeroShot(row), axis = 1)  \n",
        "\n",
        "df.sample(35)"
      ],
      "execution_count": 0,
      "outputs": []
    },
    {
      "cell_type": "markdown",
      "metadata": {
        "id": "hK7pm2dkyQ0K",
        "colab_type": "text"
      },
      "source": [
        "###2) Make 2+ visualizations to explore relationships between features and target.\n"
      ]
    },
    {
      "cell_type": "code",
      "metadata": {
        "id": "3NkN-fwWyTQK",
        "colab_type": "code",
        "colab": {
          "base_uri": "https://localhost:8080/",
          "height": 398
        },
        "outputId": "d24591b5-51c1-47cf-fb69-1640d4bd8e3b"
      },
      "source": [
        "df.corr()"
      ],
      "execution_count": 25,
      "outputs": [
        {
          "output_type": "execute_result",
          "data": {
            "text/html": [
              "<div>\n",
              "<style scoped>\n",
              "    .dataframe tbody tr th:only-of-type {\n",
              "        vertical-align: middle;\n",
              "    }\n",
              "\n",
              "    .dataframe tbody tr th {\n",
              "        vertical-align: top;\n",
              "    }\n",
              "\n",
              "    .dataframe thead th {\n",
              "        text-align: right;\n",
              "    }\n",
              "</style>\n",
              "<table border=\"1\" class=\"dataframe\">\n",
              "  <thead>\n",
              "    <tr style=\"text-align: right;\">\n",
              "      <th></th>\n",
              "      <th>game_id</th>\n",
              "      <th>game_event_id</th>\n",
              "      <th>period</th>\n",
              "      <th>minutes_remaining</th>\n",
              "      <th>seconds_remaining</th>\n",
              "      <th>shot_distance</th>\n",
              "      <th>loc_x</th>\n",
              "      <th>loc_y</th>\n",
              "      <th>shot_made_flag</th>\n",
              "      <th>scoremargin_before_shot</th>\n",
              "      <th>homecourt_advantage</th>\n",
              "    </tr>\n",
              "  </thead>\n",
              "  <tbody>\n",
              "    <tr>\n",
              "      <th>game_id</th>\n",
              "      <td>1.000000</td>\n",
              "      <td>0.058387</td>\n",
              "      <td>0.023757</td>\n",
              "      <td>-0.018650</td>\n",
              "      <td>-0.009982</td>\n",
              "      <td>0.019789</td>\n",
              "      <td>-0.007311</td>\n",
              "      <td>0.016984</td>\n",
              "      <td>-0.017542</td>\n",
              "      <td>-0.022761</td>\n",
              "      <td>0.006558</td>\n",
              "    </tr>\n",
              "    <tr>\n",
              "      <th>game_event_id</th>\n",
              "      <td>0.058387</td>\n",
              "      <td>1.000000</td>\n",
              "      <td>0.940855</td>\n",
              "      <td>-0.291271</td>\n",
              "      <td>-0.018433</td>\n",
              "      <td>0.011211</td>\n",
              "      <td>0.037097</td>\n",
              "      <td>0.029789</td>\n",
              "      <td>-0.012720</td>\n",
              "      <td>0.096800</td>\n",
              "      <td>-0.038768</td>\n",
              "    </tr>\n",
              "    <tr>\n",
              "      <th>period</th>\n",
              "      <td>0.023757</td>\n",
              "      <td>0.940855</td>\n",
              "      <td>1.000000</td>\n",
              "      <td>-0.071512</td>\n",
              "      <td>0.009031</td>\n",
              "      <td>-0.014679</td>\n",
              "      <td>0.040834</td>\n",
              "      <td>0.002066</td>\n",
              "      <td>-0.005241</td>\n",
              "      <td>0.076163</td>\n",
              "      <td>-0.008206</td>\n",
              "    </tr>\n",
              "    <tr>\n",
              "      <th>minutes_remaining</th>\n",
              "      <td>-0.018650</td>\n",
              "      <td>-0.291271</td>\n",
              "      <td>-0.071512</td>\n",
              "      <td>1.000000</td>\n",
              "      <td>0.037336</td>\n",
              "      <td>-0.053699</td>\n",
              "      <td>-0.012034</td>\n",
              "      <td>-0.078049</td>\n",
              "      <td>0.033877</td>\n",
              "      <td>-0.084498</td>\n",
              "      <td>-0.002664</td>\n",
              "    </tr>\n",
              "    <tr>\n",
              "      <th>seconds_remaining</th>\n",
              "      <td>-0.009982</td>\n",
              "      <td>-0.018433</td>\n",
              "      <td>0.009031</td>\n",
              "      <td>0.037336</td>\n",
              "      <td>1.000000</td>\n",
              "      <td>-0.064230</td>\n",
              "      <td>-0.010662</td>\n",
              "      <td>-0.068568</td>\n",
              "      <td>0.036618</td>\n",
              "      <td>-0.007952</td>\n",
              "      <td>0.013011</td>\n",
              "    </tr>\n",
              "    <tr>\n",
              "      <th>shot_distance</th>\n",
              "      <td>0.019789</td>\n",
              "      <td>0.011211</td>\n",
              "      <td>-0.014679</td>\n",
              "      <td>-0.053699</td>\n",
              "      <td>-0.064230</td>\n",
              "      <td>1.000000</td>\n",
              "      <td>-0.017901</td>\n",
              "      <td>0.822426</td>\n",
              "      <td>-0.138070</td>\n",
              "      <td>0.025137</td>\n",
              "      <td>0.041477</td>\n",
              "    </tr>\n",
              "    <tr>\n",
              "      <th>loc_x</th>\n",
              "      <td>-0.007311</td>\n",
              "      <td>0.037097</td>\n",
              "      <td>0.040834</td>\n",
              "      <td>-0.012034</td>\n",
              "      <td>-0.010662</td>\n",
              "      <td>-0.017901</td>\n",
              "      <td>1.000000</td>\n",
              "      <td>0.036513</td>\n",
              "      <td>-0.005824</td>\n",
              "      <td>0.013601</td>\n",
              "      <td>-0.018087</td>\n",
              "    </tr>\n",
              "    <tr>\n",
              "      <th>loc_y</th>\n",
              "      <td>0.016984</td>\n",
              "      <td>0.029789</td>\n",
              "      <td>0.002066</td>\n",
              "      <td>-0.078049</td>\n",
              "      <td>-0.068568</td>\n",
              "      <td>0.822426</td>\n",
              "      <td>0.036513</td>\n",
              "      <td>1.000000</td>\n",
              "      <td>-0.130082</td>\n",
              "      <td>0.018910</td>\n",
              "      <td>0.063964</td>\n",
              "    </tr>\n",
              "    <tr>\n",
              "      <th>shot_made_flag</th>\n",
              "      <td>-0.017542</td>\n",
              "      <td>-0.012720</td>\n",
              "      <td>-0.005241</td>\n",
              "      <td>0.033877</td>\n",
              "      <td>0.036618</td>\n",
              "      <td>-0.138070</td>\n",
              "      <td>-0.005824</td>\n",
              "      <td>-0.130082</td>\n",
              "      <td>1.000000</td>\n",
              "      <td>-0.003207</td>\n",
              "      <td>0.016526</td>\n",
              "    </tr>\n",
              "    <tr>\n",
              "      <th>scoremargin_before_shot</th>\n",
              "      <td>-0.022761</td>\n",
              "      <td>0.096800</td>\n",
              "      <td>0.076163</td>\n",
              "      <td>-0.084498</td>\n",
              "      <td>-0.007952</td>\n",
              "      <td>0.025137</td>\n",
              "      <td>0.013601</td>\n",
              "      <td>0.018910</td>\n",
              "      <td>-0.003207</td>\n",
              "      <td>1.000000</td>\n",
              "      <td>0.139805</td>\n",
              "    </tr>\n",
              "    <tr>\n",
              "      <th>homecourt_advantage</th>\n",
              "      <td>0.006558</td>\n",
              "      <td>-0.038768</td>\n",
              "      <td>-0.008206</td>\n",
              "      <td>-0.002664</td>\n",
              "      <td>0.013011</td>\n",
              "      <td>0.041477</td>\n",
              "      <td>-0.018087</td>\n",
              "      <td>0.063964</td>\n",
              "      <td>0.016526</td>\n",
              "      <td>0.139805</td>\n",
              "      <td>1.000000</td>\n",
              "    </tr>\n",
              "  </tbody>\n",
              "</table>\n",
              "</div>"
            ],
            "text/plain": [
              "                          game_id  ...  homecourt_advantage\n",
              "game_id                  1.000000  ...             0.006558\n",
              "game_event_id            0.058387  ...            -0.038768\n",
              "period                   0.023757  ...            -0.008206\n",
              "minutes_remaining       -0.018650  ...            -0.002664\n",
              "seconds_remaining       -0.009982  ...             0.013011\n",
              "shot_distance            0.019789  ...             0.041477\n",
              "loc_x                   -0.007311  ...            -0.018087\n",
              "loc_y                    0.016984  ...             0.063964\n",
              "shot_made_flag          -0.017542  ...             0.016526\n",
              "scoremargin_before_shot -0.022761  ...             0.139805\n",
              "homecourt_advantage      0.006558  ...             1.000000\n",
              "\n",
              "[11 rows x 11 columns]"
            ]
          },
          "metadata": {
            "tags": []
          },
          "execution_count": 25
        }
      ]
    },
    {
      "cell_type": "code",
      "metadata": {
        "id": "wpA9ZyDigjxA",
        "colab_type": "code",
        "colab": {
          "base_uri": "https://localhost:8080/",
          "height": 259
        },
        "outputId": "188c24d3-f23d-4660-d7d3-fcd56ff8dc65"
      },
      "source": [
        "corr = df.corr()\n",
        "print(corr)"
      ],
      "execution_count": 29,
      "outputs": [
        {
          "output_type": "stream",
          "text": [
            "                          game_id  ...  homecourt_advantage\n",
            "game_id                  1.000000  ...             0.006558\n",
            "game_event_id            0.058387  ...            -0.038768\n",
            "period                   0.023757  ...            -0.008206\n",
            "minutes_remaining       -0.018650  ...            -0.002664\n",
            "seconds_remaining       -0.009982  ...             0.013011\n",
            "shot_distance            0.019789  ...             0.041477\n",
            "loc_x                   -0.007311  ...            -0.018087\n",
            "loc_y                    0.016984  ...             0.063964\n",
            "shot_made_flag          -0.017542  ...             0.016526\n",
            "scoremargin_before_shot -0.022761  ...             0.139805\n",
            "homecourt_advantage      0.006558  ...             1.000000\n",
            "\n",
            "[11 rows x 11 columns]\n"
          ],
          "name": "stdout"
        }
      ]
    },
    {
      "cell_type": "code",
      "metadata": {
        "id": "kardIodCgoVg",
        "colab_type": "code",
        "colab": {
          "base_uri": "https://localhost:8080/",
          "height": 290
        },
        "outputId": "c4679b78-4c58-475b-d038-9d9ae74296e9"
      },
      "source": [
        "corr.style.background_gradient(cmap = 'coolwarm')"
      ],
      "execution_count": 30,
      "outputs": [
        {
          "output_type": "execute_result",
          "data": {
            "text/html": [
              "<style  type=\"text/css\" >\n",
              "    #T_c1c8ee38_82b2_11ea_b8ef_0242ac1c0002row0_col0 {\n",
              "            background-color:  #b40426;\n",
              "            color:  #f1f1f1;\n",
              "        }    #T_c1c8ee38_82b2_11ea_b8ef_0242ac1c0002row0_col1 {\n",
              "            background-color:  #94b6ff;\n",
              "            color:  #000000;\n",
              "        }    #T_c1c8ee38_82b2_11ea_b8ef_0242ac1c0002row0_col2 {\n",
              "            background-color:  #5572df;\n",
              "            color:  #000000;\n",
              "        }    #T_c1c8ee38_82b2_11ea_b8ef_0242ac1c0002row0_col3 {\n",
              "            background-color:  #80a3fa;\n",
              "            color:  #000000;\n",
              "        }    #T_c1c8ee38_82b2_11ea_b8ef_0242ac1c0002row0_col4 {\n",
              "            background-color:  #4b64d5;\n",
              "            color:  #f1f1f1;\n",
              "        }    #T_c1c8ee38_82b2_11ea_b8ef_0242ac1c0002row0_col5 {\n",
              "            background-color:  #6687ed;\n",
              "            color:  #000000;\n",
              "        }    #T_c1c8ee38_82b2_11ea_b8ef_0242ac1c0002row0_col6 {\n",
              "            background-color:  #3d50c3;\n",
              "            color:  #f1f1f1;\n",
              "        }    #T_c1c8ee38_82b2_11ea_b8ef_0242ac1c0002row0_col7 {\n",
              "            background-color:  #6384eb;\n",
              "            color:  #000000;\n",
              "        }    #T_c1c8ee38_82b2_11ea_b8ef_0242ac1c0002row0_col8 {\n",
              "            background-color:  #5b7ae5;\n",
              "            color:  #000000;\n",
              "        }    #T_c1c8ee38_82b2_11ea_b8ef_0242ac1c0002row0_col9 {\n",
              "            background-color:  #4b64d5;\n",
              "            color:  #f1f1f1;\n",
              "        }    #T_c1c8ee38_82b2_11ea_b8ef_0242ac1c0002row0_col10 {\n",
              "            background-color:  #485fd1;\n",
              "            color:  #f1f1f1;\n",
              "        }    #T_c1c8ee38_82b2_11ea_b8ef_0242ac1c0002row1_col0 {\n",
              "            background-color:  #536edd;\n",
              "            color:  #000000;\n",
              "        }    #T_c1c8ee38_82b2_11ea_b8ef_0242ac1c0002row1_col1 {\n",
              "            background-color:  #b40426;\n",
              "            color:  #f1f1f1;\n",
              "        }    #T_c1c8ee38_82b2_11ea_b8ef_0242ac1c0002row1_col2 {\n",
              "            background-color:  #c83836;\n",
              "            color:  #f1f1f1;\n",
              "        }    #T_c1c8ee38_82b2_11ea_b8ef_0242ac1c0002row1_col3 {\n",
              "            background-color:  #3b4cc0;\n",
              "            color:  #f1f1f1;\n",
              "        }    #T_c1c8ee38_82b2_11ea_b8ef_0242ac1c0002row1_col4 {\n",
              "            background-color:  #4961d2;\n",
              "            color:  #f1f1f1;\n",
              "        }    #T_c1c8ee38_82b2_11ea_b8ef_0242ac1c0002row1_col5 {\n",
              "            background-color:  #6384eb;\n",
              "            color:  #000000;\n",
              "        }    #T_c1c8ee38_82b2_11ea_b8ef_0242ac1c0002row1_col6 {\n",
              "            background-color:  #4a63d3;\n",
              "            color:  #f1f1f1;\n",
              "        }    #T_c1c8ee38_82b2_11ea_b8ef_0242ac1c0002row1_col7 {\n",
              "            background-color:  #6788ee;\n",
              "            color:  #000000;\n",
              "        }    #T_c1c8ee38_82b2_11ea_b8ef_0242ac1c0002row1_col8 {\n",
              "            background-color:  #5d7ce6;\n",
              "            color:  #000000;\n",
              "        }    #T_c1c8ee38_82b2_11ea_b8ef_0242ac1c0002row1_col9 {\n",
              "            background-color:  #6f92f3;\n",
              "            color:  #000000;\n",
              "        }    #T_c1c8ee38_82b2_11ea_b8ef_0242ac1c0002row1_col10 {\n",
              "            background-color:  #3b4cc0;\n",
              "            color:  #f1f1f1;\n",
              "        }    #T_c1c8ee38_82b2_11ea_b8ef_0242ac1c0002row2_col0 {\n",
              "            background-color:  #485fd1;\n",
              "            color:  #f1f1f1;\n",
              "        }    #T_c1c8ee38_82b2_11ea_b8ef_0242ac1c0002row2_col1 {\n",
              "            background-color:  #c43032;\n",
              "            color:  #f1f1f1;\n",
              "        }    #T_c1c8ee38_82b2_11ea_b8ef_0242ac1c0002row2_col2 {\n",
              "            background-color:  #b40426;\n",
              "            color:  #f1f1f1;\n",
              "        }    #T_c1c8ee38_82b2_11ea_b8ef_0242ac1c0002row2_col3 {\n",
              "            background-color:  #7093f3;\n",
              "            color:  #000000;\n",
              "        }    #T_c1c8ee38_82b2_11ea_b8ef_0242ac1c0002row2_col4 {\n",
              "            background-color:  #506bda;\n",
              "            color:  #000000;\n",
              "        }    #T_c1c8ee38_82b2_11ea_b8ef_0242ac1c0002row2_col5 {\n",
              "            background-color:  #5b7ae5;\n",
              "            color:  #000000;\n",
              "        }    #T_c1c8ee38_82b2_11ea_b8ef_0242ac1c0002row2_col6 {\n",
              "            background-color:  #4b64d5;\n",
              "            color:  #f1f1f1;\n",
              "        }    #T_c1c8ee38_82b2_11ea_b8ef_0242ac1c0002row2_col7 {\n",
              "            background-color:  #5e7de7;\n",
              "            color:  #000000;\n",
              "        }    #T_c1c8ee38_82b2_11ea_b8ef_0242ac1c0002row2_col8 {\n",
              "            background-color:  #5e7de7;\n",
              "            color:  #000000;\n",
              "        }    #T_c1c8ee38_82b2_11ea_b8ef_0242ac1c0002row2_col9 {\n",
              "            background-color:  #688aef;\n",
              "            color:  #000000;\n",
              "        }    #T_c1c8ee38_82b2_11ea_b8ef_0242ac1c0002row2_col10 {\n",
              "            background-color:  #4358cb;\n",
              "            color:  #f1f1f1;\n",
              "        }    #T_c1c8ee38_82b2_11ea_b8ef_0242ac1c0002row3_col0 {\n",
              "            background-color:  #3c4ec2;\n",
              "            color:  #f1f1f1;\n",
              "        }    #T_c1c8ee38_82b2_11ea_b8ef_0242ac1c0002row3_col1 {\n",
              "            background-color:  #3b4cc0;\n",
              "            color:  #f1f1f1;\n",
              "        }    #T_c1c8ee38_82b2_11ea_b8ef_0242ac1c0002row3_col2 {\n",
              "            background-color:  #3b4cc0;\n",
              "            color:  #f1f1f1;\n",
              "        }    #T_c1c8ee38_82b2_11ea_b8ef_0242ac1c0002row3_col3 {\n",
              "            background-color:  #b40426;\n",
              "            color:  #f1f1f1;\n",
              "        }    #T_c1c8ee38_82b2_11ea_b8ef_0242ac1c0002row3_col4 {\n",
              "            background-color:  #5977e3;\n",
              "            color:  #000000;\n",
              "        }    #T_c1c8ee38_82b2_11ea_b8ef_0242ac1c0002row3_col5 {\n",
              "            background-color:  #506bda;\n",
              "            color:  #000000;\n",
              "        }    #T_c1c8ee38_82b2_11ea_b8ef_0242ac1c0002row3_col6 {\n",
              "            background-color:  #3c4ec2;\n",
              "            color:  #f1f1f1;\n",
              "        }    #T_c1c8ee38_82b2_11ea_b8ef_0242ac1c0002row3_col7 {\n",
              "            background-color:  #485fd1;\n",
              "            color:  #f1f1f1;\n",
              "        }    #T_c1c8ee38_82b2_11ea_b8ef_0242ac1c0002row3_col8 {\n",
              "            background-color:  #6a8bef;\n",
              "            color:  #000000;\n",
              "        }    #T_c1c8ee38_82b2_11ea_b8ef_0242ac1c0002row3_col9 {\n",
              "            background-color:  #3b4cc0;\n",
              "            color:  #f1f1f1;\n",
              "        }    #T_c1c8ee38_82b2_11ea_b8ef_0242ac1c0002row3_col10 {\n",
              "            background-color:  #445acc;\n",
              "            color:  #f1f1f1;\n",
              "        }    #T_c1c8ee38_82b2_11ea_b8ef_0242ac1c0002row4_col0 {\n",
              "            background-color:  #3e51c5;\n",
              "            color:  #f1f1f1;\n",
              "        }    #T_c1c8ee38_82b2_11ea_b8ef_0242ac1c0002row4_col1 {\n",
              "            background-color:  #80a3fa;\n",
              "            color:  #000000;\n",
              "        }    #T_c1c8ee38_82b2_11ea_b8ef_0242ac1c0002row4_col2 {\n",
              "            background-color:  #516ddb;\n",
              "            color:  #000000;\n",
              "        }    #T_c1c8ee38_82b2_11ea_b8ef_0242ac1c0002row4_col3 {\n",
              "            background-color:  #8fb1fe;\n",
              "            color:  #000000;\n",
              "        }    #T_c1c8ee38_82b2_11ea_b8ef_0242ac1c0002row4_col4 {\n",
              "            background-color:  #b40426;\n",
              "            color:  #f1f1f1;\n",
              "        }    #T_c1c8ee38_82b2_11ea_b8ef_0242ac1c0002row4_col5 {\n",
              "            background-color:  #4e68d8;\n",
              "            color:  #000000;\n",
              "        }    #T_c1c8ee38_82b2_11ea_b8ef_0242ac1c0002row4_col6 {\n",
              "            background-color:  #3c4ec2;\n",
              "            color:  #f1f1f1;\n",
              "        }    #T_c1c8ee38_82b2_11ea_b8ef_0242ac1c0002row4_col7 {\n",
              "            background-color:  #4a63d3;\n",
              "            color:  #f1f1f1;\n",
              "        }    #T_c1c8ee38_82b2_11ea_b8ef_0242ac1c0002row4_col8 {\n",
              "            background-color:  #6b8df0;\n",
              "            color:  #000000;\n",
              "        }    #T_c1c8ee38_82b2_11ea_b8ef_0242ac1c0002row4_col9 {\n",
              "            background-color:  #506bda;\n",
              "            color:  #000000;\n",
              "        }    #T_c1c8ee38_82b2_11ea_b8ef_0242ac1c0002row4_col10 {\n",
              "            background-color:  #4961d2;\n",
              "            color:  #f1f1f1;\n",
              "        }    #T_c1c8ee38_82b2_11ea_b8ef_0242ac1c0002row5_col0 {\n",
              "            background-color:  #465ecf;\n",
              "            color:  #f1f1f1;\n",
              "        }    #T_c1c8ee38_82b2_11ea_b8ef_0242ac1c0002row5_col1 {\n",
              "            background-color:  #86a9fc;\n",
              "            color:  #000000;\n",
              "        }    #T_c1c8ee38_82b2_11ea_b8ef_0242ac1c0002row5_col2 {\n",
              "            background-color:  #4a63d3;\n",
              "            color:  #f1f1f1;\n",
              "        }    #T_c1c8ee38_82b2_11ea_b8ef_0242ac1c0002row5_col3 {\n",
              "            background-color:  #7699f6;\n",
              "            color:  #000000;\n",
              "        }    #T_c1c8ee38_82b2_11ea_b8ef_0242ac1c0002row5_col4 {\n",
              "            background-color:  #3c4ec2;\n",
              "            color:  #f1f1f1;\n",
              "        }    #T_c1c8ee38_82b2_11ea_b8ef_0242ac1c0002row5_col5 {\n",
              "            background-color:  #b40426;\n",
              "            color:  #f1f1f1;\n",
              "        }    #T_c1c8ee38_82b2_11ea_b8ef_0242ac1c0002row5_col6 {\n",
              "            background-color:  #3b4cc0;\n",
              "            color:  #f1f1f1;\n",
              "        }    #T_c1c8ee38_82b2_11ea_b8ef_0242ac1c0002row5_col7 {\n",
              "            background-color:  #e57058;\n",
              "            color:  #000000;\n",
              "        }    #T_c1c8ee38_82b2_11ea_b8ef_0242ac1c0002row5_col8 {\n",
              "            background-color:  #3b4cc0;\n",
              "            color:  #f1f1f1;\n",
              "        }    #T_c1c8ee38_82b2_11ea_b8ef_0242ac1c0002row5_col9 {\n",
              "            background-color:  #5977e3;\n",
              "            color:  #000000;\n",
              "        }    #T_c1c8ee38_82b2_11ea_b8ef_0242ac1c0002row5_col10 {\n",
              "            background-color:  #516ddb;\n",
              "            color:  #000000;\n",
              "        }    #T_c1c8ee38_82b2_11ea_b8ef_0242ac1c0002row6_col0 {\n",
              "            background-color:  #3e51c5;\n",
              "            color:  #f1f1f1;\n",
              "        }    #T_c1c8ee38_82b2_11ea_b8ef_0242ac1c0002row6_col1 {\n",
              "            background-color:  #8fb1fe;\n",
              "            color:  #000000;\n",
              "        }    #T_c1c8ee38_82b2_11ea_b8ef_0242ac1c0002row6_col2 {\n",
              "            background-color:  #5a78e4;\n",
              "            color:  #000000;\n",
              "        }    #T_c1c8ee38_82b2_11ea_b8ef_0242ac1c0002row6_col3 {\n",
              "            background-color:  #81a4fb;\n",
              "            color:  #000000;\n",
              "        }    #T_c1c8ee38_82b2_11ea_b8ef_0242ac1c0002row6_col4 {\n",
              "            background-color:  #4a63d3;\n",
              "            color:  #f1f1f1;\n",
              "        }    #T_c1c8ee38_82b2_11ea_b8ef_0242ac1c0002row6_col5 {\n",
              "            background-color:  #5b7ae5;\n",
              "            color:  #000000;\n",
              "        }    #T_c1c8ee38_82b2_11ea_b8ef_0242ac1c0002row6_col6 {\n",
              "            background-color:  #b40426;\n",
              "            color:  #f1f1f1;\n",
              "        }    #T_c1c8ee38_82b2_11ea_b8ef_0242ac1c0002row6_col7 {\n",
              "            background-color:  #688aef;\n",
              "            color:  #000000;\n",
              "        }    #T_c1c8ee38_82b2_11ea_b8ef_0242ac1c0002row6_col8 {\n",
              "            background-color:  #5e7de7;\n",
              "            color:  #000000;\n",
              "        }    #T_c1c8ee38_82b2_11ea_b8ef_0242ac1c0002row6_col9 {\n",
              "            background-color:  #5673e0;\n",
              "            color:  #000000;\n",
              "        }    #T_c1c8ee38_82b2_11ea_b8ef_0242ac1c0002row6_col10 {\n",
              "            background-color:  #4055c8;\n",
              "            color:  #f1f1f1;\n",
              "        }    #T_c1c8ee38_82b2_11ea_b8ef_0242ac1c0002row7_col0 {\n",
              "            background-color:  #455cce;\n",
              "            color:  #f1f1f1;\n",
              "        }    #T_c1c8ee38_82b2_11ea_b8ef_0242ac1c0002row7_col1 {\n",
              "            background-color:  #8caffe;\n",
              "            color:  #000000;\n",
              "        }    #T_c1c8ee38_82b2_11ea_b8ef_0242ac1c0002row7_col2 {\n",
              "            background-color:  #4f69d9;\n",
              "            color:  #000000;\n",
              "        }    #T_c1c8ee38_82b2_11ea_b8ef_0242ac1c0002row7_col3 {\n",
              "            background-color:  #6f92f3;\n",
              "            color:  #000000;\n",
              "        }    #T_c1c8ee38_82b2_11ea_b8ef_0242ac1c0002row7_col4 {\n",
              "            background-color:  #3b4cc0;\n",
              "            color:  #f1f1f1;\n",
              "        }    #T_c1c8ee38_82b2_11ea_b8ef_0242ac1c0002row7_col5 {\n",
              "            background-color:  #e46e56;\n",
              "            color:  #000000;\n",
              "        }    #T_c1c8ee38_82b2_11ea_b8ef_0242ac1c0002row7_col6 {\n",
              "            background-color:  #4a63d3;\n",
              "            color:  #f1f1f1;\n",
              "        }    #T_c1c8ee38_82b2_11ea_b8ef_0242ac1c0002row7_col7 {\n",
              "            background-color:  #b40426;\n",
              "            color:  #f1f1f1;\n",
              "        }    #T_c1c8ee38_82b2_11ea_b8ef_0242ac1c0002row7_col8 {\n",
              "            background-color:  #3c4ec2;\n",
              "            color:  #f1f1f1;\n",
              "        }    #T_c1c8ee38_82b2_11ea_b8ef_0242ac1c0002row7_col9 {\n",
              "            background-color:  #5875e1;\n",
              "            color:  #000000;\n",
              "        }    #T_c1c8ee38_82b2_11ea_b8ef_0242ac1c0002row7_col10 {\n",
              "            background-color:  #5977e3;\n",
              "            color:  #000000;\n",
              "        }    #T_c1c8ee38_82b2_11ea_b8ef_0242ac1c0002row8_col0 {\n",
              "            background-color:  #3c4ec2;\n",
              "            color:  #f1f1f1;\n",
              "        }    #T_c1c8ee38_82b2_11ea_b8ef_0242ac1c0002row8_col1 {\n",
              "            background-color:  #81a4fb;\n",
              "            color:  #000000;\n",
              "        }    #T_c1c8ee38_82b2_11ea_b8ef_0242ac1c0002row8_col2 {\n",
              "            background-color:  #4c66d6;\n",
              "            color:  #000000;\n",
              "        }    #T_c1c8ee38_82b2_11ea_b8ef_0242ac1c0002row8_col3 {\n",
              "            background-color:  #8db0fe;\n",
              "            color:  #000000;\n",
              "        }    #T_c1c8ee38_82b2_11ea_b8ef_0242ac1c0002row8_col4 {\n",
              "            background-color:  #5977e3;\n",
              "            color:  #000000;\n",
              "        }    #T_c1c8ee38_82b2_11ea_b8ef_0242ac1c0002row8_col5 {\n",
              "            background-color:  #3b4cc0;\n",
              "            color:  #f1f1f1;\n",
              "        }    #T_c1c8ee38_82b2_11ea_b8ef_0242ac1c0002row8_col6 {\n",
              "            background-color:  #3e51c5;\n",
              "            color:  #f1f1f1;\n",
              "        }    #T_c1c8ee38_82b2_11ea_b8ef_0242ac1c0002row8_col7 {\n",
              "            background-color:  #3b4cc0;\n",
              "            color:  #f1f1f1;\n",
              "        }    #T_c1c8ee38_82b2_11ea_b8ef_0242ac1c0002row8_col8 {\n",
              "            background-color:  #b40426;\n",
              "            color:  #f1f1f1;\n",
              "        }    #T_c1c8ee38_82b2_11ea_b8ef_0242ac1c0002row8_col9 {\n",
              "            background-color:  #516ddb;\n",
              "            color:  #000000;\n",
              "        }    #T_c1c8ee38_82b2_11ea_b8ef_0242ac1c0002row8_col10 {\n",
              "            background-color:  #4a63d3;\n",
              "            color:  #f1f1f1;\n",
              "        }    #T_c1c8ee38_82b2_11ea_b8ef_0242ac1c0002row9_col0 {\n",
              "            background-color:  #3b4cc0;\n",
              "            color:  #f1f1f1;\n",
              "        }    #T_c1c8ee38_82b2_11ea_b8ef_0242ac1c0002row9_col1 {\n",
              "            background-color:  #9ebeff;\n",
              "            color:  #000000;\n",
              "        }    #T_c1c8ee38_82b2_11ea_b8ef_0242ac1c0002row9_col2 {\n",
              "            background-color:  #6687ed;\n",
              "            color:  #000000;\n",
              "        }    #T_c1c8ee38_82b2_11ea_b8ef_0242ac1c0002row9_col3 {\n",
              "            background-color:  #6c8ff1;\n",
              "            color:  #000000;\n",
              "        }    #T_c1c8ee38_82b2_11ea_b8ef_0242ac1c0002row9_col4 {\n",
              "            background-color:  #4b64d5;\n",
              "            color:  #f1f1f1;\n",
              "        }    #T_c1c8ee38_82b2_11ea_b8ef_0242ac1c0002row9_col5 {\n",
              "            background-color:  #6788ee;\n",
              "            color:  #000000;\n",
              "        }    #T_c1c8ee38_82b2_11ea_b8ef_0242ac1c0002row9_col6 {\n",
              "            background-color:  #4358cb;\n",
              "            color:  #f1f1f1;\n",
              "        }    #T_c1c8ee38_82b2_11ea_b8ef_0242ac1c0002row9_col7 {\n",
              "            background-color:  #6384eb;\n",
              "            color:  #000000;\n",
              "        }    #T_c1c8ee38_82b2_11ea_b8ef_0242ac1c0002row9_col8 {\n",
              "            background-color:  #5f7fe8;\n",
              "            color:  #000000;\n",
              "        }    #T_c1c8ee38_82b2_11ea_b8ef_0242ac1c0002row9_col9 {\n",
              "            background-color:  #b40426;\n",
              "            color:  #f1f1f1;\n",
              "        }    #T_c1c8ee38_82b2_11ea_b8ef_0242ac1c0002row9_col10 {\n",
              "            background-color:  #7295f4;\n",
              "            color:  #000000;\n",
              "        }    #T_c1c8ee38_82b2_11ea_b8ef_0242ac1c0002row10_col0 {\n",
              "            background-color:  #4358cb;\n",
              "            color:  #f1f1f1;\n",
              "        }    #T_c1c8ee38_82b2_11ea_b8ef_0242ac1c0002row10_col1 {\n",
              "            background-color:  #7a9df8;\n",
              "            color:  #000000;\n",
              "        }    #T_c1c8ee38_82b2_11ea_b8ef_0242ac1c0002row10_col2 {\n",
              "            background-color:  #4c66d6;\n",
              "            color:  #000000;\n",
              "        }    #T_c1c8ee38_82b2_11ea_b8ef_0242ac1c0002row10_col3 {\n",
              "            background-color:  #84a7fc;\n",
              "            color:  #000000;\n",
              "        }    #T_c1c8ee38_82b2_11ea_b8ef_0242ac1c0002row10_col4 {\n",
              "            background-color:  #516ddb;\n",
              "            color:  #000000;\n",
              "        }    #T_c1c8ee38_82b2_11ea_b8ef_0242ac1c0002row10_col5 {\n",
              "            background-color:  #6c8ff1;\n",
              "            color:  #000000;\n",
              "        }    #T_c1c8ee38_82b2_11ea_b8ef_0242ac1c0002row10_col6 {\n",
              "            background-color:  #3b4cc0;\n",
              "            color:  #f1f1f1;\n",
              "        }    #T_c1c8ee38_82b2_11ea_b8ef_0242ac1c0002row10_col7 {\n",
              "            background-color:  #7093f3;\n",
              "            color:  #000000;\n",
              "        }    #T_c1c8ee38_82b2_11ea_b8ef_0242ac1c0002row10_col8 {\n",
              "            background-color:  #6485ec;\n",
              "            color:  #000000;\n",
              "        }    #T_c1c8ee38_82b2_11ea_b8ef_0242ac1c0002row10_col9 {\n",
              "            background-color:  #7da0f9;\n",
              "            color:  #000000;\n",
              "        }    #T_c1c8ee38_82b2_11ea_b8ef_0242ac1c0002row10_col10 {\n",
              "            background-color:  #b40426;\n",
              "            color:  #f1f1f1;\n",
              "        }</style><table id=\"T_c1c8ee38_82b2_11ea_b8ef_0242ac1c0002\" ><thead>    <tr>        <th class=\"blank level0\" ></th>        <th class=\"col_heading level0 col0\" >game_id</th>        <th class=\"col_heading level0 col1\" >game_event_id</th>        <th class=\"col_heading level0 col2\" >period</th>        <th class=\"col_heading level0 col3\" >minutes_remaining</th>        <th class=\"col_heading level0 col4\" >seconds_remaining</th>        <th class=\"col_heading level0 col5\" >shot_distance</th>        <th class=\"col_heading level0 col6\" >loc_x</th>        <th class=\"col_heading level0 col7\" >loc_y</th>        <th class=\"col_heading level0 col8\" >shot_made_flag</th>        <th class=\"col_heading level0 col9\" >scoremargin_before_shot</th>        <th class=\"col_heading level0 col10\" >homecourt_advantage</th>    </tr></thead><tbody>\n",
              "                <tr>\n",
              "                        <th id=\"T_c1c8ee38_82b2_11ea_b8ef_0242ac1c0002level0_row0\" class=\"row_heading level0 row0\" >game_id</th>\n",
              "                        <td id=\"T_c1c8ee38_82b2_11ea_b8ef_0242ac1c0002row0_col0\" class=\"data row0 col0\" >1.000000</td>\n",
              "                        <td id=\"T_c1c8ee38_82b2_11ea_b8ef_0242ac1c0002row0_col1\" class=\"data row0 col1\" >0.058387</td>\n",
              "                        <td id=\"T_c1c8ee38_82b2_11ea_b8ef_0242ac1c0002row0_col2\" class=\"data row0 col2\" >0.023757</td>\n",
              "                        <td id=\"T_c1c8ee38_82b2_11ea_b8ef_0242ac1c0002row0_col3\" class=\"data row0 col3\" >-0.018650</td>\n",
              "                        <td id=\"T_c1c8ee38_82b2_11ea_b8ef_0242ac1c0002row0_col4\" class=\"data row0 col4\" >-0.009982</td>\n",
              "                        <td id=\"T_c1c8ee38_82b2_11ea_b8ef_0242ac1c0002row0_col5\" class=\"data row0 col5\" >0.019789</td>\n",
              "                        <td id=\"T_c1c8ee38_82b2_11ea_b8ef_0242ac1c0002row0_col6\" class=\"data row0 col6\" >-0.007311</td>\n",
              "                        <td id=\"T_c1c8ee38_82b2_11ea_b8ef_0242ac1c0002row0_col7\" class=\"data row0 col7\" >0.016984</td>\n",
              "                        <td id=\"T_c1c8ee38_82b2_11ea_b8ef_0242ac1c0002row0_col8\" class=\"data row0 col8\" >-0.017542</td>\n",
              "                        <td id=\"T_c1c8ee38_82b2_11ea_b8ef_0242ac1c0002row0_col9\" class=\"data row0 col9\" >-0.022761</td>\n",
              "                        <td id=\"T_c1c8ee38_82b2_11ea_b8ef_0242ac1c0002row0_col10\" class=\"data row0 col10\" >0.006558</td>\n",
              "            </tr>\n",
              "            <tr>\n",
              "                        <th id=\"T_c1c8ee38_82b2_11ea_b8ef_0242ac1c0002level0_row1\" class=\"row_heading level0 row1\" >game_event_id</th>\n",
              "                        <td id=\"T_c1c8ee38_82b2_11ea_b8ef_0242ac1c0002row1_col0\" class=\"data row1 col0\" >0.058387</td>\n",
              "                        <td id=\"T_c1c8ee38_82b2_11ea_b8ef_0242ac1c0002row1_col1\" class=\"data row1 col1\" >1.000000</td>\n",
              "                        <td id=\"T_c1c8ee38_82b2_11ea_b8ef_0242ac1c0002row1_col2\" class=\"data row1 col2\" >0.940855</td>\n",
              "                        <td id=\"T_c1c8ee38_82b2_11ea_b8ef_0242ac1c0002row1_col3\" class=\"data row1 col3\" >-0.291271</td>\n",
              "                        <td id=\"T_c1c8ee38_82b2_11ea_b8ef_0242ac1c0002row1_col4\" class=\"data row1 col4\" >-0.018433</td>\n",
              "                        <td id=\"T_c1c8ee38_82b2_11ea_b8ef_0242ac1c0002row1_col5\" class=\"data row1 col5\" >0.011211</td>\n",
              "                        <td id=\"T_c1c8ee38_82b2_11ea_b8ef_0242ac1c0002row1_col6\" class=\"data row1 col6\" >0.037097</td>\n",
              "                        <td id=\"T_c1c8ee38_82b2_11ea_b8ef_0242ac1c0002row1_col7\" class=\"data row1 col7\" >0.029789</td>\n",
              "                        <td id=\"T_c1c8ee38_82b2_11ea_b8ef_0242ac1c0002row1_col8\" class=\"data row1 col8\" >-0.012720</td>\n",
              "                        <td id=\"T_c1c8ee38_82b2_11ea_b8ef_0242ac1c0002row1_col9\" class=\"data row1 col9\" >0.096800</td>\n",
              "                        <td id=\"T_c1c8ee38_82b2_11ea_b8ef_0242ac1c0002row1_col10\" class=\"data row1 col10\" >-0.038768</td>\n",
              "            </tr>\n",
              "            <tr>\n",
              "                        <th id=\"T_c1c8ee38_82b2_11ea_b8ef_0242ac1c0002level0_row2\" class=\"row_heading level0 row2\" >period</th>\n",
              "                        <td id=\"T_c1c8ee38_82b2_11ea_b8ef_0242ac1c0002row2_col0\" class=\"data row2 col0\" >0.023757</td>\n",
              "                        <td id=\"T_c1c8ee38_82b2_11ea_b8ef_0242ac1c0002row2_col1\" class=\"data row2 col1\" >0.940855</td>\n",
              "                        <td id=\"T_c1c8ee38_82b2_11ea_b8ef_0242ac1c0002row2_col2\" class=\"data row2 col2\" >1.000000</td>\n",
              "                        <td id=\"T_c1c8ee38_82b2_11ea_b8ef_0242ac1c0002row2_col3\" class=\"data row2 col3\" >-0.071512</td>\n",
              "                        <td id=\"T_c1c8ee38_82b2_11ea_b8ef_0242ac1c0002row2_col4\" class=\"data row2 col4\" >0.009031</td>\n",
              "                        <td id=\"T_c1c8ee38_82b2_11ea_b8ef_0242ac1c0002row2_col5\" class=\"data row2 col5\" >-0.014679</td>\n",
              "                        <td id=\"T_c1c8ee38_82b2_11ea_b8ef_0242ac1c0002row2_col6\" class=\"data row2 col6\" >0.040834</td>\n",
              "                        <td id=\"T_c1c8ee38_82b2_11ea_b8ef_0242ac1c0002row2_col7\" class=\"data row2 col7\" >0.002066</td>\n",
              "                        <td id=\"T_c1c8ee38_82b2_11ea_b8ef_0242ac1c0002row2_col8\" class=\"data row2 col8\" >-0.005241</td>\n",
              "                        <td id=\"T_c1c8ee38_82b2_11ea_b8ef_0242ac1c0002row2_col9\" class=\"data row2 col9\" >0.076163</td>\n",
              "                        <td id=\"T_c1c8ee38_82b2_11ea_b8ef_0242ac1c0002row2_col10\" class=\"data row2 col10\" >-0.008206</td>\n",
              "            </tr>\n",
              "            <tr>\n",
              "                        <th id=\"T_c1c8ee38_82b2_11ea_b8ef_0242ac1c0002level0_row3\" class=\"row_heading level0 row3\" >minutes_remaining</th>\n",
              "                        <td id=\"T_c1c8ee38_82b2_11ea_b8ef_0242ac1c0002row3_col0\" class=\"data row3 col0\" >-0.018650</td>\n",
              "                        <td id=\"T_c1c8ee38_82b2_11ea_b8ef_0242ac1c0002row3_col1\" class=\"data row3 col1\" >-0.291271</td>\n",
              "                        <td id=\"T_c1c8ee38_82b2_11ea_b8ef_0242ac1c0002row3_col2\" class=\"data row3 col2\" >-0.071512</td>\n",
              "                        <td id=\"T_c1c8ee38_82b2_11ea_b8ef_0242ac1c0002row3_col3\" class=\"data row3 col3\" >1.000000</td>\n",
              "                        <td id=\"T_c1c8ee38_82b2_11ea_b8ef_0242ac1c0002row3_col4\" class=\"data row3 col4\" >0.037336</td>\n",
              "                        <td id=\"T_c1c8ee38_82b2_11ea_b8ef_0242ac1c0002row3_col5\" class=\"data row3 col5\" >-0.053699</td>\n",
              "                        <td id=\"T_c1c8ee38_82b2_11ea_b8ef_0242ac1c0002row3_col6\" class=\"data row3 col6\" >-0.012034</td>\n",
              "                        <td id=\"T_c1c8ee38_82b2_11ea_b8ef_0242ac1c0002row3_col7\" class=\"data row3 col7\" >-0.078049</td>\n",
              "                        <td id=\"T_c1c8ee38_82b2_11ea_b8ef_0242ac1c0002row3_col8\" class=\"data row3 col8\" >0.033877</td>\n",
              "                        <td id=\"T_c1c8ee38_82b2_11ea_b8ef_0242ac1c0002row3_col9\" class=\"data row3 col9\" >-0.084498</td>\n",
              "                        <td id=\"T_c1c8ee38_82b2_11ea_b8ef_0242ac1c0002row3_col10\" class=\"data row3 col10\" >-0.002664</td>\n",
              "            </tr>\n",
              "            <tr>\n",
              "                        <th id=\"T_c1c8ee38_82b2_11ea_b8ef_0242ac1c0002level0_row4\" class=\"row_heading level0 row4\" >seconds_remaining</th>\n",
              "                        <td id=\"T_c1c8ee38_82b2_11ea_b8ef_0242ac1c0002row4_col0\" class=\"data row4 col0\" >-0.009982</td>\n",
              "                        <td id=\"T_c1c8ee38_82b2_11ea_b8ef_0242ac1c0002row4_col1\" class=\"data row4 col1\" >-0.018433</td>\n",
              "                        <td id=\"T_c1c8ee38_82b2_11ea_b8ef_0242ac1c0002row4_col2\" class=\"data row4 col2\" >0.009031</td>\n",
              "                        <td id=\"T_c1c8ee38_82b2_11ea_b8ef_0242ac1c0002row4_col3\" class=\"data row4 col3\" >0.037336</td>\n",
              "                        <td id=\"T_c1c8ee38_82b2_11ea_b8ef_0242ac1c0002row4_col4\" class=\"data row4 col4\" >1.000000</td>\n",
              "                        <td id=\"T_c1c8ee38_82b2_11ea_b8ef_0242ac1c0002row4_col5\" class=\"data row4 col5\" >-0.064230</td>\n",
              "                        <td id=\"T_c1c8ee38_82b2_11ea_b8ef_0242ac1c0002row4_col6\" class=\"data row4 col6\" >-0.010662</td>\n",
              "                        <td id=\"T_c1c8ee38_82b2_11ea_b8ef_0242ac1c0002row4_col7\" class=\"data row4 col7\" >-0.068568</td>\n",
              "                        <td id=\"T_c1c8ee38_82b2_11ea_b8ef_0242ac1c0002row4_col8\" class=\"data row4 col8\" >0.036618</td>\n",
              "                        <td id=\"T_c1c8ee38_82b2_11ea_b8ef_0242ac1c0002row4_col9\" class=\"data row4 col9\" >-0.007952</td>\n",
              "                        <td id=\"T_c1c8ee38_82b2_11ea_b8ef_0242ac1c0002row4_col10\" class=\"data row4 col10\" >0.013011</td>\n",
              "            </tr>\n",
              "            <tr>\n",
              "                        <th id=\"T_c1c8ee38_82b2_11ea_b8ef_0242ac1c0002level0_row5\" class=\"row_heading level0 row5\" >shot_distance</th>\n",
              "                        <td id=\"T_c1c8ee38_82b2_11ea_b8ef_0242ac1c0002row5_col0\" class=\"data row5 col0\" >0.019789</td>\n",
              "                        <td id=\"T_c1c8ee38_82b2_11ea_b8ef_0242ac1c0002row5_col1\" class=\"data row5 col1\" >0.011211</td>\n",
              "                        <td id=\"T_c1c8ee38_82b2_11ea_b8ef_0242ac1c0002row5_col2\" class=\"data row5 col2\" >-0.014679</td>\n",
              "                        <td id=\"T_c1c8ee38_82b2_11ea_b8ef_0242ac1c0002row5_col3\" class=\"data row5 col3\" >-0.053699</td>\n",
              "                        <td id=\"T_c1c8ee38_82b2_11ea_b8ef_0242ac1c0002row5_col4\" class=\"data row5 col4\" >-0.064230</td>\n",
              "                        <td id=\"T_c1c8ee38_82b2_11ea_b8ef_0242ac1c0002row5_col5\" class=\"data row5 col5\" >1.000000</td>\n",
              "                        <td id=\"T_c1c8ee38_82b2_11ea_b8ef_0242ac1c0002row5_col6\" class=\"data row5 col6\" >-0.017901</td>\n",
              "                        <td id=\"T_c1c8ee38_82b2_11ea_b8ef_0242ac1c0002row5_col7\" class=\"data row5 col7\" >0.822426</td>\n",
              "                        <td id=\"T_c1c8ee38_82b2_11ea_b8ef_0242ac1c0002row5_col8\" class=\"data row5 col8\" >-0.138070</td>\n",
              "                        <td id=\"T_c1c8ee38_82b2_11ea_b8ef_0242ac1c0002row5_col9\" class=\"data row5 col9\" >0.025137</td>\n",
              "                        <td id=\"T_c1c8ee38_82b2_11ea_b8ef_0242ac1c0002row5_col10\" class=\"data row5 col10\" >0.041477</td>\n",
              "            </tr>\n",
              "            <tr>\n",
              "                        <th id=\"T_c1c8ee38_82b2_11ea_b8ef_0242ac1c0002level0_row6\" class=\"row_heading level0 row6\" >loc_x</th>\n",
              "                        <td id=\"T_c1c8ee38_82b2_11ea_b8ef_0242ac1c0002row6_col0\" class=\"data row6 col0\" >-0.007311</td>\n",
              "                        <td id=\"T_c1c8ee38_82b2_11ea_b8ef_0242ac1c0002row6_col1\" class=\"data row6 col1\" >0.037097</td>\n",
              "                        <td id=\"T_c1c8ee38_82b2_11ea_b8ef_0242ac1c0002row6_col2\" class=\"data row6 col2\" >0.040834</td>\n",
              "                        <td id=\"T_c1c8ee38_82b2_11ea_b8ef_0242ac1c0002row6_col3\" class=\"data row6 col3\" >-0.012034</td>\n",
              "                        <td id=\"T_c1c8ee38_82b2_11ea_b8ef_0242ac1c0002row6_col4\" class=\"data row6 col4\" >-0.010662</td>\n",
              "                        <td id=\"T_c1c8ee38_82b2_11ea_b8ef_0242ac1c0002row6_col5\" class=\"data row6 col5\" >-0.017901</td>\n",
              "                        <td id=\"T_c1c8ee38_82b2_11ea_b8ef_0242ac1c0002row6_col6\" class=\"data row6 col6\" >1.000000</td>\n",
              "                        <td id=\"T_c1c8ee38_82b2_11ea_b8ef_0242ac1c0002row6_col7\" class=\"data row6 col7\" >0.036513</td>\n",
              "                        <td id=\"T_c1c8ee38_82b2_11ea_b8ef_0242ac1c0002row6_col8\" class=\"data row6 col8\" >-0.005824</td>\n",
              "                        <td id=\"T_c1c8ee38_82b2_11ea_b8ef_0242ac1c0002row6_col9\" class=\"data row6 col9\" >0.013601</td>\n",
              "                        <td id=\"T_c1c8ee38_82b2_11ea_b8ef_0242ac1c0002row6_col10\" class=\"data row6 col10\" >-0.018087</td>\n",
              "            </tr>\n",
              "            <tr>\n",
              "                        <th id=\"T_c1c8ee38_82b2_11ea_b8ef_0242ac1c0002level0_row7\" class=\"row_heading level0 row7\" >loc_y</th>\n",
              "                        <td id=\"T_c1c8ee38_82b2_11ea_b8ef_0242ac1c0002row7_col0\" class=\"data row7 col0\" >0.016984</td>\n",
              "                        <td id=\"T_c1c8ee38_82b2_11ea_b8ef_0242ac1c0002row7_col1\" class=\"data row7 col1\" >0.029789</td>\n",
              "                        <td id=\"T_c1c8ee38_82b2_11ea_b8ef_0242ac1c0002row7_col2\" class=\"data row7 col2\" >0.002066</td>\n",
              "                        <td id=\"T_c1c8ee38_82b2_11ea_b8ef_0242ac1c0002row7_col3\" class=\"data row7 col3\" >-0.078049</td>\n",
              "                        <td id=\"T_c1c8ee38_82b2_11ea_b8ef_0242ac1c0002row7_col4\" class=\"data row7 col4\" >-0.068568</td>\n",
              "                        <td id=\"T_c1c8ee38_82b2_11ea_b8ef_0242ac1c0002row7_col5\" class=\"data row7 col5\" >0.822426</td>\n",
              "                        <td id=\"T_c1c8ee38_82b2_11ea_b8ef_0242ac1c0002row7_col6\" class=\"data row7 col6\" >0.036513</td>\n",
              "                        <td id=\"T_c1c8ee38_82b2_11ea_b8ef_0242ac1c0002row7_col7\" class=\"data row7 col7\" >1.000000</td>\n",
              "                        <td id=\"T_c1c8ee38_82b2_11ea_b8ef_0242ac1c0002row7_col8\" class=\"data row7 col8\" >-0.130082</td>\n",
              "                        <td id=\"T_c1c8ee38_82b2_11ea_b8ef_0242ac1c0002row7_col9\" class=\"data row7 col9\" >0.018910</td>\n",
              "                        <td id=\"T_c1c8ee38_82b2_11ea_b8ef_0242ac1c0002row7_col10\" class=\"data row7 col10\" >0.063964</td>\n",
              "            </tr>\n",
              "            <tr>\n",
              "                        <th id=\"T_c1c8ee38_82b2_11ea_b8ef_0242ac1c0002level0_row8\" class=\"row_heading level0 row8\" >shot_made_flag</th>\n",
              "                        <td id=\"T_c1c8ee38_82b2_11ea_b8ef_0242ac1c0002row8_col0\" class=\"data row8 col0\" >-0.017542</td>\n",
              "                        <td id=\"T_c1c8ee38_82b2_11ea_b8ef_0242ac1c0002row8_col1\" class=\"data row8 col1\" >-0.012720</td>\n",
              "                        <td id=\"T_c1c8ee38_82b2_11ea_b8ef_0242ac1c0002row8_col2\" class=\"data row8 col2\" >-0.005241</td>\n",
              "                        <td id=\"T_c1c8ee38_82b2_11ea_b8ef_0242ac1c0002row8_col3\" class=\"data row8 col3\" >0.033877</td>\n",
              "                        <td id=\"T_c1c8ee38_82b2_11ea_b8ef_0242ac1c0002row8_col4\" class=\"data row8 col4\" >0.036618</td>\n",
              "                        <td id=\"T_c1c8ee38_82b2_11ea_b8ef_0242ac1c0002row8_col5\" class=\"data row8 col5\" >-0.138070</td>\n",
              "                        <td id=\"T_c1c8ee38_82b2_11ea_b8ef_0242ac1c0002row8_col6\" class=\"data row8 col6\" >-0.005824</td>\n",
              "                        <td id=\"T_c1c8ee38_82b2_11ea_b8ef_0242ac1c0002row8_col7\" class=\"data row8 col7\" >-0.130082</td>\n",
              "                        <td id=\"T_c1c8ee38_82b2_11ea_b8ef_0242ac1c0002row8_col8\" class=\"data row8 col8\" >1.000000</td>\n",
              "                        <td id=\"T_c1c8ee38_82b2_11ea_b8ef_0242ac1c0002row8_col9\" class=\"data row8 col9\" >-0.003207</td>\n",
              "                        <td id=\"T_c1c8ee38_82b2_11ea_b8ef_0242ac1c0002row8_col10\" class=\"data row8 col10\" >0.016526</td>\n",
              "            </tr>\n",
              "            <tr>\n",
              "                        <th id=\"T_c1c8ee38_82b2_11ea_b8ef_0242ac1c0002level0_row9\" class=\"row_heading level0 row9\" >scoremargin_before_shot</th>\n",
              "                        <td id=\"T_c1c8ee38_82b2_11ea_b8ef_0242ac1c0002row9_col0\" class=\"data row9 col0\" >-0.022761</td>\n",
              "                        <td id=\"T_c1c8ee38_82b2_11ea_b8ef_0242ac1c0002row9_col1\" class=\"data row9 col1\" >0.096800</td>\n",
              "                        <td id=\"T_c1c8ee38_82b2_11ea_b8ef_0242ac1c0002row9_col2\" class=\"data row9 col2\" >0.076163</td>\n",
              "                        <td id=\"T_c1c8ee38_82b2_11ea_b8ef_0242ac1c0002row9_col3\" class=\"data row9 col3\" >-0.084498</td>\n",
              "                        <td id=\"T_c1c8ee38_82b2_11ea_b8ef_0242ac1c0002row9_col4\" class=\"data row9 col4\" >-0.007952</td>\n",
              "                        <td id=\"T_c1c8ee38_82b2_11ea_b8ef_0242ac1c0002row9_col5\" class=\"data row9 col5\" >0.025137</td>\n",
              "                        <td id=\"T_c1c8ee38_82b2_11ea_b8ef_0242ac1c0002row9_col6\" class=\"data row9 col6\" >0.013601</td>\n",
              "                        <td id=\"T_c1c8ee38_82b2_11ea_b8ef_0242ac1c0002row9_col7\" class=\"data row9 col7\" >0.018910</td>\n",
              "                        <td id=\"T_c1c8ee38_82b2_11ea_b8ef_0242ac1c0002row9_col8\" class=\"data row9 col8\" >-0.003207</td>\n",
              "                        <td id=\"T_c1c8ee38_82b2_11ea_b8ef_0242ac1c0002row9_col9\" class=\"data row9 col9\" >1.000000</td>\n",
              "                        <td id=\"T_c1c8ee38_82b2_11ea_b8ef_0242ac1c0002row9_col10\" class=\"data row9 col10\" >0.139805</td>\n",
              "            </tr>\n",
              "            <tr>\n",
              "                        <th id=\"T_c1c8ee38_82b2_11ea_b8ef_0242ac1c0002level0_row10\" class=\"row_heading level0 row10\" >homecourt_advantage</th>\n",
              "                        <td id=\"T_c1c8ee38_82b2_11ea_b8ef_0242ac1c0002row10_col0\" class=\"data row10 col0\" >0.006558</td>\n",
              "                        <td id=\"T_c1c8ee38_82b2_11ea_b8ef_0242ac1c0002row10_col1\" class=\"data row10 col1\" >-0.038768</td>\n",
              "                        <td id=\"T_c1c8ee38_82b2_11ea_b8ef_0242ac1c0002row10_col2\" class=\"data row10 col2\" >-0.008206</td>\n",
              "                        <td id=\"T_c1c8ee38_82b2_11ea_b8ef_0242ac1c0002row10_col3\" class=\"data row10 col3\" >-0.002664</td>\n",
              "                        <td id=\"T_c1c8ee38_82b2_11ea_b8ef_0242ac1c0002row10_col4\" class=\"data row10 col4\" >0.013011</td>\n",
              "                        <td id=\"T_c1c8ee38_82b2_11ea_b8ef_0242ac1c0002row10_col5\" class=\"data row10 col5\" >0.041477</td>\n",
              "                        <td id=\"T_c1c8ee38_82b2_11ea_b8ef_0242ac1c0002row10_col6\" class=\"data row10 col6\" >-0.018087</td>\n",
              "                        <td id=\"T_c1c8ee38_82b2_11ea_b8ef_0242ac1c0002row10_col7\" class=\"data row10 col7\" >0.063964</td>\n",
              "                        <td id=\"T_c1c8ee38_82b2_11ea_b8ef_0242ac1c0002row10_col8\" class=\"data row10 col8\" >0.016526</td>\n",
              "                        <td id=\"T_c1c8ee38_82b2_11ea_b8ef_0242ac1c0002row10_col9\" class=\"data row10 col9\" >0.139805</td>\n",
              "                        <td id=\"T_c1c8ee38_82b2_11ea_b8ef_0242ac1c0002row10_col10\" class=\"data row10 col10\" >1.000000</td>\n",
              "            </tr>\n",
              "    </tbody></table>"
            ],
            "text/plain": [
              "<pandas.io.formats.style.Styler at 0x7fa61d59da20>"
            ]
          },
          "metadata": {
            "tags": []
          },
          "execution_count": 30
        }
      ]
    },
    {
      "cell_type": "code",
      "metadata": {
        "id": "wxG854K5BVSS",
        "colab_type": "code",
        "colab": {
          "base_uri": "https://localhost:8080/",
          "height": 338
        },
        "outputId": "7cbedf0a-e2ef-49d2-ad87-7cda4fc20513"
      },
      "source": [
        "#SCATTERPLOT: from https://towardsdatascience.com/better-heatmaps-and-correlation-matrix-plots-in-python-41445d0f2bec\n",
        "\n",
        "def heatmap(x, y, size):\n",
        "    fig, ax = plt.subplots()\n",
        "    \n",
        "    # Mapping from column names to integer coordinates\n",
        "    x_labels = [v for v in sorted(x.unique())]\n",
        "    y_labels = [v for v in sorted(y.unique())]\n",
        "\n",
        "    x_to_num = {p[1]:p[0] for p in enumerate(x_labels)} \n",
        "    y_to_num = {p[1]:p[0] for p in enumerate(y_labels)} \n",
        "    \n",
        "    size_scale = 500\n",
        "\n",
        "    ax.scatter(\n",
        "        x=x.map(x_to_num), # Use mapping for x\n",
        "        y=y.map(y_to_num), # Use mapping for y\n",
        "        s=size * size_scale, # Vector of square sizes, proportional to size parameter\n",
        "        marker='s' # Use square as scatterplot marker\n",
        "    )\n",
        "    \n",
        "    # Show column labels on the axes\n",
        "    ax.set_xticks([x_to_num[v] for v in x_labels])\n",
        "    ax.set_xticklabels(x_labels, rotation=45, horizontalalignment='right')\n",
        "    ax.set_yticks([y_to_num[v] for v in y_labels])\n",
        "    ax.set_yticklabels(y_labels)\n",
        "    \n",
        "data = pd.read_csv('https://raw.githubusercontent.com/drazenz/heatmap/master/autos.clean.csv')\n",
        "\n",
        "columns = ['bore', 'stroke', 'compression-ratio', 'horsepower', 'city-mpg', 'price'] \n",
        "\n",
        "corr = data[columns].corr()\n",
        "corr = pd.melt(corr.reset_index(), id_vars='index') # Unpivot the dataframe, so we can get pair of arrays for x and y\n",
        "\n",
        "corr.columns = ['x', 'y', 'value']\n",
        "\n",
        "heatmap(\n",
        "    x=corr['x'],\n",
        "    y=corr['y'],\n",
        "    size=corr['value'].abs()\n",
        ")"
      ],
      "execution_count": 22,
      "outputs": [
        {
          "output_type": "error",
          "ename": "NameError",
          "evalue": "ignored",
          "traceback": [
            "\u001b[0;31m---------------------------------------------------------------------------\u001b[0m",
            "\u001b[0;31mNameError\u001b[0m                                 Traceback (most recent call last)",
            "\u001b[0;32m<ipython-input-22-db8c29aebb82>\u001b[0m in \u001b[0;36m<module>\u001b[0;34m()\u001b[0m\n\u001b[1;32m     37\u001b[0m     \u001b[0mx\u001b[0m\u001b[0;34m=\u001b[0m\u001b[0mcorr\u001b[0m\u001b[0;34m[\u001b[0m\u001b[0;34m'x'\u001b[0m\u001b[0;34m]\u001b[0m\u001b[0;34m,\u001b[0m\u001b[0;34m\u001b[0m\u001b[0;34m\u001b[0m\u001b[0m\n\u001b[1;32m     38\u001b[0m     \u001b[0my\u001b[0m\u001b[0;34m=\u001b[0m\u001b[0mcorr\u001b[0m\u001b[0;34m[\u001b[0m\u001b[0;34m'y'\u001b[0m\u001b[0;34m]\u001b[0m\u001b[0;34m,\u001b[0m\u001b[0;34m\u001b[0m\u001b[0;34m\u001b[0m\u001b[0m\n\u001b[0;32m---> 39\u001b[0;31m     \u001b[0msize\u001b[0m\u001b[0;34m=\u001b[0m\u001b[0mcorr\u001b[0m\u001b[0;34m[\u001b[0m\u001b[0;34m'value'\u001b[0m\u001b[0;34m]\u001b[0m\u001b[0;34m.\u001b[0m\u001b[0mabs\u001b[0m\u001b[0;34m(\u001b[0m\u001b[0;34m)\u001b[0m\u001b[0;34m\u001b[0m\u001b[0;34m\u001b[0m\u001b[0m\n\u001b[0m\u001b[1;32m     40\u001b[0m )\n",
            "\u001b[0;32m<ipython-input-22-db8c29aebb82>\u001b[0m in \u001b[0;36mheatmap\u001b[0;34m(x, y, size)\u001b[0m\n\u001b[1;32m      1\u001b[0m \u001b[0;34m\u001b[0m\u001b[0m\n\u001b[1;32m      2\u001b[0m \u001b[0;32mdef\u001b[0m \u001b[0mheatmap\u001b[0m\u001b[0;34m(\u001b[0m\u001b[0mx\u001b[0m\u001b[0;34m,\u001b[0m \u001b[0my\u001b[0m\u001b[0;34m,\u001b[0m \u001b[0msize\u001b[0m\u001b[0;34m)\u001b[0m\u001b[0;34m:\u001b[0m\u001b[0;34m\u001b[0m\u001b[0;34m\u001b[0m\u001b[0m\n\u001b[0;32m----> 3\u001b[0;31m     \u001b[0mfig\u001b[0m\u001b[0;34m,\u001b[0m \u001b[0max\u001b[0m \u001b[0;34m=\u001b[0m \u001b[0mplt\u001b[0m\u001b[0;34m.\u001b[0m\u001b[0msubplots\u001b[0m\u001b[0;34m(\u001b[0m\u001b[0;34m)\u001b[0m\u001b[0;34m\u001b[0m\u001b[0;34m\u001b[0m\u001b[0m\n\u001b[0m\u001b[1;32m      4\u001b[0m \u001b[0;34m\u001b[0m\u001b[0m\n\u001b[1;32m      5\u001b[0m     \u001b[0;31m# Mapping from column names to integer coordinates\u001b[0m\u001b[0;34m\u001b[0m\u001b[0;34m\u001b[0m\u001b[0;34m\u001b[0m\u001b[0m\n",
            "\u001b[0;31mNameError\u001b[0m: name 'plt' is not defined"
          ]
        }
      ]
    },
    {
      "cell_type": "markdown",
      "metadata": {
        "id": "N5BBJkGt8euc",
        "colab_type": "text"
      },
      "source": [
        "3) Optimize 3+ hyperparameters by trying 10+ \"candidates\" (possible combinations of hyperparameters). You can use RandomizedSearchCV or do it manually."
      ]
    },
    {
      "cell_type": "code",
      "metadata": {
        "id": "2Yh3KpsY8ggh",
        "colab_type": "code",
        "colab": {}
      },
      "source": [
        ""
      ],
      "execution_count": 0,
      "outputs": []
    }
  ]
}